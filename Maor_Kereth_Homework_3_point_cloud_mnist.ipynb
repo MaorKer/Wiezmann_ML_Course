{
  "nbformat": 4,
  "nbformat_minor": 0,
  "metadata": {
    "kernelspec": {
      "display_name": "Python 3",
      "language": "python",
      "name": "python3"
    },
    "language_info": {
      "codemirror_mode": {
        "name": "ipython",
        "version": 3
      },
      "file_extension": ".py",
      "mimetype": "text/x-python",
      "name": "python",
      "nbconvert_exporter": "python",
      "pygments_lexer": "ipython3",
      "version": "3.8.2"
    },
    "colab": {
      "name": "Maor Kereth-Homework_3_point_cloud_mnist.ipynb",
      "provenance": [],
      "collapsed_sections": [],
      "toc_visible": true,
      "include_colab_link": true
    },
    "accelerator": "GPU",
    "widgets": {
      "application/vnd.jupyter.widget-state+json": {
        "f85906eb32ab46cfb248042aa00fc22c": {
          "model_module": "@jupyter-widgets/controls",
          "model_name": "HBoxModel",
          "state": {
            "_view_name": "HBoxView",
            "_dom_classes": [],
            "_model_name": "HBoxModel",
            "_view_module": "@jupyter-widgets/controls",
            "_model_module_version": "1.5.0",
            "_view_count": null,
            "_view_module_version": "1.5.0",
            "box_style": "",
            "layout": "IPY_MODEL_885a2a0e717b4d2ea66d56d65326a4a4",
            "_model_module": "@jupyter-widgets/controls",
            "children": [
              "IPY_MODEL_4a4ef959e27048e5a0224a15189ee5d0",
              "IPY_MODEL_eb4c8a5a97e24ab1a77cd951c12da745"
            ]
          }
        },
        "885a2a0e717b4d2ea66d56d65326a4a4": {
          "model_module": "@jupyter-widgets/base",
          "model_name": "LayoutModel",
          "state": {
            "_view_name": "LayoutView",
            "grid_template_rows": null,
            "right": null,
            "justify_content": null,
            "_view_module": "@jupyter-widgets/base",
            "overflow": null,
            "_model_module_version": "1.2.0",
            "_view_count": null,
            "flex_flow": null,
            "width": null,
            "min_width": null,
            "border": null,
            "align_items": null,
            "bottom": null,
            "_model_module": "@jupyter-widgets/base",
            "top": null,
            "grid_column": null,
            "overflow_y": null,
            "overflow_x": null,
            "grid_auto_flow": null,
            "grid_area": null,
            "grid_template_columns": null,
            "flex": null,
            "_model_name": "LayoutModel",
            "justify_items": null,
            "grid_row": null,
            "max_height": null,
            "align_content": null,
            "visibility": null,
            "align_self": null,
            "height": null,
            "min_height": null,
            "padding": null,
            "grid_auto_rows": null,
            "grid_gap": null,
            "max_width": null,
            "order": null,
            "_view_module_version": "1.2.0",
            "grid_template_areas": null,
            "object_position": null,
            "object_fit": null,
            "grid_auto_columns": null,
            "margin": null,
            "display": null,
            "left": null
          }
        },
        "4a4ef959e27048e5a0224a15189ee5d0": {
          "model_module": "@jupyter-widgets/controls",
          "model_name": "FloatProgressModel",
          "state": {
            "_view_name": "ProgressView",
            "style": "IPY_MODEL_7f1ed624c1e344ac93067b45a6feb3ba",
            "_dom_classes": [],
            "description": "100%",
            "_model_name": "FloatProgressModel",
            "bar_style": "success",
            "max": 10,
            "_view_module": "@jupyter-widgets/controls",
            "_model_module_version": "1.5.0",
            "value": 10,
            "_view_count": null,
            "_view_module_version": "1.5.0",
            "orientation": "horizontal",
            "min": 0,
            "description_tooltip": null,
            "_model_module": "@jupyter-widgets/controls",
            "layout": "IPY_MODEL_9f169748556b46c6b375ef501689cfde"
          }
        },
        "eb4c8a5a97e24ab1a77cd951c12da745": {
          "model_module": "@jupyter-widgets/controls",
          "model_name": "HTMLModel",
          "state": {
            "_view_name": "HTMLView",
            "style": "IPY_MODEL_6fd99390a00348a585ab950f1503c0bd",
            "_dom_classes": [],
            "description": "",
            "_model_name": "HTMLModel",
            "placeholder": "​",
            "_view_module": "@jupyter-widgets/controls",
            "_model_module_version": "1.5.0",
            "value": " 10/10 [03:05&lt;00:00, 18.55s/it]",
            "_view_count": null,
            "_view_module_version": "1.5.0",
            "description_tooltip": null,
            "_model_module": "@jupyter-widgets/controls",
            "layout": "IPY_MODEL_5c606d42d2a1460a867f2614fb260800"
          }
        },
        "7f1ed624c1e344ac93067b45a6feb3ba": {
          "model_module": "@jupyter-widgets/controls",
          "model_name": "ProgressStyleModel",
          "state": {
            "_view_name": "StyleView",
            "_model_name": "ProgressStyleModel",
            "description_width": "initial",
            "_view_module": "@jupyter-widgets/base",
            "_model_module_version": "1.5.0",
            "_view_count": null,
            "_view_module_version": "1.2.0",
            "bar_color": null,
            "_model_module": "@jupyter-widgets/controls"
          }
        },
        "9f169748556b46c6b375ef501689cfde": {
          "model_module": "@jupyter-widgets/base",
          "model_name": "LayoutModel",
          "state": {
            "_view_name": "LayoutView",
            "grid_template_rows": null,
            "right": null,
            "justify_content": null,
            "_view_module": "@jupyter-widgets/base",
            "overflow": null,
            "_model_module_version": "1.2.0",
            "_view_count": null,
            "flex_flow": null,
            "width": null,
            "min_width": null,
            "border": null,
            "align_items": null,
            "bottom": null,
            "_model_module": "@jupyter-widgets/base",
            "top": null,
            "grid_column": null,
            "overflow_y": null,
            "overflow_x": null,
            "grid_auto_flow": null,
            "grid_area": null,
            "grid_template_columns": null,
            "flex": null,
            "_model_name": "LayoutModel",
            "justify_items": null,
            "grid_row": null,
            "max_height": null,
            "align_content": null,
            "visibility": null,
            "align_self": null,
            "height": null,
            "min_height": null,
            "padding": null,
            "grid_auto_rows": null,
            "grid_gap": null,
            "max_width": null,
            "order": null,
            "_view_module_version": "1.2.0",
            "grid_template_areas": null,
            "object_position": null,
            "object_fit": null,
            "grid_auto_columns": null,
            "margin": null,
            "display": null,
            "left": null
          }
        },
        "6fd99390a00348a585ab950f1503c0bd": {
          "model_module": "@jupyter-widgets/controls",
          "model_name": "DescriptionStyleModel",
          "state": {
            "_view_name": "StyleView",
            "_model_name": "DescriptionStyleModel",
            "description_width": "",
            "_view_module": "@jupyter-widgets/base",
            "_model_module_version": "1.5.0",
            "_view_count": null,
            "_view_module_version": "1.2.0",
            "_model_module": "@jupyter-widgets/controls"
          }
        },
        "5c606d42d2a1460a867f2614fb260800": {
          "model_module": "@jupyter-widgets/base",
          "model_name": "LayoutModel",
          "state": {
            "_view_name": "LayoutView",
            "grid_template_rows": null,
            "right": null,
            "justify_content": null,
            "_view_module": "@jupyter-widgets/base",
            "overflow": null,
            "_model_module_version": "1.2.0",
            "_view_count": null,
            "flex_flow": null,
            "width": null,
            "min_width": null,
            "border": null,
            "align_items": null,
            "bottom": null,
            "_model_module": "@jupyter-widgets/base",
            "top": null,
            "grid_column": null,
            "overflow_y": null,
            "overflow_x": null,
            "grid_auto_flow": null,
            "grid_area": null,
            "grid_template_columns": null,
            "flex": null,
            "_model_name": "LayoutModel",
            "justify_items": null,
            "grid_row": null,
            "max_height": null,
            "align_content": null,
            "visibility": null,
            "align_self": null,
            "height": null,
            "min_height": null,
            "padding": null,
            "grid_auto_rows": null,
            "grid_gap": null,
            "max_width": null,
            "order": null,
            "_view_module_version": "1.2.0",
            "grid_template_areas": null,
            "object_position": null,
            "object_fit": null,
            "grid_auto_columns": null,
            "margin": null,
            "display": null,
            "left": null
          }
        },
        "aeaf4dd68fc749f2af1d99c9ccdf9e2c": {
          "model_module": "@jupyter-widgets/controls",
          "model_name": "HBoxModel",
          "state": {
            "_view_name": "HBoxView",
            "_dom_classes": [],
            "_model_name": "HBoxModel",
            "_view_module": "@jupyter-widgets/controls",
            "_model_module_version": "1.5.0",
            "_view_count": null,
            "_view_module_version": "1.5.0",
            "box_style": "",
            "layout": "IPY_MODEL_734a90fb0c4c48988b6f54e882cca785",
            "_model_module": "@jupyter-widgets/controls",
            "children": [
              "IPY_MODEL_795d6b2563f94770930cb88699b0499b",
              "IPY_MODEL_7c9eb35533654f44b4850d5d7934e1d2"
            ]
          }
        },
        "734a90fb0c4c48988b6f54e882cca785": {
          "model_module": "@jupyter-widgets/base",
          "model_name": "LayoutModel",
          "state": {
            "_view_name": "LayoutView",
            "grid_template_rows": null,
            "right": null,
            "justify_content": null,
            "_view_module": "@jupyter-widgets/base",
            "overflow": null,
            "_model_module_version": "1.2.0",
            "_view_count": null,
            "flex_flow": null,
            "width": null,
            "min_width": null,
            "border": null,
            "align_items": null,
            "bottom": null,
            "_model_module": "@jupyter-widgets/base",
            "top": null,
            "grid_column": null,
            "overflow_y": null,
            "overflow_x": null,
            "grid_auto_flow": null,
            "grid_area": null,
            "grid_template_columns": null,
            "flex": null,
            "_model_name": "LayoutModel",
            "justify_items": null,
            "grid_row": null,
            "max_height": null,
            "align_content": null,
            "visibility": null,
            "align_self": null,
            "height": null,
            "min_height": null,
            "padding": null,
            "grid_auto_rows": null,
            "grid_gap": null,
            "max_width": null,
            "order": null,
            "_view_module_version": "1.2.0",
            "grid_template_areas": null,
            "object_position": null,
            "object_fit": null,
            "grid_auto_columns": null,
            "margin": null,
            "display": null,
            "left": null
          }
        },
        "795d6b2563f94770930cb88699b0499b": {
          "model_module": "@jupyter-widgets/controls",
          "model_name": "FloatProgressModel",
          "state": {
            "_view_name": "ProgressView",
            "style": "IPY_MODEL_33b1192fef8a492e8762a8dbf27066e2",
            "_dom_classes": [],
            "description": "",
            "_model_name": "FloatProgressModel",
            "bar_style": "success",
            "max": 1,
            "_view_module": "@jupyter-widgets/controls",
            "_model_module_version": "1.5.0",
            "value": 1,
            "_view_count": null,
            "_view_module_version": "1.5.0",
            "orientation": "horizontal",
            "min": 0,
            "description_tooltip": null,
            "_model_module": "@jupyter-widgets/controls",
            "layout": "IPY_MODEL_9aaa8b3068484158905b42ba11f2f372"
          }
        },
        "7c9eb35533654f44b4850d5d7934e1d2": {
          "model_module": "@jupyter-widgets/controls",
          "model_name": "HTMLModel",
          "state": {
            "_view_name": "HTMLView",
            "style": "IPY_MODEL_3ebfb16bcc7f4b81b6f4e472a142cb96",
            "_dom_classes": [],
            "description": "",
            "_model_name": "HTMLModel",
            "placeholder": "​",
            "_view_module": "@jupyter-widgets/controls",
            "_model_module_version": "1.5.0",
            "value": " 246/? [01:33&lt;00:00,  2.63it/s]",
            "_view_count": null,
            "_view_module_version": "1.5.0",
            "description_tooltip": null,
            "_model_module": "@jupyter-widgets/controls",
            "layout": "IPY_MODEL_6d6623678f994eadac7f4f9889fcc324"
          }
        },
        "33b1192fef8a492e8762a8dbf27066e2": {
          "model_module": "@jupyter-widgets/controls",
          "model_name": "ProgressStyleModel",
          "state": {
            "_view_name": "StyleView",
            "_model_name": "ProgressStyleModel",
            "description_width": "initial",
            "_view_module": "@jupyter-widgets/base",
            "_model_module_version": "1.5.0",
            "_view_count": null,
            "_view_module_version": "1.2.0",
            "bar_color": null,
            "_model_module": "@jupyter-widgets/controls"
          }
        },
        "9aaa8b3068484158905b42ba11f2f372": {
          "model_module": "@jupyter-widgets/base",
          "model_name": "LayoutModel",
          "state": {
            "_view_name": "LayoutView",
            "grid_template_rows": null,
            "right": null,
            "justify_content": null,
            "_view_module": "@jupyter-widgets/base",
            "overflow": null,
            "_model_module_version": "1.2.0",
            "_view_count": null,
            "flex_flow": null,
            "width": null,
            "min_width": null,
            "border": null,
            "align_items": null,
            "bottom": null,
            "_model_module": "@jupyter-widgets/base",
            "top": null,
            "grid_column": null,
            "overflow_y": null,
            "overflow_x": null,
            "grid_auto_flow": null,
            "grid_area": null,
            "grid_template_columns": null,
            "flex": null,
            "_model_name": "LayoutModel",
            "justify_items": null,
            "grid_row": null,
            "max_height": null,
            "align_content": null,
            "visibility": null,
            "align_self": null,
            "height": null,
            "min_height": null,
            "padding": null,
            "grid_auto_rows": null,
            "grid_gap": null,
            "max_width": null,
            "order": null,
            "_view_module_version": "1.2.0",
            "grid_template_areas": null,
            "object_position": null,
            "object_fit": null,
            "grid_auto_columns": null,
            "margin": null,
            "display": null,
            "left": null
          }
        },
        "3ebfb16bcc7f4b81b6f4e472a142cb96": {
          "model_module": "@jupyter-widgets/controls",
          "model_name": "DescriptionStyleModel",
          "state": {
            "_view_name": "StyleView",
            "_model_name": "DescriptionStyleModel",
            "description_width": "",
            "_view_module": "@jupyter-widgets/base",
            "_model_module_version": "1.5.0",
            "_view_count": null,
            "_view_module_version": "1.2.0",
            "_model_module": "@jupyter-widgets/controls"
          }
        },
        "6d6623678f994eadac7f4f9889fcc324": {
          "model_module": "@jupyter-widgets/base",
          "model_name": "LayoutModel",
          "state": {
            "_view_name": "LayoutView",
            "grid_template_rows": null,
            "right": null,
            "justify_content": null,
            "_view_module": "@jupyter-widgets/base",
            "overflow": null,
            "_model_module_version": "1.2.0",
            "_view_count": null,
            "flex_flow": null,
            "width": null,
            "min_width": null,
            "border": null,
            "align_items": null,
            "bottom": null,
            "_model_module": "@jupyter-widgets/base",
            "top": null,
            "grid_column": null,
            "overflow_y": null,
            "overflow_x": null,
            "grid_auto_flow": null,
            "grid_area": null,
            "grid_template_columns": null,
            "flex": null,
            "_model_name": "LayoutModel",
            "justify_items": null,
            "grid_row": null,
            "max_height": null,
            "align_content": null,
            "visibility": null,
            "align_self": null,
            "height": null,
            "min_height": null,
            "padding": null,
            "grid_auto_rows": null,
            "grid_gap": null,
            "max_width": null,
            "order": null,
            "_view_module_version": "1.2.0",
            "grid_template_areas": null,
            "object_position": null,
            "object_fit": null,
            "grid_auto_columns": null,
            "margin": null,
            "display": null,
            "left": null
          }
        },
        "5521e4ba59ed4f968315dab692367038": {
          "model_module": "@jupyter-widgets/controls",
          "model_name": "HBoxModel",
          "state": {
            "_view_name": "HBoxView",
            "_dom_classes": [],
            "_model_name": "HBoxModel",
            "_view_module": "@jupyter-widgets/controls",
            "_model_module_version": "1.5.0",
            "_view_count": null,
            "_view_module_version": "1.5.0",
            "box_style": "",
            "layout": "IPY_MODEL_02d7eca92f7d451aad06d51e5a1fcd0e",
            "_model_module": "@jupyter-widgets/controls",
            "children": [
              "IPY_MODEL_6f0b6bca01464c8ba4b39ec1a57b844c",
              "IPY_MODEL_ae75097764a64ce59653a75a48d7aeb3"
            ]
          }
        },
        "02d7eca92f7d451aad06d51e5a1fcd0e": {
          "model_module": "@jupyter-widgets/base",
          "model_name": "LayoutModel",
          "state": {
            "_view_name": "LayoutView",
            "grid_template_rows": null,
            "right": null,
            "justify_content": null,
            "_view_module": "@jupyter-widgets/base",
            "overflow": null,
            "_model_module_version": "1.2.0",
            "_view_count": null,
            "flex_flow": null,
            "width": null,
            "min_width": null,
            "border": null,
            "align_items": null,
            "bottom": null,
            "_model_module": "@jupyter-widgets/base",
            "top": null,
            "grid_column": null,
            "overflow_y": null,
            "overflow_x": null,
            "grid_auto_flow": null,
            "grid_area": null,
            "grid_template_columns": null,
            "flex": null,
            "_model_name": "LayoutModel",
            "justify_items": null,
            "grid_row": null,
            "max_height": null,
            "align_content": null,
            "visibility": null,
            "align_self": null,
            "height": null,
            "min_height": null,
            "padding": null,
            "grid_auto_rows": null,
            "grid_gap": null,
            "max_width": null,
            "order": null,
            "_view_module_version": "1.2.0",
            "grid_template_areas": null,
            "object_position": null,
            "object_fit": null,
            "grid_auto_columns": null,
            "margin": null,
            "display": null,
            "left": null
          }
        },
        "6f0b6bca01464c8ba4b39ec1a57b844c": {
          "model_module": "@jupyter-widgets/controls",
          "model_name": "FloatProgressModel",
          "state": {
            "_view_name": "ProgressView",
            "style": "IPY_MODEL_a10ba5bf79f742e7bff3942b45a83897",
            "_dom_classes": [],
            "description": "100%",
            "_model_name": "FloatProgressModel",
            "bar_style": "success",
            "max": 246,
            "_view_module": "@jupyter-widgets/controls",
            "_model_module_version": "1.5.0",
            "value": 246,
            "_view_count": null,
            "_view_module_version": "1.5.0",
            "orientation": "horizontal",
            "min": 0,
            "description_tooltip": null,
            "_model_module": "@jupyter-widgets/controls",
            "layout": "IPY_MODEL_6d6b926965b9423ab60f4788004ecbb0"
          }
        },
        "ae75097764a64ce59653a75a48d7aeb3": {
          "model_module": "@jupyter-widgets/controls",
          "model_name": "HTMLModel",
          "state": {
            "_view_name": "HTMLView",
            "style": "IPY_MODEL_8f31acbcff964d899d9a280b84644cad",
            "_dom_classes": [],
            "description": "",
            "_model_name": "HTMLModel",
            "placeholder": "​",
            "_view_module": "@jupyter-widgets/controls",
            "_model_module_version": "1.5.0",
            "value": " 246/246 [01:15&lt;00:00,  3.27it/s]",
            "_view_count": null,
            "_view_module_version": "1.5.0",
            "description_tooltip": null,
            "_model_module": "@jupyter-widgets/controls",
            "layout": "IPY_MODEL_9e5296b7669446ec9f68677d77706ff1"
          }
        },
        "a10ba5bf79f742e7bff3942b45a83897": {
          "model_module": "@jupyter-widgets/controls",
          "model_name": "ProgressStyleModel",
          "state": {
            "_view_name": "StyleView",
            "_model_name": "ProgressStyleModel",
            "description_width": "initial",
            "_view_module": "@jupyter-widgets/base",
            "_model_module_version": "1.5.0",
            "_view_count": null,
            "_view_module_version": "1.2.0",
            "bar_color": null,
            "_model_module": "@jupyter-widgets/controls"
          }
        },
        "6d6b926965b9423ab60f4788004ecbb0": {
          "model_module": "@jupyter-widgets/base",
          "model_name": "LayoutModel",
          "state": {
            "_view_name": "LayoutView",
            "grid_template_rows": null,
            "right": null,
            "justify_content": null,
            "_view_module": "@jupyter-widgets/base",
            "overflow": null,
            "_model_module_version": "1.2.0",
            "_view_count": null,
            "flex_flow": null,
            "width": null,
            "min_width": null,
            "border": null,
            "align_items": null,
            "bottom": null,
            "_model_module": "@jupyter-widgets/base",
            "top": null,
            "grid_column": null,
            "overflow_y": null,
            "overflow_x": null,
            "grid_auto_flow": null,
            "grid_area": null,
            "grid_template_columns": null,
            "flex": null,
            "_model_name": "LayoutModel",
            "justify_items": null,
            "grid_row": null,
            "max_height": null,
            "align_content": null,
            "visibility": null,
            "align_self": null,
            "height": null,
            "min_height": null,
            "padding": null,
            "grid_auto_rows": null,
            "grid_gap": null,
            "max_width": null,
            "order": null,
            "_view_module_version": "1.2.0",
            "grid_template_areas": null,
            "object_position": null,
            "object_fit": null,
            "grid_auto_columns": null,
            "margin": null,
            "display": null,
            "left": null
          }
        },
        "8f31acbcff964d899d9a280b84644cad": {
          "model_module": "@jupyter-widgets/controls",
          "model_name": "DescriptionStyleModel",
          "state": {
            "_view_name": "StyleView",
            "_model_name": "DescriptionStyleModel",
            "description_width": "",
            "_view_module": "@jupyter-widgets/base",
            "_model_module_version": "1.5.0",
            "_view_count": null,
            "_view_module_version": "1.2.0",
            "_model_module": "@jupyter-widgets/controls"
          }
        },
        "9e5296b7669446ec9f68677d77706ff1": {
          "model_module": "@jupyter-widgets/base",
          "model_name": "LayoutModel",
          "state": {
            "_view_name": "LayoutView",
            "grid_template_rows": null,
            "right": null,
            "justify_content": null,
            "_view_module": "@jupyter-widgets/base",
            "overflow": null,
            "_model_module_version": "1.2.0",
            "_view_count": null,
            "flex_flow": null,
            "width": null,
            "min_width": null,
            "border": null,
            "align_items": null,
            "bottom": null,
            "_model_module": "@jupyter-widgets/base",
            "top": null,
            "grid_column": null,
            "overflow_y": null,
            "overflow_x": null,
            "grid_auto_flow": null,
            "grid_area": null,
            "grid_template_columns": null,
            "flex": null,
            "_model_name": "LayoutModel",
            "justify_items": null,
            "grid_row": null,
            "max_height": null,
            "align_content": null,
            "visibility": null,
            "align_self": null,
            "height": null,
            "min_height": null,
            "padding": null,
            "grid_auto_rows": null,
            "grid_gap": null,
            "max_width": null,
            "order": null,
            "_view_module_version": "1.2.0",
            "grid_template_areas": null,
            "object_position": null,
            "object_fit": null,
            "grid_auto_columns": null,
            "margin": null,
            "display": null,
            "left": null
          }
        },
        "99be924a3a4e4dc888dc17af906a709c": {
          "model_module": "@jupyter-widgets/controls",
          "model_name": "HBoxModel",
          "state": {
            "_view_name": "HBoxView",
            "_dom_classes": [],
            "_model_name": "HBoxModel",
            "_view_module": "@jupyter-widgets/controls",
            "_model_module_version": "1.5.0",
            "_view_count": null,
            "_view_module_version": "1.5.0",
            "box_style": "",
            "layout": "IPY_MODEL_fd711b71a40f4d90806fc20a08902077",
            "_model_module": "@jupyter-widgets/controls",
            "children": [
              "IPY_MODEL_dd86391d54594b609d38c15c53d077a5",
              "IPY_MODEL_21d8cf0076694272bab11d6dd13ea53a"
            ]
          }
        },
        "fd711b71a40f4d90806fc20a08902077": {
          "model_module": "@jupyter-widgets/base",
          "model_name": "LayoutModel",
          "state": {
            "_view_name": "LayoutView",
            "grid_template_rows": null,
            "right": null,
            "justify_content": null,
            "_view_module": "@jupyter-widgets/base",
            "overflow": null,
            "_model_module_version": "1.2.0",
            "_view_count": null,
            "flex_flow": null,
            "width": null,
            "min_width": null,
            "border": null,
            "align_items": null,
            "bottom": null,
            "_model_module": "@jupyter-widgets/base",
            "top": null,
            "grid_column": null,
            "overflow_y": null,
            "overflow_x": null,
            "grid_auto_flow": null,
            "grid_area": null,
            "grid_template_columns": null,
            "flex": null,
            "_model_name": "LayoutModel",
            "justify_items": null,
            "grid_row": null,
            "max_height": null,
            "align_content": null,
            "visibility": null,
            "align_self": null,
            "height": null,
            "min_height": null,
            "padding": null,
            "grid_auto_rows": null,
            "grid_gap": null,
            "max_width": null,
            "order": null,
            "_view_module_version": "1.2.0",
            "grid_template_areas": null,
            "object_position": null,
            "object_fit": null,
            "grid_auto_columns": null,
            "margin": null,
            "display": null,
            "left": null
          }
        },
        "dd86391d54594b609d38c15c53d077a5": {
          "model_module": "@jupyter-widgets/controls",
          "model_name": "FloatProgressModel",
          "state": {
            "_view_name": "ProgressView",
            "style": "IPY_MODEL_2bfb0fd62b9642a3a0eaa1410a7cbcc3",
            "_dom_classes": [],
            "description": "100%",
            "_model_name": "FloatProgressModel",
            "bar_style": "success",
            "max": 246,
            "_view_module": "@jupyter-widgets/controls",
            "_model_module_version": "1.5.0",
            "value": 246,
            "_view_count": null,
            "_view_module_version": "1.5.0",
            "orientation": "horizontal",
            "min": 0,
            "description_tooltip": null,
            "_model_module": "@jupyter-widgets/controls",
            "layout": "IPY_MODEL_950e19c61d6d4f8780746fa852a5a8c7"
          }
        },
        "21d8cf0076694272bab11d6dd13ea53a": {
          "model_module": "@jupyter-widgets/controls",
          "model_name": "HTMLModel",
          "state": {
            "_view_name": "HTMLView",
            "style": "IPY_MODEL_8f197a7600474f51abedb21aa8f68831",
            "_dom_classes": [],
            "description": "",
            "_model_name": "HTMLModel",
            "placeholder": "​",
            "_view_module": "@jupyter-widgets/controls",
            "_model_module_version": "1.5.0",
            "value": " 246/246 [00:19&lt;00:00, 12.72it/s]",
            "_view_count": null,
            "_view_module_version": "1.5.0",
            "description_tooltip": null,
            "_model_module": "@jupyter-widgets/controls",
            "layout": "IPY_MODEL_c32dd04b5c5a4287bfebc464b2bd405a"
          }
        },
        "2bfb0fd62b9642a3a0eaa1410a7cbcc3": {
          "model_module": "@jupyter-widgets/controls",
          "model_name": "ProgressStyleModel",
          "state": {
            "_view_name": "StyleView",
            "_model_name": "ProgressStyleModel",
            "description_width": "initial",
            "_view_module": "@jupyter-widgets/base",
            "_model_module_version": "1.5.0",
            "_view_count": null,
            "_view_module_version": "1.2.0",
            "bar_color": null,
            "_model_module": "@jupyter-widgets/controls"
          }
        },
        "950e19c61d6d4f8780746fa852a5a8c7": {
          "model_module": "@jupyter-widgets/base",
          "model_name": "LayoutModel",
          "state": {
            "_view_name": "LayoutView",
            "grid_template_rows": null,
            "right": null,
            "justify_content": null,
            "_view_module": "@jupyter-widgets/base",
            "overflow": null,
            "_model_module_version": "1.2.0",
            "_view_count": null,
            "flex_flow": null,
            "width": null,
            "min_width": null,
            "border": null,
            "align_items": null,
            "bottom": null,
            "_model_module": "@jupyter-widgets/base",
            "top": null,
            "grid_column": null,
            "overflow_y": null,
            "overflow_x": null,
            "grid_auto_flow": null,
            "grid_area": null,
            "grid_template_columns": null,
            "flex": null,
            "_model_name": "LayoutModel",
            "justify_items": null,
            "grid_row": null,
            "max_height": null,
            "align_content": null,
            "visibility": null,
            "align_self": null,
            "height": null,
            "min_height": null,
            "padding": null,
            "grid_auto_rows": null,
            "grid_gap": null,
            "max_width": null,
            "order": null,
            "_view_module_version": "1.2.0",
            "grid_template_areas": null,
            "object_position": null,
            "object_fit": null,
            "grid_auto_columns": null,
            "margin": null,
            "display": null,
            "left": null
          }
        },
        "8f197a7600474f51abedb21aa8f68831": {
          "model_module": "@jupyter-widgets/controls",
          "model_name": "DescriptionStyleModel",
          "state": {
            "_view_name": "StyleView",
            "_model_name": "DescriptionStyleModel",
            "description_width": "",
            "_view_module": "@jupyter-widgets/base",
            "_model_module_version": "1.5.0",
            "_view_count": null,
            "_view_module_version": "1.2.0",
            "_model_module": "@jupyter-widgets/controls"
          }
        },
        "c32dd04b5c5a4287bfebc464b2bd405a": {
          "model_module": "@jupyter-widgets/base",
          "model_name": "LayoutModel",
          "state": {
            "_view_name": "LayoutView",
            "grid_template_rows": null,
            "right": null,
            "justify_content": null,
            "_view_module": "@jupyter-widgets/base",
            "overflow": null,
            "_model_module_version": "1.2.0",
            "_view_count": null,
            "flex_flow": null,
            "width": null,
            "min_width": null,
            "border": null,
            "align_items": null,
            "bottom": null,
            "_model_module": "@jupyter-widgets/base",
            "top": null,
            "grid_column": null,
            "overflow_y": null,
            "overflow_x": null,
            "grid_auto_flow": null,
            "grid_area": null,
            "grid_template_columns": null,
            "flex": null,
            "_model_name": "LayoutModel",
            "justify_items": null,
            "grid_row": null,
            "max_height": null,
            "align_content": null,
            "visibility": null,
            "align_self": null,
            "height": null,
            "min_height": null,
            "padding": null,
            "grid_auto_rows": null,
            "grid_gap": null,
            "max_width": null,
            "order": null,
            "_view_module_version": "1.2.0",
            "grid_template_areas": null,
            "object_position": null,
            "object_fit": null,
            "grid_auto_columns": null,
            "margin": null,
            "display": null,
            "left": null
          }
        },
        "d6abb343634c4e39adc776d073d36c34": {
          "model_module": "@jupyter-widgets/controls",
          "model_name": "HBoxModel",
          "state": {
            "_view_name": "HBoxView",
            "_dom_classes": [],
            "_model_name": "HBoxModel",
            "_view_module": "@jupyter-widgets/controls",
            "_model_module_version": "1.5.0",
            "_view_count": null,
            "_view_module_version": "1.5.0",
            "box_style": "",
            "layout": "IPY_MODEL_f744173aa83943428e049ea47a9084b0",
            "_model_module": "@jupyter-widgets/controls",
            "children": [
              "IPY_MODEL_2b10ce8234094a198ddbc7b216dd182f",
              "IPY_MODEL_caa25e1ec9324ca6a0bc3eab3fb9755c"
            ]
          }
        },
        "f744173aa83943428e049ea47a9084b0": {
          "model_module": "@jupyter-widgets/base",
          "model_name": "LayoutModel",
          "state": {
            "_view_name": "LayoutView",
            "grid_template_rows": null,
            "right": null,
            "justify_content": null,
            "_view_module": "@jupyter-widgets/base",
            "overflow": null,
            "_model_module_version": "1.2.0",
            "_view_count": null,
            "flex_flow": null,
            "width": null,
            "min_width": null,
            "border": null,
            "align_items": null,
            "bottom": null,
            "_model_module": "@jupyter-widgets/base",
            "top": null,
            "grid_column": null,
            "overflow_y": null,
            "overflow_x": null,
            "grid_auto_flow": null,
            "grid_area": null,
            "grid_template_columns": null,
            "flex": null,
            "_model_name": "LayoutModel",
            "justify_items": null,
            "grid_row": null,
            "max_height": null,
            "align_content": null,
            "visibility": null,
            "align_self": null,
            "height": null,
            "min_height": null,
            "padding": null,
            "grid_auto_rows": null,
            "grid_gap": null,
            "max_width": null,
            "order": null,
            "_view_module_version": "1.2.0",
            "grid_template_areas": null,
            "object_position": null,
            "object_fit": null,
            "grid_auto_columns": null,
            "margin": null,
            "display": null,
            "left": null
          }
        },
        "2b10ce8234094a198ddbc7b216dd182f": {
          "model_module": "@jupyter-widgets/controls",
          "model_name": "FloatProgressModel",
          "state": {
            "_view_name": "ProgressView",
            "style": "IPY_MODEL_e1a5a5c8d91e458eb809fec7bce1ce91",
            "_dom_classes": [],
            "description": "100%",
            "_model_name": "FloatProgressModel",
            "bar_style": "success",
            "max": 246,
            "_view_module": "@jupyter-widgets/controls",
            "_model_module_version": "1.5.0",
            "value": 246,
            "_view_count": null,
            "_view_module_version": "1.5.0",
            "orientation": "horizontal",
            "min": 0,
            "description_tooltip": null,
            "_model_module": "@jupyter-widgets/controls",
            "layout": "IPY_MODEL_597b4c6fb6de4bdba51b063eb78d4e4b"
          }
        },
        "caa25e1ec9324ca6a0bc3eab3fb9755c": {
          "model_module": "@jupyter-widgets/controls",
          "model_name": "HTMLModel",
          "state": {
            "_view_name": "HTMLView",
            "style": "IPY_MODEL_9113ca94056c44d8aa044e6278c4ba0c",
            "_dom_classes": [],
            "description": "",
            "_model_name": "HTMLModel",
            "placeholder": "​",
            "_view_module": "@jupyter-widgets/controls",
            "_model_module_version": "1.5.0",
            "value": " 246/246 [00:38&lt;00:00,  6.45it/s]",
            "_view_count": null,
            "_view_module_version": "1.5.0",
            "description_tooltip": null,
            "_model_module": "@jupyter-widgets/controls",
            "layout": "IPY_MODEL_1d49e976542248e69622053ea846e35a"
          }
        },
        "e1a5a5c8d91e458eb809fec7bce1ce91": {
          "model_module": "@jupyter-widgets/controls",
          "model_name": "ProgressStyleModel",
          "state": {
            "_view_name": "StyleView",
            "_model_name": "ProgressStyleModel",
            "description_width": "initial",
            "_view_module": "@jupyter-widgets/base",
            "_model_module_version": "1.5.0",
            "_view_count": null,
            "_view_module_version": "1.2.0",
            "bar_color": null,
            "_model_module": "@jupyter-widgets/controls"
          }
        },
        "597b4c6fb6de4bdba51b063eb78d4e4b": {
          "model_module": "@jupyter-widgets/base",
          "model_name": "LayoutModel",
          "state": {
            "_view_name": "LayoutView",
            "grid_template_rows": null,
            "right": null,
            "justify_content": null,
            "_view_module": "@jupyter-widgets/base",
            "overflow": null,
            "_model_module_version": "1.2.0",
            "_view_count": null,
            "flex_flow": null,
            "width": null,
            "min_width": null,
            "border": null,
            "align_items": null,
            "bottom": null,
            "_model_module": "@jupyter-widgets/base",
            "top": null,
            "grid_column": null,
            "overflow_y": null,
            "overflow_x": null,
            "grid_auto_flow": null,
            "grid_area": null,
            "grid_template_columns": null,
            "flex": null,
            "_model_name": "LayoutModel",
            "justify_items": null,
            "grid_row": null,
            "max_height": null,
            "align_content": null,
            "visibility": null,
            "align_self": null,
            "height": null,
            "min_height": null,
            "padding": null,
            "grid_auto_rows": null,
            "grid_gap": null,
            "max_width": null,
            "order": null,
            "_view_module_version": "1.2.0",
            "grid_template_areas": null,
            "object_position": null,
            "object_fit": null,
            "grid_auto_columns": null,
            "margin": null,
            "display": null,
            "left": null
          }
        },
        "9113ca94056c44d8aa044e6278c4ba0c": {
          "model_module": "@jupyter-widgets/controls",
          "model_name": "DescriptionStyleModel",
          "state": {
            "_view_name": "StyleView",
            "_model_name": "DescriptionStyleModel",
            "description_width": "",
            "_view_module": "@jupyter-widgets/base",
            "_model_module_version": "1.5.0",
            "_view_count": null,
            "_view_module_version": "1.2.0",
            "_model_module": "@jupyter-widgets/controls"
          }
        },
        "1d49e976542248e69622053ea846e35a": {
          "model_module": "@jupyter-widgets/base",
          "model_name": "LayoutModel",
          "state": {
            "_view_name": "LayoutView",
            "grid_template_rows": null,
            "right": null,
            "justify_content": null,
            "_view_module": "@jupyter-widgets/base",
            "overflow": null,
            "_model_module_version": "1.2.0",
            "_view_count": null,
            "flex_flow": null,
            "width": null,
            "min_width": null,
            "border": null,
            "align_items": null,
            "bottom": null,
            "_model_module": "@jupyter-widgets/base",
            "top": null,
            "grid_column": null,
            "overflow_y": null,
            "overflow_x": null,
            "grid_auto_flow": null,
            "grid_area": null,
            "grid_template_columns": null,
            "flex": null,
            "_model_name": "LayoutModel",
            "justify_items": null,
            "grid_row": null,
            "max_height": null,
            "align_content": null,
            "visibility": null,
            "align_self": null,
            "height": null,
            "min_height": null,
            "padding": null,
            "grid_auto_rows": null,
            "grid_gap": null,
            "max_width": null,
            "order": null,
            "_view_module_version": "1.2.0",
            "grid_template_areas": null,
            "object_position": null,
            "object_fit": null,
            "grid_auto_columns": null,
            "margin": null,
            "display": null,
            "left": null
          }
        },
        "37f71de95ca545aa82263d02906c4c0b": {
          "model_module": "@jupyter-widgets/controls",
          "model_name": "HBoxModel",
          "state": {
            "_view_name": "HBoxView",
            "_dom_classes": [],
            "_model_name": "HBoxModel",
            "_view_module": "@jupyter-widgets/controls",
            "_model_module_version": "1.5.0",
            "_view_count": null,
            "_view_module_version": "1.5.0",
            "box_style": "",
            "layout": "IPY_MODEL_67bdd8832f4f4baf9d9c6af838b4a440",
            "_model_module": "@jupyter-widgets/controls",
            "children": [
              "IPY_MODEL_b72c2c4f316548ae89aeced3b7ea3e9e",
              "IPY_MODEL_5032d2077a994f7085f237619798d63d"
            ]
          }
        },
        "67bdd8832f4f4baf9d9c6af838b4a440": {
          "model_module": "@jupyter-widgets/base",
          "model_name": "LayoutModel",
          "state": {
            "_view_name": "LayoutView",
            "grid_template_rows": null,
            "right": null,
            "justify_content": null,
            "_view_module": "@jupyter-widgets/base",
            "overflow": null,
            "_model_module_version": "1.2.0",
            "_view_count": null,
            "flex_flow": null,
            "width": null,
            "min_width": null,
            "border": null,
            "align_items": null,
            "bottom": null,
            "_model_module": "@jupyter-widgets/base",
            "top": null,
            "grid_column": null,
            "overflow_y": null,
            "overflow_x": null,
            "grid_auto_flow": null,
            "grid_area": null,
            "grid_template_columns": null,
            "flex": null,
            "_model_name": "LayoutModel",
            "justify_items": null,
            "grid_row": null,
            "max_height": null,
            "align_content": null,
            "visibility": null,
            "align_self": null,
            "height": null,
            "min_height": null,
            "padding": null,
            "grid_auto_rows": null,
            "grid_gap": null,
            "max_width": null,
            "order": null,
            "_view_module_version": "1.2.0",
            "grid_template_areas": null,
            "object_position": null,
            "object_fit": null,
            "grid_auto_columns": null,
            "margin": null,
            "display": null,
            "left": null
          }
        },
        "b72c2c4f316548ae89aeced3b7ea3e9e": {
          "model_module": "@jupyter-widgets/controls",
          "model_name": "FloatProgressModel",
          "state": {
            "_view_name": "ProgressView",
            "style": "IPY_MODEL_cf48204d3bef43e3b20f6e7a9511b752",
            "_dom_classes": [],
            "description": "100%",
            "_model_name": "FloatProgressModel",
            "bar_style": "success",
            "max": 246,
            "_view_module": "@jupyter-widgets/controls",
            "_model_module_version": "1.5.0",
            "value": 246,
            "_view_count": null,
            "_view_module_version": "1.5.0",
            "orientation": "horizontal",
            "min": 0,
            "description_tooltip": null,
            "_model_module": "@jupyter-widgets/controls",
            "layout": "IPY_MODEL_b665739bdc314f41bd0632ff09b1fa41"
          }
        },
        "5032d2077a994f7085f237619798d63d": {
          "model_module": "@jupyter-widgets/controls",
          "model_name": "HTMLModel",
          "state": {
            "_view_name": "HTMLView",
            "style": "IPY_MODEL_e29d46f6bf8045a9abfadcc32498bf26",
            "_dom_classes": [],
            "description": "",
            "_model_name": "HTMLModel",
            "placeholder": "​",
            "_view_module": "@jupyter-widgets/controls",
            "_model_module_version": "1.5.0",
            "value": " 246/246 [00:19&lt;00:00, 12.74it/s]",
            "_view_count": null,
            "_view_module_version": "1.5.0",
            "description_tooltip": null,
            "_model_module": "@jupyter-widgets/controls",
            "layout": "IPY_MODEL_3fc09e8104794858b4a5bafda5b1a498"
          }
        },
        "cf48204d3bef43e3b20f6e7a9511b752": {
          "model_module": "@jupyter-widgets/controls",
          "model_name": "ProgressStyleModel",
          "state": {
            "_view_name": "StyleView",
            "_model_name": "ProgressStyleModel",
            "description_width": "initial",
            "_view_module": "@jupyter-widgets/base",
            "_model_module_version": "1.5.0",
            "_view_count": null,
            "_view_module_version": "1.2.0",
            "bar_color": null,
            "_model_module": "@jupyter-widgets/controls"
          }
        },
        "b665739bdc314f41bd0632ff09b1fa41": {
          "model_module": "@jupyter-widgets/base",
          "model_name": "LayoutModel",
          "state": {
            "_view_name": "LayoutView",
            "grid_template_rows": null,
            "right": null,
            "justify_content": null,
            "_view_module": "@jupyter-widgets/base",
            "overflow": null,
            "_model_module_version": "1.2.0",
            "_view_count": null,
            "flex_flow": null,
            "width": null,
            "min_width": null,
            "border": null,
            "align_items": null,
            "bottom": null,
            "_model_module": "@jupyter-widgets/base",
            "top": null,
            "grid_column": null,
            "overflow_y": null,
            "overflow_x": null,
            "grid_auto_flow": null,
            "grid_area": null,
            "grid_template_columns": null,
            "flex": null,
            "_model_name": "LayoutModel",
            "justify_items": null,
            "grid_row": null,
            "max_height": null,
            "align_content": null,
            "visibility": null,
            "align_self": null,
            "height": null,
            "min_height": null,
            "padding": null,
            "grid_auto_rows": null,
            "grid_gap": null,
            "max_width": null,
            "order": null,
            "_view_module_version": "1.2.0",
            "grid_template_areas": null,
            "object_position": null,
            "object_fit": null,
            "grid_auto_columns": null,
            "margin": null,
            "display": null,
            "left": null
          }
        },
        "e29d46f6bf8045a9abfadcc32498bf26": {
          "model_module": "@jupyter-widgets/controls",
          "model_name": "DescriptionStyleModel",
          "state": {
            "_view_name": "StyleView",
            "_model_name": "DescriptionStyleModel",
            "description_width": "",
            "_view_module": "@jupyter-widgets/base",
            "_model_module_version": "1.5.0",
            "_view_count": null,
            "_view_module_version": "1.2.0",
            "_model_module": "@jupyter-widgets/controls"
          }
        },
        "3fc09e8104794858b4a5bafda5b1a498": {
          "model_module": "@jupyter-widgets/base",
          "model_name": "LayoutModel",
          "state": {
            "_view_name": "LayoutView",
            "grid_template_rows": null,
            "right": null,
            "justify_content": null,
            "_view_module": "@jupyter-widgets/base",
            "overflow": null,
            "_model_module_version": "1.2.0",
            "_view_count": null,
            "flex_flow": null,
            "width": null,
            "min_width": null,
            "border": null,
            "align_items": null,
            "bottom": null,
            "_model_module": "@jupyter-widgets/base",
            "top": null,
            "grid_column": null,
            "overflow_y": null,
            "overflow_x": null,
            "grid_auto_flow": null,
            "grid_area": null,
            "grid_template_columns": null,
            "flex": null,
            "_model_name": "LayoutModel",
            "justify_items": null,
            "grid_row": null,
            "max_height": null,
            "align_content": null,
            "visibility": null,
            "align_self": null,
            "height": null,
            "min_height": null,
            "padding": null,
            "grid_auto_rows": null,
            "grid_gap": null,
            "max_width": null,
            "order": null,
            "_view_module_version": "1.2.0",
            "grid_template_areas": null,
            "object_position": null,
            "object_fit": null,
            "grid_auto_columns": null,
            "margin": null,
            "display": null,
            "left": null
          }
        },
        "a10530402a1b4c05a82141524291f9c6": {
          "model_module": "@jupyter-widgets/controls",
          "model_name": "HBoxModel",
          "state": {
            "_view_name": "HBoxView",
            "_dom_classes": [],
            "_model_name": "HBoxModel",
            "_view_module": "@jupyter-widgets/controls",
            "_model_module_version": "1.5.0",
            "_view_count": null,
            "_view_module_version": "1.5.0",
            "box_style": "",
            "layout": "IPY_MODEL_dd3baedacd164cadb12431f681e86bc3",
            "_model_module": "@jupyter-widgets/controls",
            "children": [
              "IPY_MODEL_4dcdb0b11d9741289e0d4855acf5564d",
              "IPY_MODEL_43220d1ddfb04d2080e3f7c61de2fdb7"
            ]
          }
        },
        "dd3baedacd164cadb12431f681e86bc3": {
          "model_module": "@jupyter-widgets/base",
          "model_name": "LayoutModel",
          "state": {
            "_view_name": "LayoutView",
            "grid_template_rows": null,
            "right": null,
            "justify_content": null,
            "_view_module": "@jupyter-widgets/base",
            "overflow": null,
            "_model_module_version": "1.2.0",
            "_view_count": null,
            "flex_flow": null,
            "width": null,
            "min_width": null,
            "border": null,
            "align_items": null,
            "bottom": null,
            "_model_module": "@jupyter-widgets/base",
            "top": null,
            "grid_column": null,
            "overflow_y": null,
            "overflow_x": null,
            "grid_auto_flow": null,
            "grid_area": null,
            "grid_template_columns": null,
            "flex": null,
            "_model_name": "LayoutModel",
            "justify_items": null,
            "grid_row": null,
            "max_height": null,
            "align_content": null,
            "visibility": null,
            "align_self": null,
            "height": null,
            "min_height": null,
            "padding": null,
            "grid_auto_rows": null,
            "grid_gap": null,
            "max_width": null,
            "order": null,
            "_view_module_version": "1.2.0",
            "grid_template_areas": null,
            "object_position": null,
            "object_fit": null,
            "grid_auto_columns": null,
            "margin": null,
            "display": null,
            "left": null
          }
        },
        "4dcdb0b11d9741289e0d4855acf5564d": {
          "model_module": "@jupyter-widgets/controls",
          "model_name": "FloatProgressModel",
          "state": {
            "_view_name": "ProgressView",
            "style": "IPY_MODEL_e628d4bc22bf4a7dad3eb61d824e5ce0",
            "_dom_classes": [],
            "description": "100%",
            "_model_name": "FloatProgressModel",
            "bar_style": "success",
            "max": 246,
            "_view_module": "@jupyter-widgets/controls",
            "_model_module_version": "1.5.0",
            "value": 246,
            "_view_count": null,
            "_view_module_version": "1.5.0",
            "orientation": "horizontal",
            "min": 0,
            "description_tooltip": null,
            "_model_module": "@jupyter-widgets/controls",
            "layout": "IPY_MODEL_e2a27feffe0e4326b89159a0e2519ca5"
          }
        },
        "43220d1ddfb04d2080e3f7c61de2fdb7": {
          "model_module": "@jupyter-widgets/controls",
          "model_name": "HTMLModel",
          "state": {
            "_view_name": "HTMLView",
            "style": "IPY_MODEL_e53c72c0c98c4810ba11ba9852608c77",
            "_dom_classes": [],
            "description": "",
            "_model_name": "HTMLModel",
            "placeholder": "​",
            "_view_module": "@jupyter-widgets/controls",
            "_model_module_version": "1.5.0",
            "value": " 246/246 [00:37&lt;00:00,  6.51it/s]",
            "_view_count": null,
            "_view_module_version": "1.5.0",
            "description_tooltip": null,
            "_model_module": "@jupyter-widgets/controls",
            "layout": "IPY_MODEL_09a03a1be5e6408faed04a123311e71f"
          }
        },
        "e628d4bc22bf4a7dad3eb61d824e5ce0": {
          "model_module": "@jupyter-widgets/controls",
          "model_name": "ProgressStyleModel",
          "state": {
            "_view_name": "StyleView",
            "_model_name": "ProgressStyleModel",
            "description_width": "initial",
            "_view_module": "@jupyter-widgets/base",
            "_model_module_version": "1.5.0",
            "_view_count": null,
            "_view_module_version": "1.2.0",
            "bar_color": null,
            "_model_module": "@jupyter-widgets/controls"
          }
        },
        "e2a27feffe0e4326b89159a0e2519ca5": {
          "model_module": "@jupyter-widgets/base",
          "model_name": "LayoutModel",
          "state": {
            "_view_name": "LayoutView",
            "grid_template_rows": null,
            "right": null,
            "justify_content": null,
            "_view_module": "@jupyter-widgets/base",
            "overflow": null,
            "_model_module_version": "1.2.0",
            "_view_count": null,
            "flex_flow": null,
            "width": null,
            "min_width": null,
            "border": null,
            "align_items": null,
            "bottom": null,
            "_model_module": "@jupyter-widgets/base",
            "top": null,
            "grid_column": null,
            "overflow_y": null,
            "overflow_x": null,
            "grid_auto_flow": null,
            "grid_area": null,
            "grid_template_columns": null,
            "flex": null,
            "_model_name": "LayoutModel",
            "justify_items": null,
            "grid_row": null,
            "max_height": null,
            "align_content": null,
            "visibility": null,
            "align_self": null,
            "height": null,
            "min_height": null,
            "padding": null,
            "grid_auto_rows": null,
            "grid_gap": null,
            "max_width": null,
            "order": null,
            "_view_module_version": "1.2.0",
            "grid_template_areas": null,
            "object_position": null,
            "object_fit": null,
            "grid_auto_columns": null,
            "margin": null,
            "display": null,
            "left": null
          }
        },
        "e53c72c0c98c4810ba11ba9852608c77": {
          "model_module": "@jupyter-widgets/controls",
          "model_name": "DescriptionStyleModel",
          "state": {
            "_view_name": "StyleView",
            "_model_name": "DescriptionStyleModel",
            "description_width": "",
            "_view_module": "@jupyter-widgets/base",
            "_model_module_version": "1.5.0",
            "_view_count": null,
            "_view_module_version": "1.2.0",
            "_model_module": "@jupyter-widgets/controls"
          }
        },
        "09a03a1be5e6408faed04a123311e71f": {
          "model_module": "@jupyter-widgets/base",
          "model_name": "LayoutModel",
          "state": {
            "_view_name": "LayoutView",
            "grid_template_rows": null,
            "right": null,
            "justify_content": null,
            "_view_module": "@jupyter-widgets/base",
            "overflow": null,
            "_model_module_version": "1.2.0",
            "_view_count": null,
            "flex_flow": null,
            "width": null,
            "min_width": null,
            "border": null,
            "align_items": null,
            "bottom": null,
            "_model_module": "@jupyter-widgets/base",
            "top": null,
            "grid_column": null,
            "overflow_y": null,
            "overflow_x": null,
            "grid_auto_flow": null,
            "grid_area": null,
            "grid_template_columns": null,
            "flex": null,
            "_model_name": "LayoutModel",
            "justify_items": null,
            "grid_row": null,
            "max_height": null,
            "align_content": null,
            "visibility": null,
            "align_self": null,
            "height": null,
            "min_height": null,
            "padding": null,
            "grid_auto_rows": null,
            "grid_gap": null,
            "max_width": null,
            "order": null,
            "_view_module_version": "1.2.0",
            "grid_template_areas": null,
            "object_position": null,
            "object_fit": null,
            "grid_auto_columns": null,
            "margin": null,
            "display": null,
            "left": null
          }
        },
        "8f181af84afd4748b9575b85ac7fd08f": {
          "model_module": "@jupyter-widgets/controls",
          "model_name": "HBoxModel",
          "state": {
            "_view_name": "HBoxView",
            "_dom_classes": [],
            "_model_name": "HBoxModel",
            "_view_module": "@jupyter-widgets/controls",
            "_model_module_version": "1.5.0",
            "_view_count": null,
            "_view_module_version": "1.5.0",
            "box_style": "",
            "layout": "IPY_MODEL_be6ee6f1d890414d854d4bdf1b740baf",
            "_model_module": "@jupyter-widgets/controls",
            "children": [
              "IPY_MODEL_00baa738d67740b3aff70fa5400bf329",
              "IPY_MODEL_c5937d0aae644f5988614f83eb5218db"
            ]
          }
        },
        "be6ee6f1d890414d854d4bdf1b740baf": {
          "model_module": "@jupyter-widgets/base",
          "model_name": "LayoutModel",
          "state": {
            "_view_name": "LayoutView",
            "grid_template_rows": null,
            "right": null,
            "justify_content": null,
            "_view_module": "@jupyter-widgets/base",
            "overflow": null,
            "_model_module_version": "1.2.0",
            "_view_count": null,
            "flex_flow": null,
            "width": null,
            "min_width": null,
            "border": null,
            "align_items": null,
            "bottom": null,
            "_model_module": "@jupyter-widgets/base",
            "top": null,
            "grid_column": null,
            "overflow_y": null,
            "overflow_x": null,
            "grid_auto_flow": null,
            "grid_area": null,
            "grid_template_columns": null,
            "flex": null,
            "_model_name": "LayoutModel",
            "justify_items": null,
            "grid_row": null,
            "max_height": null,
            "align_content": null,
            "visibility": null,
            "align_self": null,
            "height": null,
            "min_height": null,
            "padding": null,
            "grid_auto_rows": null,
            "grid_gap": null,
            "max_width": null,
            "order": null,
            "_view_module_version": "1.2.0",
            "grid_template_areas": null,
            "object_position": null,
            "object_fit": null,
            "grid_auto_columns": null,
            "margin": null,
            "display": null,
            "left": null
          }
        },
        "00baa738d67740b3aff70fa5400bf329": {
          "model_module": "@jupyter-widgets/controls",
          "model_name": "FloatProgressModel",
          "state": {
            "_view_name": "ProgressView",
            "style": "IPY_MODEL_739dd7411f6f49cdb9c056a30b06145d",
            "_dom_classes": [],
            "description": "100%",
            "_model_name": "FloatProgressModel",
            "bar_style": "success",
            "max": 246,
            "_view_module": "@jupyter-widgets/controls",
            "_model_module_version": "1.5.0",
            "value": 246,
            "_view_count": null,
            "_view_module_version": "1.5.0",
            "orientation": "horizontal",
            "min": 0,
            "description_tooltip": null,
            "_model_module": "@jupyter-widgets/controls",
            "layout": "IPY_MODEL_8c684415e8dd40ccb50cca25bf0aa522"
          }
        },
        "c5937d0aae644f5988614f83eb5218db": {
          "model_module": "@jupyter-widgets/controls",
          "model_name": "HTMLModel",
          "state": {
            "_view_name": "HTMLView",
            "style": "IPY_MODEL_4818fb9402b143dd9afc40809052ddbe",
            "_dom_classes": [],
            "description": "",
            "_model_name": "HTMLModel",
            "placeholder": "​",
            "_view_module": "@jupyter-widgets/controls",
            "_model_module_version": "1.5.0",
            "value": " 246/246 [00:19&lt;00:00, 12.77it/s]",
            "_view_count": null,
            "_view_module_version": "1.5.0",
            "description_tooltip": null,
            "_model_module": "@jupyter-widgets/controls",
            "layout": "IPY_MODEL_8c7fc02e85db457cab3a0c4078bc1a46"
          }
        },
        "739dd7411f6f49cdb9c056a30b06145d": {
          "model_module": "@jupyter-widgets/controls",
          "model_name": "ProgressStyleModel",
          "state": {
            "_view_name": "StyleView",
            "_model_name": "ProgressStyleModel",
            "description_width": "initial",
            "_view_module": "@jupyter-widgets/base",
            "_model_module_version": "1.5.0",
            "_view_count": null,
            "_view_module_version": "1.2.0",
            "bar_color": null,
            "_model_module": "@jupyter-widgets/controls"
          }
        },
        "8c684415e8dd40ccb50cca25bf0aa522": {
          "model_module": "@jupyter-widgets/base",
          "model_name": "LayoutModel",
          "state": {
            "_view_name": "LayoutView",
            "grid_template_rows": null,
            "right": null,
            "justify_content": null,
            "_view_module": "@jupyter-widgets/base",
            "overflow": null,
            "_model_module_version": "1.2.0",
            "_view_count": null,
            "flex_flow": null,
            "width": null,
            "min_width": null,
            "border": null,
            "align_items": null,
            "bottom": null,
            "_model_module": "@jupyter-widgets/base",
            "top": null,
            "grid_column": null,
            "overflow_y": null,
            "overflow_x": null,
            "grid_auto_flow": null,
            "grid_area": null,
            "grid_template_columns": null,
            "flex": null,
            "_model_name": "LayoutModel",
            "justify_items": null,
            "grid_row": null,
            "max_height": null,
            "align_content": null,
            "visibility": null,
            "align_self": null,
            "height": null,
            "min_height": null,
            "padding": null,
            "grid_auto_rows": null,
            "grid_gap": null,
            "max_width": null,
            "order": null,
            "_view_module_version": "1.2.0",
            "grid_template_areas": null,
            "object_position": null,
            "object_fit": null,
            "grid_auto_columns": null,
            "margin": null,
            "display": null,
            "left": null
          }
        },
        "4818fb9402b143dd9afc40809052ddbe": {
          "model_module": "@jupyter-widgets/controls",
          "model_name": "DescriptionStyleModel",
          "state": {
            "_view_name": "StyleView",
            "_model_name": "DescriptionStyleModel",
            "description_width": "",
            "_view_module": "@jupyter-widgets/base",
            "_model_module_version": "1.5.0",
            "_view_count": null,
            "_view_module_version": "1.2.0",
            "_model_module": "@jupyter-widgets/controls"
          }
        },
        "8c7fc02e85db457cab3a0c4078bc1a46": {
          "model_module": "@jupyter-widgets/base",
          "model_name": "LayoutModel",
          "state": {
            "_view_name": "LayoutView",
            "grid_template_rows": null,
            "right": null,
            "justify_content": null,
            "_view_module": "@jupyter-widgets/base",
            "overflow": null,
            "_model_module_version": "1.2.0",
            "_view_count": null,
            "flex_flow": null,
            "width": null,
            "min_width": null,
            "border": null,
            "align_items": null,
            "bottom": null,
            "_model_module": "@jupyter-widgets/base",
            "top": null,
            "grid_column": null,
            "overflow_y": null,
            "overflow_x": null,
            "grid_auto_flow": null,
            "grid_area": null,
            "grid_template_columns": null,
            "flex": null,
            "_model_name": "LayoutModel",
            "justify_items": null,
            "grid_row": null,
            "max_height": null,
            "align_content": null,
            "visibility": null,
            "align_self": null,
            "height": null,
            "min_height": null,
            "padding": null,
            "grid_auto_rows": null,
            "grid_gap": null,
            "max_width": null,
            "order": null,
            "_view_module_version": "1.2.0",
            "grid_template_areas": null,
            "object_position": null,
            "object_fit": null,
            "grid_auto_columns": null,
            "margin": null,
            "display": null,
            "left": null
          }
        },
        "f25c558b9dcd4420b69bdaaf7fb40fd1": {
          "model_module": "@jupyter-widgets/controls",
          "model_name": "HBoxModel",
          "state": {
            "_view_name": "HBoxView",
            "_dom_classes": [],
            "_model_name": "HBoxModel",
            "_view_module": "@jupyter-widgets/controls",
            "_model_module_version": "1.5.0",
            "_view_count": null,
            "_view_module_version": "1.5.0",
            "box_style": "",
            "layout": "IPY_MODEL_9ef21d9e34434666b7c2122b5e39335e",
            "_model_module": "@jupyter-widgets/controls",
            "children": [
              "IPY_MODEL_04aeeed3a9a049289f4d56c0b92f451a",
              "IPY_MODEL_2370ee1f14774c1bb3eb4bd6166267f7"
            ]
          }
        },
        "9ef21d9e34434666b7c2122b5e39335e": {
          "model_module": "@jupyter-widgets/base",
          "model_name": "LayoutModel",
          "state": {
            "_view_name": "LayoutView",
            "grid_template_rows": null,
            "right": null,
            "justify_content": null,
            "_view_module": "@jupyter-widgets/base",
            "overflow": null,
            "_model_module_version": "1.2.0",
            "_view_count": null,
            "flex_flow": null,
            "width": null,
            "min_width": null,
            "border": null,
            "align_items": null,
            "bottom": null,
            "_model_module": "@jupyter-widgets/base",
            "top": null,
            "grid_column": null,
            "overflow_y": null,
            "overflow_x": null,
            "grid_auto_flow": null,
            "grid_area": null,
            "grid_template_columns": null,
            "flex": null,
            "_model_name": "LayoutModel",
            "justify_items": null,
            "grid_row": null,
            "max_height": null,
            "align_content": null,
            "visibility": null,
            "align_self": null,
            "height": null,
            "min_height": null,
            "padding": null,
            "grid_auto_rows": null,
            "grid_gap": null,
            "max_width": null,
            "order": null,
            "_view_module_version": "1.2.0",
            "grid_template_areas": null,
            "object_position": null,
            "object_fit": null,
            "grid_auto_columns": null,
            "margin": null,
            "display": null,
            "left": null
          }
        },
        "04aeeed3a9a049289f4d56c0b92f451a": {
          "model_module": "@jupyter-widgets/controls",
          "model_name": "FloatProgressModel",
          "state": {
            "_view_name": "ProgressView",
            "style": "IPY_MODEL_b5d09ffeff304628b37c21c04bc0b921",
            "_dom_classes": [],
            "description": "100%",
            "_model_name": "FloatProgressModel",
            "bar_style": "success",
            "max": 246,
            "_view_module": "@jupyter-widgets/controls",
            "_model_module_version": "1.5.0",
            "value": 246,
            "_view_count": null,
            "_view_module_version": "1.5.0",
            "orientation": "horizontal",
            "min": 0,
            "description_tooltip": null,
            "_model_module": "@jupyter-widgets/controls",
            "layout": "IPY_MODEL_4e46a1ac8e3547e09b0b7ea0b3d33c40"
          }
        },
        "2370ee1f14774c1bb3eb4bd6166267f7": {
          "model_module": "@jupyter-widgets/controls",
          "model_name": "HTMLModel",
          "state": {
            "_view_name": "HTMLView",
            "style": "IPY_MODEL_44ebfea12d1f4b0dbe99d0fb4d0ab0c1",
            "_dom_classes": [],
            "description": "",
            "_model_name": "HTMLModel",
            "placeholder": "​",
            "_view_module": "@jupyter-widgets/controls",
            "_model_module_version": "1.5.0",
            "value": " 246/246 [00:05&lt;00:00, 43.63it/s]",
            "_view_count": null,
            "_view_module_version": "1.5.0",
            "description_tooltip": null,
            "_model_module": "@jupyter-widgets/controls",
            "layout": "IPY_MODEL_3c5cd2c6ac97402e87680677de658ba9"
          }
        },
        "b5d09ffeff304628b37c21c04bc0b921": {
          "model_module": "@jupyter-widgets/controls",
          "model_name": "ProgressStyleModel",
          "state": {
            "_view_name": "StyleView",
            "_model_name": "ProgressStyleModel",
            "description_width": "initial",
            "_view_module": "@jupyter-widgets/base",
            "_model_module_version": "1.5.0",
            "_view_count": null,
            "_view_module_version": "1.2.0",
            "bar_color": null,
            "_model_module": "@jupyter-widgets/controls"
          }
        },
        "4e46a1ac8e3547e09b0b7ea0b3d33c40": {
          "model_module": "@jupyter-widgets/base",
          "model_name": "LayoutModel",
          "state": {
            "_view_name": "LayoutView",
            "grid_template_rows": null,
            "right": null,
            "justify_content": null,
            "_view_module": "@jupyter-widgets/base",
            "overflow": null,
            "_model_module_version": "1.2.0",
            "_view_count": null,
            "flex_flow": null,
            "width": null,
            "min_width": null,
            "border": null,
            "align_items": null,
            "bottom": null,
            "_model_module": "@jupyter-widgets/base",
            "top": null,
            "grid_column": null,
            "overflow_y": null,
            "overflow_x": null,
            "grid_auto_flow": null,
            "grid_area": null,
            "grid_template_columns": null,
            "flex": null,
            "_model_name": "LayoutModel",
            "justify_items": null,
            "grid_row": null,
            "max_height": null,
            "align_content": null,
            "visibility": null,
            "align_self": null,
            "height": null,
            "min_height": null,
            "padding": null,
            "grid_auto_rows": null,
            "grid_gap": null,
            "max_width": null,
            "order": null,
            "_view_module_version": "1.2.0",
            "grid_template_areas": null,
            "object_position": null,
            "object_fit": null,
            "grid_auto_columns": null,
            "margin": null,
            "display": null,
            "left": null
          }
        },
        "44ebfea12d1f4b0dbe99d0fb4d0ab0c1": {
          "model_module": "@jupyter-widgets/controls",
          "model_name": "DescriptionStyleModel",
          "state": {
            "_view_name": "StyleView",
            "_model_name": "DescriptionStyleModel",
            "description_width": "",
            "_view_module": "@jupyter-widgets/base",
            "_model_module_version": "1.5.0",
            "_view_count": null,
            "_view_module_version": "1.2.0",
            "_model_module": "@jupyter-widgets/controls"
          }
        },
        "3c5cd2c6ac97402e87680677de658ba9": {
          "model_module": "@jupyter-widgets/base",
          "model_name": "LayoutModel",
          "state": {
            "_view_name": "LayoutView",
            "grid_template_rows": null,
            "right": null,
            "justify_content": null,
            "_view_module": "@jupyter-widgets/base",
            "overflow": null,
            "_model_module_version": "1.2.0",
            "_view_count": null,
            "flex_flow": null,
            "width": null,
            "min_width": null,
            "border": null,
            "align_items": null,
            "bottom": null,
            "_model_module": "@jupyter-widgets/base",
            "top": null,
            "grid_column": null,
            "overflow_y": null,
            "overflow_x": null,
            "grid_auto_flow": null,
            "grid_area": null,
            "grid_template_columns": null,
            "flex": null,
            "_model_name": "LayoutModel",
            "justify_items": null,
            "grid_row": null,
            "max_height": null,
            "align_content": null,
            "visibility": null,
            "align_self": null,
            "height": null,
            "min_height": null,
            "padding": null,
            "grid_auto_rows": null,
            "grid_gap": null,
            "max_width": null,
            "order": null,
            "_view_module_version": "1.2.0",
            "grid_template_areas": null,
            "object_position": null,
            "object_fit": null,
            "grid_auto_columns": null,
            "margin": null,
            "display": null,
            "left": null
          }
        },
        "9a6e6f2fddb540bdbc934aea934a6a36": {
          "model_module": "@jupyter-widgets/controls",
          "model_name": "HBoxModel",
          "state": {
            "_view_name": "HBoxView",
            "_dom_classes": [],
            "_model_name": "HBoxModel",
            "_view_module": "@jupyter-widgets/controls",
            "_model_module_version": "1.5.0",
            "_view_count": null,
            "_view_module_version": "1.5.0",
            "box_style": "",
            "layout": "IPY_MODEL_bd358f6d4a384568b418720b96a7cabe",
            "_model_module": "@jupyter-widgets/controls",
            "children": [
              "IPY_MODEL_7bd685f0131d442e9548d07774250cfa",
              "IPY_MODEL_0a305e649cdd4addadac5e957688d3d9"
            ]
          }
        },
        "bd358f6d4a384568b418720b96a7cabe": {
          "model_module": "@jupyter-widgets/base",
          "model_name": "LayoutModel",
          "state": {
            "_view_name": "LayoutView",
            "grid_template_rows": null,
            "right": null,
            "justify_content": null,
            "_view_module": "@jupyter-widgets/base",
            "overflow": null,
            "_model_module_version": "1.2.0",
            "_view_count": null,
            "flex_flow": null,
            "width": null,
            "min_width": null,
            "border": null,
            "align_items": null,
            "bottom": null,
            "_model_module": "@jupyter-widgets/base",
            "top": null,
            "grid_column": null,
            "overflow_y": null,
            "overflow_x": null,
            "grid_auto_flow": null,
            "grid_area": null,
            "grid_template_columns": null,
            "flex": null,
            "_model_name": "LayoutModel",
            "justify_items": null,
            "grid_row": null,
            "max_height": null,
            "align_content": null,
            "visibility": null,
            "align_self": null,
            "height": null,
            "min_height": null,
            "padding": null,
            "grid_auto_rows": null,
            "grid_gap": null,
            "max_width": null,
            "order": null,
            "_view_module_version": "1.2.0",
            "grid_template_areas": null,
            "object_position": null,
            "object_fit": null,
            "grid_auto_columns": null,
            "margin": null,
            "display": null,
            "left": null
          }
        },
        "7bd685f0131d442e9548d07774250cfa": {
          "model_module": "@jupyter-widgets/controls",
          "model_name": "FloatProgressModel",
          "state": {
            "_view_name": "ProgressView",
            "style": "IPY_MODEL_bd0b64cb01a348b7905b41798c3c42ab",
            "_dom_classes": [],
            "description": "100%",
            "_model_name": "FloatProgressModel",
            "bar_style": "success",
            "max": 246,
            "_view_module": "@jupyter-widgets/controls",
            "_model_module_version": "1.5.0",
            "value": 246,
            "_view_count": null,
            "_view_module_version": "1.5.0",
            "orientation": "horizontal",
            "min": 0,
            "description_tooltip": null,
            "_model_module": "@jupyter-widgets/controls",
            "layout": "IPY_MODEL_90ebc113a8864e6ea84f7177ad7f4e53"
          }
        },
        "0a305e649cdd4addadac5e957688d3d9": {
          "model_module": "@jupyter-widgets/controls",
          "model_name": "HTMLModel",
          "state": {
            "_view_name": "HTMLView",
            "style": "IPY_MODEL_a7f5a586ea3941318bf0bcdb83daea6b",
            "_dom_classes": [],
            "description": "",
            "_model_name": "HTMLModel",
            "placeholder": "​",
            "_view_module": "@jupyter-widgets/controls",
            "_model_module_version": "1.5.0",
            "value": " 246/246 [00:18&lt;00:00, 13.09it/s]",
            "_view_count": null,
            "_view_module_version": "1.5.0",
            "description_tooltip": null,
            "_model_module": "@jupyter-widgets/controls",
            "layout": "IPY_MODEL_e322972606be4071a66d5ed769dda8e2"
          }
        },
        "bd0b64cb01a348b7905b41798c3c42ab": {
          "model_module": "@jupyter-widgets/controls",
          "model_name": "ProgressStyleModel",
          "state": {
            "_view_name": "StyleView",
            "_model_name": "ProgressStyleModel",
            "description_width": "initial",
            "_view_module": "@jupyter-widgets/base",
            "_model_module_version": "1.5.0",
            "_view_count": null,
            "_view_module_version": "1.2.0",
            "bar_color": null,
            "_model_module": "@jupyter-widgets/controls"
          }
        },
        "90ebc113a8864e6ea84f7177ad7f4e53": {
          "model_module": "@jupyter-widgets/base",
          "model_name": "LayoutModel",
          "state": {
            "_view_name": "LayoutView",
            "grid_template_rows": null,
            "right": null,
            "justify_content": null,
            "_view_module": "@jupyter-widgets/base",
            "overflow": null,
            "_model_module_version": "1.2.0",
            "_view_count": null,
            "flex_flow": null,
            "width": null,
            "min_width": null,
            "border": null,
            "align_items": null,
            "bottom": null,
            "_model_module": "@jupyter-widgets/base",
            "top": null,
            "grid_column": null,
            "overflow_y": null,
            "overflow_x": null,
            "grid_auto_flow": null,
            "grid_area": null,
            "grid_template_columns": null,
            "flex": null,
            "_model_name": "LayoutModel",
            "justify_items": null,
            "grid_row": null,
            "max_height": null,
            "align_content": null,
            "visibility": null,
            "align_self": null,
            "height": null,
            "min_height": null,
            "padding": null,
            "grid_auto_rows": null,
            "grid_gap": null,
            "max_width": null,
            "order": null,
            "_view_module_version": "1.2.0",
            "grid_template_areas": null,
            "object_position": null,
            "object_fit": null,
            "grid_auto_columns": null,
            "margin": null,
            "display": null,
            "left": null
          }
        },
        "a7f5a586ea3941318bf0bcdb83daea6b": {
          "model_module": "@jupyter-widgets/controls",
          "model_name": "DescriptionStyleModel",
          "state": {
            "_view_name": "StyleView",
            "_model_name": "DescriptionStyleModel",
            "description_width": "",
            "_view_module": "@jupyter-widgets/base",
            "_model_module_version": "1.5.0",
            "_view_count": null,
            "_view_module_version": "1.2.0",
            "_model_module": "@jupyter-widgets/controls"
          }
        },
        "e322972606be4071a66d5ed769dda8e2": {
          "model_module": "@jupyter-widgets/base",
          "model_name": "LayoutModel",
          "state": {
            "_view_name": "LayoutView",
            "grid_template_rows": null,
            "right": null,
            "justify_content": null,
            "_view_module": "@jupyter-widgets/base",
            "overflow": null,
            "_model_module_version": "1.2.0",
            "_view_count": null,
            "flex_flow": null,
            "width": null,
            "min_width": null,
            "border": null,
            "align_items": null,
            "bottom": null,
            "_model_module": "@jupyter-widgets/base",
            "top": null,
            "grid_column": null,
            "overflow_y": null,
            "overflow_x": null,
            "grid_auto_flow": null,
            "grid_area": null,
            "grid_template_columns": null,
            "flex": null,
            "_model_name": "LayoutModel",
            "justify_items": null,
            "grid_row": null,
            "max_height": null,
            "align_content": null,
            "visibility": null,
            "align_self": null,
            "height": null,
            "min_height": null,
            "padding": null,
            "grid_auto_rows": null,
            "grid_gap": null,
            "max_width": null,
            "order": null,
            "_view_module_version": "1.2.0",
            "grid_template_areas": null,
            "object_position": null,
            "object_fit": null,
            "grid_auto_columns": null,
            "margin": null,
            "display": null,
            "left": null
          }
        },
        "77d349c0352d448dbab6aa7f0ff8d5d7": {
          "model_module": "@jupyter-widgets/controls",
          "model_name": "HBoxModel",
          "state": {
            "_view_name": "HBoxView",
            "_dom_classes": [],
            "_model_name": "HBoxModel",
            "_view_module": "@jupyter-widgets/controls",
            "_model_module_version": "1.5.0",
            "_view_count": null,
            "_view_module_version": "1.5.0",
            "box_style": "",
            "layout": "IPY_MODEL_170cb24e5f774a8982c5854e6c21aa2d",
            "_model_module": "@jupyter-widgets/controls",
            "children": [
              "IPY_MODEL_7956ad5126d045459e80fd3ef8ce187b",
              "IPY_MODEL_43252a26e572438696fbdbfa0cafaf97"
            ]
          }
        },
        "170cb24e5f774a8982c5854e6c21aa2d": {
          "model_module": "@jupyter-widgets/base",
          "model_name": "LayoutModel",
          "state": {
            "_view_name": "LayoutView",
            "grid_template_rows": null,
            "right": null,
            "justify_content": null,
            "_view_module": "@jupyter-widgets/base",
            "overflow": null,
            "_model_module_version": "1.2.0",
            "_view_count": null,
            "flex_flow": null,
            "width": null,
            "min_width": null,
            "border": null,
            "align_items": null,
            "bottom": null,
            "_model_module": "@jupyter-widgets/base",
            "top": null,
            "grid_column": null,
            "overflow_y": null,
            "overflow_x": null,
            "grid_auto_flow": null,
            "grid_area": null,
            "grid_template_columns": null,
            "flex": null,
            "_model_name": "LayoutModel",
            "justify_items": null,
            "grid_row": null,
            "max_height": null,
            "align_content": null,
            "visibility": null,
            "align_self": null,
            "height": null,
            "min_height": null,
            "padding": null,
            "grid_auto_rows": null,
            "grid_gap": null,
            "max_width": null,
            "order": null,
            "_view_module_version": "1.2.0",
            "grid_template_areas": null,
            "object_position": null,
            "object_fit": null,
            "grid_auto_columns": null,
            "margin": null,
            "display": null,
            "left": null
          }
        },
        "7956ad5126d045459e80fd3ef8ce187b": {
          "model_module": "@jupyter-widgets/controls",
          "model_name": "FloatProgressModel",
          "state": {
            "_view_name": "ProgressView",
            "style": "IPY_MODEL_e09f10ff3c824b91b590fa1ef0d3e27c",
            "_dom_classes": [],
            "description": "100%",
            "_model_name": "FloatProgressModel",
            "bar_style": "success",
            "max": 246,
            "_view_module": "@jupyter-widgets/controls",
            "_model_module_version": "1.5.0",
            "value": 246,
            "_view_count": null,
            "_view_module_version": "1.5.0",
            "orientation": "horizontal",
            "min": 0,
            "description_tooltip": null,
            "_model_module": "@jupyter-widgets/controls",
            "layout": "IPY_MODEL_df0b584f5ee545abb63cde8c24dad44b"
          }
        },
        "43252a26e572438696fbdbfa0cafaf97": {
          "model_module": "@jupyter-widgets/controls",
          "model_name": "HTMLModel",
          "state": {
            "_view_name": "HTMLView",
            "style": "IPY_MODEL_a2958f01f36a49ebae80696e06364638",
            "_dom_classes": [],
            "description": "",
            "_model_name": "HTMLModel",
            "placeholder": "​",
            "_view_module": "@jupyter-widgets/controls",
            "_model_module_version": "1.5.0",
            "value": " 246/246 [00:18&lt;00:00, 13.19it/s]",
            "_view_count": null,
            "_view_module_version": "1.5.0",
            "description_tooltip": null,
            "_model_module": "@jupyter-widgets/controls",
            "layout": "IPY_MODEL_a4ebc7b12e7f40ac8cbe53f6b5d59b15"
          }
        },
        "e09f10ff3c824b91b590fa1ef0d3e27c": {
          "model_module": "@jupyter-widgets/controls",
          "model_name": "ProgressStyleModel",
          "state": {
            "_view_name": "StyleView",
            "_model_name": "ProgressStyleModel",
            "description_width": "initial",
            "_view_module": "@jupyter-widgets/base",
            "_model_module_version": "1.5.0",
            "_view_count": null,
            "_view_module_version": "1.2.0",
            "bar_color": null,
            "_model_module": "@jupyter-widgets/controls"
          }
        },
        "df0b584f5ee545abb63cde8c24dad44b": {
          "model_module": "@jupyter-widgets/base",
          "model_name": "LayoutModel",
          "state": {
            "_view_name": "LayoutView",
            "grid_template_rows": null,
            "right": null,
            "justify_content": null,
            "_view_module": "@jupyter-widgets/base",
            "overflow": null,
            "_model_module_version": "1.2.0",
            "_view_count": null,
            "flex_flow": null,
            "width": null,
            "min_width": null,
            "border": null,
            "align_items": null,
            "bottom": null,
            "_model_module": "@jupyter-widgets/base",
            "top": null,
            "grid_column": null,
            "overflow_y": null,
            "overflow_x": null,
            "grid_auto_flow": null,
            "grid_area": null,
            "grid_template_columns": null,
            "flex": null,
            "_model_name": "LayoutModel",
            "justify_items": null,
            "grid_row": null,
            "max_height": null,
            "align_content": null,
            "visibility": null,
            "align_self": null,
            "height": null,
            "min_height": null,
            "padding": null,
            "grid_auto_rows": null,
            "grid_gap": null,
            "max_width": null,
            "order": null,
            "_view_module_version": "1.2.0",
            "grid_template_areas": null,
            "object_position": null,
            "object_fit": null,
            "grid_auto_columns": null,
            "margin": null,
            "display": null,
            "left": null
          }
        },
        "a2958f01f36a49ebae80696e06364638": {
          "model_module": "@jupyter-widgets/controls",
          "model_name": "DescriptionStyleModel",
          "state": {
            "_view_name": "StyleView",
            "_model_name": "DescriptionStyleModel",
            "description_width": "",
            "_view_module": "@jupyter-widgets/base",
            "_model_module_version": "1.5.0",
            "_view_count": null,
            "_view_module_version": "1.2.0",
            "_model_module": "@jupyter-widgets/controls"
          }
        },
        "a4ebc7b12e7f40ac8cbe53f6b5d59b15": {
          "model_module": "@jupyter-widgets/base",
          "model_name": "LayoutModel",
          "state": {
            "_view_name": "LayoutView",
            "grid_template_rows": null,
            "right": null,
            "justify_content": null,
            "_view_module": "@jupyter-widgets/base",
            "overflow": null,
            "_model_module_version": "1.2.0",
            "_view_count": null,
            "flex_flow": null,
            "width": null,
            "min_width": null,
            "border": null,
            "align_items": null,
            "bottom": null,
            "_model_module": "@jupyter-widgets/base",
            "top": null,
            "grid_column": null,
            "overflow_y": null,
            "overflow_x": null,
            "grid_auto_flow": null,
            "grid_area": null,
            "grid_template_columns": null,
            "flex": null,
            "_model_name": "LayoutModel",
            "justify_items": null,
            "grid_row": null,
            "max_height": null,
            "align_content": null,
            "visibility": null,
            "align_self": null,
            "height": null,
            "min_height": null,
            "padding": null,
            "grid_auto_rows": null,
            "grid_gap": null,
            "max_width": null,
            "order": null,
            "_view_module_version": "1.2.0",
            "grid_template_areas": null,
            "object_position": null,
            "object_fit": null,
            "grid_auto_columns": null,
            "margin": null,
            "display": null,
            "left": null
          }
        }
      }
    }
  },
  "cells": [
    {
      "cell_type": "markdown",
      "metadata": {
        "id": "view-in-github",
        "colab_type": "text"
      },
      "source": [
        "<a href=\"https://colab.research.google.com/github/MaorKer/Wiezmann_ML_Course/blob/HW3/Maor_Kereth_Homework_3_point_cloud_mnist.ipynb\" target=\"_parent\"><img src=\"https://colab.research.google.com/assets/colab-badge.svg\" alt=\"Open In Colab\"/></a>"
      ]
    },
    {
      "cell_type": "code",
      "metadata": {
        "id": "omrSl8j71YbZ",
        "colab_type": "code",
        "colab": {
          "base_uri": "https://localhost:8080/",
          "height": 194
        },
        "outputId": "77f525f4-2d88-4626-d2f5-d707577b620c"
      },
      "source": [
        "#if youre running on colab, run this line first to properly load the h5 files\n",
        "!pip install tables --upgrade"
      ],
      "execution_count": 2,
      "outputs": [
        {
          "output_type": "stream",
          "text": [
            "Collecting tables\n",
            "\u001b[?25l  Downloading https://files.pythonhosted.org/packages/ed/c3/8fd9e3bb21872f9d69eb93b3014c86479864cca94e625fd03713ccacec80/tables-3.6.1-cp36-cp36m-manylinux1_x86_64.whl (4.3MB)\n",
            "\u001b[K     |████████████████████████████████| 4.3MB 3.4MB/s \n",
            "\u001b[?25hRequirement already satisfied, skipping upgrade: numexpr>=2.6.2 in /usr/local/lib/python3.6/dist-packages (from tables) (2.7.1)\n",
            "Requirement already satisfied, skipping upgrade: numpy>=1.9.3 in /usr/local/lib/python3.6/dist-packages (from tables) (1.18.5)\n",
            "Installing collected packages: tables\n",
            "  Found existing installation: tables 3.4.4\n",
            "    Uninstalling tables-3.4.4:\n",
            "      Successfully uninstalled tables-3.4.4\n",
            "Successfully installed tables-3.6.1\n"
          ],
          "name": "stdout"
        }
      ]
    },
    {
      "cell_type": "code",
      "metadata": {
        "id": "UlvZyPFe1Ybh",
        "colab_type": "code",
        "colab": {}
      },
      "source": [
        "import torch\n",
        "import torch.nn as nn\n",
        "import torch.nn.functional as F\n",
        "from torch.utils.data import Dataset, DataLoader, Sampler\n",
        "import glob\n",
        "from tqdm.notebook import tqdm\n",
        "import torch.optim as optim\n",
        "import pandas as pd\n",
        "import matplotlib.pyplot as plt\n",
        "import numpy as np"
      ],
      "execution_count": 3,
      "outputs": []
    },
    {
      "cell_type": "markdown",
      "metadata": {
        "id": "vHx6OSbg1Ybm",
        "colab_type": "text"
      },
      "source": [
        "# Homework 3\n",
        "## Point Cloud MNIST with DeepSet\n"
      ]
    },
    {
      "cell_type": "markdown",
      "metadata": {
        "id": "wBdbFlsH1Ybo",
        "colab_type": "text"
      },
      "source": [
        "below you have a custom dataloader for the point-cloud MNIST dataset,\n",
        "\n",
        "the training and validation datasets are linked from the course website"
      ]
    },
    {
      "cell_type": "code",
      "metadata": {
        "id": "XjVcURlf1Ybo",
        "colab_type": "code",
        "colab": {}
      },
      "source": [
        "class CustomDataset(Dataset):\n",
        "    def __init__(self, path):\n",
        "        \n",
        "\n",
        "        \n",
        "        self.df = pd.read_hdf(path)\n",
        "        \n",
        "        self.label = torch.LongTensor(self.df.label)\n",
        "        \n",
        "        self.n_points = self.df.n_points\n",
        "        \n",
        "        \n",
        "    def __len__(self):\n",
        "       \n",
        "        return len(self.label)\n",
        "\n",
        "\n",
        "    def __getitem__(self, idx):\n",
        "        \n",
        "    \n",
        "        return torch.FloatTensor(self.df.iloc[idx].xy), self.label[idx]"
      ],
      "execution_count": 4,
      "outputs": []
    },
    {
      "cell_type": "code",
      "metadata": {
        "id": "yXsI2FjO1Ybs",
        "colab_type": "code",
        "colab": {}
      },
      "source": [
        ""
      ],
      "execution_count": null,
      "outputs": []
    },
    {
      "cell_type": "code",
      "metadata": {
        "id": "9ArV7x-VAFvV",
        "colab_type": "code",
        "colab": {
          "base_uri": "https://localhost:8080/",
          "height": 34
        },
        "outputId": "abb1c49c-dbec-42b6-e18f-b79a3f814c01"
      },
      "source": [
        "ds.label.unique().size()"
      ],
      "execution_count": null,
      "outputs": [
        {
          "output_type": "execute_result",
          "data": {
            "text/plain": [
              "torch.Size([10])"
            ]
          },
          "metadata": {
            "tags": []
          },
          "execution_count": 18
        }
      ]
    },
    {
      "cell_type": "markdown",
      "metadata": {
        "id": "riMg9tA41Ybx",
        "colab_type": "text"
      },
      "source": [
        "#### the data is exactly like the MNIST dataset, except that instead of a 28x28 image,\n",
        "#### you get a (N x 2) array of points (different number of points for each item in the dataset) "
      ]
    },
    {
      "cell_type": "code",
      "metadata": {
        "id": "ih68Q96i1Yby",
        "colab_type": "code",
        "colab": {
          "base_uri": "https://localhost:8080/",
          "height": 303
        },
        "outputId": "7aee404e-ea36-43f4-ef21-59d49ab3310a"
      },
      "source": [
        "fig,ax = plt.subplots(figsize=(5,5))\n",
        "\n",
        "xy = ds[445][0]\n",
        "\n",
        "ax.scatter( xy[:,0],xy[:,1] )\n",
        "\n",
        "ax.set_axis_off()\n",
        "\n",
        "plt.show()"
      ],
      "execution_count": null,
      "outputs": [
        {
          "output_type": "display_data",
          "data": {
            "image/png": "[encoded data removed]",
            "text/plain": [
              "<Figure size 360x360 with 1 Axes>"
            ]
          },
          "metadata": {
            "tags": [],
            "needs_background": "light"
          }
        }
      ]
    },
    {
      "cell_type": "markdown",
      "metadata": {
        "id": "o8S2BtA_1Yb5",
        "colab_type": "text"
      },
      "source": [
        "### the dataset object has a n_points variable that tells us how many points in each item"
      ]
    },
    {
      "cell_type": "code",
      "metadata": {
        "id": "x32vOwlp1Yb6",
        "colab_type": "code",
        "colab": {
          "base_uri": "https://localhost:8080/",
          "height": 230
        },
        "outputId": "c0482620-185d-48ca-8b59-6611e86edc27"
      },
      "source": [
        "ds.n_points"
      ],
      "execution_count": null,
      "outputs": [
        {
          "output_type": "execute_result",
          "data": {
            "text/plain": [
              "0       117\n",
              "1       130\n",
              "2        88\n",
              "3        70\n",
              "4        97\n",
              "       ... \n",
              "9995    120\n",
              "9996    111\n",
              "9997    114\n",
              "9998     81\n",
              "9999     88\n",
              "Name: n_points, Length: 10000, dtype: object"
            ]
          },
          "metadata": {
            "tags": []
          },
          "execution_count": 13
        }
      ]
    },
    {
      "cell_type": "code",
      "metadata": {
        "id": "qWqFZV9e1Yb-",
        "colab_type": "code",
        "colab": {},
        "outputId": "bfc0d03d-8e7d-43b1-eff3-6d5cb58ef180"
      },
      "source": [
        "plt.hist(ds.n_points,np.linspace(19.5,260.5,242))\n",
        "plt.show()"
      ],
      "execution_count": null,
      "outputs": [
        {
          "output_type": "display_data",
          "data": {
            "image/png": "[encoded data removed]",
            "text/plain": [
              "<Figure size 432x288 with 1 Axes>"
            ]
          },
          "metadata": {
            "tags": [],
            "needs_background": "light"
          }
        }
      ]
    },
    {
      "cell_type": "markdown",
      "metadata": {
        "id": "wQ2ubdgR1YcD",
        "colab_type": "text"
      },
      "source": [
        "## One way to deal with this variable size is to use a custom Batch Sampler\n",
        "\n",
        "https://pytorch.org/docs/stable/data.html\n",
        "\n",
        "This object will tell our dataloader which item indices to request for the batches - \n",
        "and we can \"rig\" it to return batches where all the items have the same N, and therefore we can stack them without a custom colate function"
      ]
    },
    {
      "cell_type": "code",
      "metadata": {
        "id": "RrH-9XTy1YcE",
        "colab_type": "code",
        "colab": {}
      },
      "source": [
        "class CustomBatchSampler(Sampler):\n",
        "    def __init__(self, points_per_entry, batch_size):\n",
        "        \n",
        "        self.batch_size = batch_size\n",
        "        self.N_per_entry = points_per_entry\n",
        "        self.batches = {}\n",
        "        \n",
        "    def generate_batches(self):\n",
        "        \n",
        "        self.entries_with_N = {}\n",
        "        running_idx = -1\n",
        "\n",
        "        for N in set(self.N_per_entry):\n",
        "            \n",
        "            self.entries_with_N[N] = np.where(self.N_per_entry == N)[0]\n",
        "\n",
        "            how_many = len(self.entries_with_N[N])\n",
        "            n_batches = np.amax([ how_many / self.batch_size, 1])\n",
        "\n",
        "            self.entries_with_N[N] = np.array_split(np.random.permutation(self.entries_with_N[N]),\n",
        "                                                           n_batches)\n",
        "            for batch in self.entries_with_N[N]:\n",
        "                running_idx += 1\n",
        "                self.batches[running_idx] = batch\n",
        "\n",
        "        self.n_batches = running_idx + 1\n",
        "\n",
        "    def __len__(self):\n",
        "        return self.n_batches\n",
        "\n",
        "    def __iter__(self):\n",
        "        \n",
        "        self.generate_batches()\n",
        "        \n",
        "        batch_order = np.random.permutation(np.arange(self.n_batches))\n",
        "        for i in batch_order:\n",
        "            yield self.batches[i]"
      ],
      "execution_count": 5,
      "outputs": []
    },
    {
      "cell_type": "code",
      "metadata": {
        "id": "_8ewhKOL1YcI",
        "colab_type": "code",
        "colab": {}
      },
      "source": [
        ""
      ],
      "execution_count": null,
      "outputs": []
    },
    {
      "cell_type": "markdown",
      "metadata": {
        "id": "FKOIF3WN1YcR",
        "colab_type": "text"
      },
      "source": [
        "## Building a DeepSet model\n",
        "\n",
        "you only have three components - a fully connected network that creates the node embedding, a sum operation, and a classifier"
      ]
    },
    {
      "cell_type": "code",
      "metadata": {
        "id": "Vg-wBYzO1YcR",
        "colab_type": "code",
        "colab": {
          "base_uri": "https://localhost:8080/",
          "height": 34
        },
        "outputId": "fd80ca17-5431-491a-d664-4cbae67f3105"
      },
      "source": [
        "# the linear layer operates on the last dimension:\n",
        "\n",
        "linear_layer = nn.Linear(10,5)\n",
        "\n",
        "linear_layer(  torch.rand((345,10)) ).shape, linear_layer(  torch.rand((345,76,10)) ).shape"
      ],
      "execution_count": null,
      "outputs": [
        {
          "output_type": "execute_result",
          "data": {
            "text/plain": [
              "(torch.Size([345, 5]), torch.Size([345, 76, 5]))"
            ]
          },
          "metadata": {
            "tags": []
          },
          "execution_count": 8
        }
      ]
    },
    {
      "cell_type": "code",
      "metadata": {
        "id": "h4N_qluU1YcX",
        "colab_type": "code",
        "colab": {
          "base_uri": "https://localhost:8080/",
          "height": 34
        },
        "outputId": "1d1f505b-838f-4283-d094-3baafa6940cd"
      },
      "source": [
        "# for the the mean operation you need to specify the dimension:\n",
        "\n",
        "x = torch.rand((42,15,10))\n",
        "\n",
        "torch.mean(x,dim=1).shape   "
      ],
      "execution_count": null,
      "outputs": [
        {
          "output_type": "execute_result",
          "data": {
            "text/plain": [
              "torch.Size([42, 10])"
            ]
          },
          "metadata": {
            "tags": []
          },
          "execution_count": 20
        }
      ]
    },
    {
      "cell_type": "markdown",
      "metadata": {
        "id": "ltkluyDp1Ycb",
        "colab_type": "text"
      },
      "source": [
        "## build the model, train, submit when you reach above 75% accuracy on the validation set:"
      ]
    },
    {
      "cell_type": "code",
      "metadata": {
        "id": "zun8f-EU1Ycc",
        "colab_type": "code",
        "colab": {}
      },
      "source": [
        "class DeepSet(nn.Module):\n",
        "    def __init__(self):\n",
        "        super(DeepSet, self).__init__()\n",
        "        self.linear_emb=nn.Linear(2,8)  #shape - (n_pictues_inbatch,n.points,8)\n",
        "        self.linear_emb2=nn.Linear(8,16)  \n",
        "        self.linear_emb3=nn.Linear(16,64)  \n",
        "        self.linear_emb4=nn.Linear(64,128)  \n",
        "\n",
        "        self.linear1=nn.Linear(128,16)\n",
        "        self.linear2=nn.Linear(16,10)\n",
        "    \n",
        "    def forward(self, x):\n",
        "        x = F.relu(self.linear_emb(x))\n",
        "        x = F.relu(self.linear_emb2(x))\n",
        "        x = F.relu(self.linear_emb3(x))\n",
        "        x = F.relu(self.linear_emb4(x))\n",
        "\n",
        "        x = torch.mean(x,1)\n",
        "\n",
        "        x = F.relu(self.linear1(x))\n",
        "        output = self.linear2(x)\n",
        "        \n",
        "        return output "
      ],
      "execution_count": 6,
      "outputs": []
    },
    {
      "cell_type": "code",
      "metadata": {
        "id": "E0oy4Cp61Ycg",
        "colab_type": "code",
        "colab": {}
      },
      "source": [
        "net = DeepSet()\n",
        "# net.cuda()\n",
        "loss_func = nn.CrossEntropyLoss()\n",
        "optimizer = optim.Adam(net.parameters(), lr=1e-4)"
      ],
      "execution_count": 27,
      "outputs": []
    },
    {
      "cell_type": "code",
      "metadata": {
        "id": "sMp9-Pe3kRin",
        "colab_type": "code",
        "colab": {}
      },
      "source": [
        "def compute_accuracy(data_loader,net):\n",
        "    \n",
        "    net.eval()\n",
        "    \n",
        "    total_number = 0\n",
        "    total_correct = 0\n",
        "    \n",
        "    for x,y in data_loader:\n",
        "        x, y = x.cpu(), y.cpu()\n",
        "\n",
        "        prediction = net(x).data.numpy()\n",
        "        \n",
        "        prediction = np.argmax(prediction,axis=1)\n",
        "        \n",
        "        correct = len( np.where(prediction==y.data.numpy())[0] )\n",
        "        \n",
        "        total_correct+=correct\n",
        "        total_number+=x.shape[0]\n",
        "        \n",
        "    return total_correct/float(total_number)"
      ],
      "execution_count": 28,
      "outputs": []
    },
    {
      "cell_type": "code",
      "metadata": {
        "id": "iEasAdz2FAW-",
        "colab_type": "code",
        "colab": {}
      },
      "source": [
        "def compute_loss(data_loader,net, loss_func):\n",
        "    \n",
        "    net.eval()\n",
        "    \n",
        "    total_number = 0\n",
        "    sizes = []\n",
        "    losses = []\n",
        "    \n",
        "    for x,y in data_loader:\n",
        "        x, y = x.cpu(), y.cpu()\n",
        "        logits = net(x)\n",
        "        loss = loss_func(logits, y)\n",
        "        sizes.append(x.shape[0])\n",
        "        losses.append(loss.cpu().item())\n",
        "        total_number+=x.shape[0]\n",
        "\n",
        "    mean_loss = 0\n",
        "    for loss, size in zip(losses, sizes):\n",
        "        mean_loss += loss * size\n",
        "    mean_loss /= total_number\n",
        "    print(losses)\n",
        "\n",
        "    # mean_loss = sum([loss * size for loss, size in zip(losses, sizes)]) / total_number\n",
        "        \n",
        "    return mean_loss"
      ],
      "execution_count": 29,
      "outputs": []
    },
    {
      "cell_type": "code",
      "metadata": {
        "id": "MHxu7GVM1Ycr",
        "colab_type": "code",
        "colab": {}
      },
      "source": [
        "\n",
        "\n",
        "batch_size = 50\n",
        "ds_train = CustomDataset('/content/drive/My Drive/ML Weizmann/training_ds.h5')\n",
        "ds_val = CustomDataset('/content/drive/My Drive/ML Weizmann/valid_ds.h5')\n",
        "\n",
        "batch_sampler_train = CustomBatchSampler(ds_train.n_points, batch_size)\n",
        "train_data_loader = DataLoader(ds_train, batch_sampler=batch_sampler_train)\n",
        "\n",
        "batch_sampler_val = CustomBatchSampler(ds_val.n_points, batch_size)\n",
        "val_data_loader = DataLoader(ds_val, batch_sampler=batch_sampler_val)\n",
        "\n"
      ],
      "execution_count": 30,
      "outputs": []
    },
    {
      "cell_type": "code",
      "metadata": {
        "id": "-VZjnhpGIGub",
        "colab_type": "code",
        "colab": {
          "base_uri": "https://localhost:8080/",
          "height": 940,
          "referenced_widgets": [
            "f85906eb32ab46cfb248042aa00fc22c",
            "885a2a0e717b4d2ea66d56d65326a4a4",
            "4a4ef959e27048e5a0224a15189ee5d0",
            "eb4c8a5a97e24ab1a77cd951c12da745",
            "7f1ed624c1e344ac93067b45a6feb3ba",
            "9f169748556b46c6b375ef501689cfde",
            "6fd99390a00348a585ab950f1503c0bd",
            "5c606d42d2a1460a867f2614fb260800",
            "aeaf4dd68fc749f2af1d99c9ccdf9e2c",
            "734a90fb0c4c48988b6f54e882cca785",
            "795d6b2563f94770930cb88699b0499b",
            "7c9eb35533654f44b4850d5d7934e1d2",
            "33b1192fef8a492e8762a8dbf27066e2",
            "9aaa8b3068484158905b42ba11f2f372",
            "3ebfb16bcc7f4b81b6f4e472a142cb96",
            "6d6623678f994eadac7f4f9889fcc324",
            "5521e4ba59ed4f968315dab692367038",
            "02d7eca92f7d451aad06d51e5a1fcd0e",
            "6f0b6bca01464c8ba4b39ec1a57b844c",
            "ae75097764a64ce59653a75a48d7aeb3",
            "a10ba5bf79f742e7bff3942b45a83897",
            "6d6b926965b9423ab60f4788004ecbb0",
            "8f31acbcff964d899d9a280b84644cad",
            "9e5296b7669446ec9f68677d77706ff1",
            "99be924a3a4e4dc888dc17af906a709c",
            "fd711b71a40f4d90806fc20a08902077",
            "dd86391d54594b609d38c15c53d077a5",
            "21d8cf0076694272bab11d6dd13ea53a",
            "2bfb0fd62b9642a3a0eaa1410a7cbcc3",
            "950e19c61d6d4f8780746fa852a5a8c7",
            "8f197a7600474f51abedb21aa8f68831",
            "c32dd04b5c5a4287bfebc464b2bd405a",
            "d6abb343634c4e39adc776d073d36c34",
            "f744173aa83943428e049ea47a9084b0",
            "2b10ce8234094a198ddbc7b216dd182f",
            "caa25e1ec9324ca6a0bc3eab3fb9755c",
            "e1a5a5c8d91e458eb809fec7bce1ce91",
            "597b4c6fb6de4bdba51b063eb78d4e4b",
            "9113ca94056c44d8aa044e6278c4ba0c",
            "1d49e976542248e69622053ea846e35a",
            "37f71de95ca545aa82263d02906c4c0b",
            "67bdd8832f4f4baf9d9c6af838b4a440",
            "b72c2c4f316548ae89aeced3b7ea3e9e",
            "5032d2077a994f7085f237619798d63d",
            "cf48204d3bef43e3b20f6e7a9511b752",
            "b665739bdc314f41bd0632ff09b1fa41",
            "e29d46f6bf8045a9abfadcc32498bf26",
            "3fc09e8104794858b4a5bafda5b1a498",
            "a10530402a1b4c05a82141524291f9c6",
            "dd3baedacd164cadb12431f681e86bc3",
            "4dcdb0b11d9741289e0d4855acf5564d",
            "43220d1ddfb04d2080e3f7c61de2fdb7",
            "e628d4bc22bf4a7dad3eb61d824e5ce0",
            "e2a27feffe0e4326b89159a0e2519ca5",
            "e53c72c0c98c4810ba11ba9852608c77",
            "09a03a1be5e6408faed04a123311e71f",
            "8f181af84afd4748b9575b85ac7fd08f",
            "be6ee6f1d890414d854d4bdf1b740baf",
            "00baa738d67740b3aff70fa5400bf329",
            "c5937d0aae644f5988614f83eb5218db",
            "739dd7411f6f49cdb9c056a30b06145d",
            "8c684415e8dd40ccb50cca25bf0aa522",
            "4818fb9402b143dd9afc40809052ddbe",
            "8c7fc02e85db457cab3a0c4078bc1a46",
            "f25c558b9dcd4420b69bdaaf7fb40fd1",
            "9ef21d9e34434666b7c2122b5e39335e",
            "04aeeed3a9a049289f4d56c0b92f451a",
            "2370ee1f14774c1bb3eb4bd6166267f7",
            "b5d09ffeff304628b37c21c04bc0b921",
            "4e46a1ac8e3547e09b0b7ea0b3d33c40",
            "44ebfea12d1f4b0dbe99d0fb4d0ab0c1",
            "3c5cd2c6ac97402e87680677de658ba9",
            "9a6e6f2fddb540bdbc934aea934a6a36",
            "bd358f6d4a384568b418720b96a7cabe",
            "7bd685f0131d442e9548d07774250cfa",
            "0a305e649cdd4addadac5e957688d3d9",
            "bd0b64cb01a348b7905b41798c3c42ab",
            "90ebc113a8864e6ea84f7177ad7f4e53",
            "a7f5a586ea3941318bf0bcdb83daea6b",
            "e322972606be4071a66d5ed769dda8e2",
            "77d349c0352d448dbab6aa7f0ff8d5d7",
            "170cb24e5f774a8982c5854e6c21aa2d",
            "7956ad5126d045459e80fd3ef8ce187b",
            "43252a26e572438696fbdbfa0cafaf97",
            "e09f10ff3c824b91b590fa1ef0d3e27c",
            "df0b584f5ee545abb63cde8c24dad44b",
            "a2958f01f36a49ebae80696e06364638",
            "a4ebc7b12e7f40ac8cbe53f6b5d59b15"
          ]
        },
        "outputId": "570e43d2-b1e9-4aa7-e4a0-2e0ab577d3df"
      },
      "source": [
        "train_accs = []\n",
        "val_accs = []\n",
        "train_losses = []\n",
        "val_losses = []\n",
        "n_epochs=10\n",
        "\n",
        "for epoch in tqdm(range(n_epochs)):\n",
        "\n",
        "    net.train()\n",
        "    for x, y in tqdm(train_data_loader):\n",
        "        x, y = x.cpu(), y.cpu()\n",
        "        logits = net(x)\n",
        "        loss = loss_func(logits, y)\n",
        "        optimizer.zero_grad()\n",
        "        loss.backward()\n",
        "        optimizer.step()\n",
        "# if epoch > 90 :\n",
        "    train_accs.append(compute_accuracy(train_data_loader, net))\n",
        "    val_accs.append(compute_accuracy(val_data_loader, net))\n",
        "    train_losses.append(compute_loss(train_data_loader, net, loss_func))\n",
        "    val_losses.append(compute_loss(val_data_loader, net, loss_func))"
      ],
      "execution_count": 31,
      "outputs": [
        {
          "output_type": "display_data",
          "data": {
            "application/vnd.jupyter.widget-view+json": {
              "model_id": "f85906eb32ab46cfb248042aa00fc22c",
              "version_minor": 0,
              "version_major": 2
            },
            "text/plain": [
              "HBox(children=(FloatProgress(value=0.0, max=10.0), HTML(value='')))"
            ]
          },
          "metadata": {
            "tags": []
          }
        },
        {
          "output_type": "display_data",
          "data": {
            "application/vnd.jupyter.widget-view+json": {
              "model_id": "aeaf4dd68fc749f2af1d99c9ccdf9e2c",
              "version_minor": 0,
              "version_major": 2
            },
            "text/plain": [
              "HBox(children=(FloatProgress(value=1.0, bar_style='info', max=1.0), HTML(value='')))"
            ]
          },
          "metadata": {
            "tags": []
          }
        },
        {
          "output_type": "stream",
          "text": [
            "\n",
            "[2.330902338027954, 2.3645405769348145, 2.2484564781188965, 2.437938690185547, 2.3123691082000732, 2.355701208114624, 2.3551557064056396, 2.226735830307007, 2.2067415714263916, 2.3551509380340576, 2.2897863388061523, 2.298488140106201, 2.309196949005127, 2.366075277328491, 2.308530330657959, 2.3356306552886963, 2.3007586002349854, 2.273648500442505, 2.3774027824401855, 2.3581745624542236, 2.126621723175049, 2.251650094985962, 2.2260901927948, 2.2807633876800537, 2.327758312225342, 2.4366981983184814, 2.4287757873535156, 2.2398414611816406, 2.327885150909424, 2.277331829071045, 2.4140777587890625, 2.3834807872772217, 2.295227527618408, 2.3540186882019043, 2.3699843883514404, 2.3476450443267822, 2.294219732284546, 2.226613759994507, 2.348483085632324, 2.2267446517944336, 2.3121674060821533, 2.3441126346588135, 2.2228689193725586, 2.346759557723999, 2.4367973804473877, 2.3489835262298584, 2.261746644973755, 2.3609673976898193, 2.436859130859375, 2.358022928237915, 2.348876714706421, 2.243379831314087, 2.2231438159942627, 2.2275025844573975, 2.5063016414642334, 2.312520742416382, 2.436980724334717, 2.2863214015960693, 2.304981231689453, 2.3190720081329346, 2.3439981937408447, 2.276078462600708, 2.406233072280884, 2.3194327354431152, 2.322544574737549, 2.3497085571289062, 2.3557403087615967, 2.2684102058410645, 2.3484559059143066, 2.259531259536743, 2.2198827266693115, 2.3107657432556152, 2.345292091369629, 2.3097245693206787, 2.295273542404175, 2.322248935699463, 2.3233540058135986, 2.3841922283172607, 2.2265186309814453, 2.251274347305298, 2.3354690074920654, 2.388129949569702, 2.3034284114837646, 2.2584686279296875, 2.344738483428955, 2.346040725708008, 2.2263846397399902, 2.286964178085327, 2.443220615386963, 2.2892448902130127, 2.3628127574920654, 2.302629232406616, 2.360095739364624, 2.41335129737854, 2.3740525245666504, 2.3523547649383545, 2.3789005279541016, 2.3219516277313232, 2.3589377403259277, 2.280205726623535, 2.366257667541504, 2.262080192565918, 2.333858013153076, 2.4368555545806885, 2.302802562713623, 2.436617851257324, 2.2864415645599365, 2.451490640640259, 2.3203225135803223, 2.28094744682312, 2.311830520629883, 2.3655996322631836, 2.323795795440674, 2.4368324279785156, 2.3934593200683594, 2.408818006515503, 2.413898468017578, 2.436939239501953, 2.374438762664795, 2.2261276245117188, 2.3461720943450928, 2.3584518432617188, 2.3035829067230225, 2.270690679550171, 2.4164211750030518, 2.2266111373901367, 2.323641777038574, 2.2065391540527344, 2.36824369430542, 2.226609945297241, 2.3439669609069824, 2.32981014251709, 2.2606518268585205, 2.3392202854156494, 2.3135488033294678, 2.2658133506774902, 2.273444414138794, 2.295383930206299, 2.350614309310913, 2.413135290145874, 2.3513925075531006, 2.2901675701141357, 2.231234312057495, 2.370852470397949, 2.436720132827759, 2.3054373264312744, 2.340832471847534, 2.3517138957977295, 2.3064160346984863, 2.348109483718872, 2.354663133621216, 2.2266159057617188, 2.286088466644287, 2.2265965938568115, 2.3327581882476807, 2.385329246520996, 2.2814245223999023, 2.2279791831970215, 2.3275294303894043, 2.293856143951416, 2.3543243408203125, 2.3013908863067627, 2.2910025119781494, 2.3094210624694824, 2.3322906494140625, 2.306391954421997, 2.334310293197632, 2.3095157146453857, 2.299283504486084, 2.2731099128723145, 2.378528594970703, 2.268117666244507, 2.22709059715271, 2.3505704402923584, 2.226379632949829, 2.227282762527466, 2.246595859527588, 2.3172545433044434, 2.398162841796875, 2.329479217529297, 2.385700225830078, 2.4065537452697754, 2.3198606967926025, 2.378391981124878, 2.465824842453003, 2.2686753273010254, 2.277275323867798, 2.321773052215576, 2.33817982673645, 2.301290988922119, 2.277393341064453, 2.328246831893921, 2.3574166297912598, 2.2313714027404785, 2.2515506744384766, 2.37495756149292, 2.3483541011810303, 2.329077959060669, 2.305523633956909, 2.4286656379699707, 2.3203463554382324, 2.4540555477142334, 2.337784767150879, 2.322347640991211, 2.2722275257110596, 2.2264201641082764, 2.436939239501953, 2.3465614318847656, 2.3726301193237305, 2.338045120239258, 2.321748733520508, 2.3103067874908447, 2.3139865398406982, 2.436800956726074, 2.232208728790283, 2.3134591579437256, 2.2558810710906982, 2.2261745929718018, 2.3582046031951904, 2.3086464405059814, 2.3342740535736084, 2.436870574951172, 2.3440701961517334, 2.2772879600524902, 2.3286190032958984, 2.3279545307159424, 2.3407394886016846, 2.3006069660186768, 2.3254826068878174, 2.357119560241699, 2.4082422256469727, 2.2636144161224365, 2.3522250652313232, 2.4370360374450684, 2.372631788253784, 2.381294012069702, 2.280787467956543, 2.221257448196411, 2.2914786338806152, 2.349783420562744, 2.3057568073272705, 2.332343578338623, 2.2302422523498535, 2.319122552871704, 2.3865396976470947, 2.3628556728363037]\n",
            "[2.3184542655944824, 2.286203622817993, 2.40578293800354, 2.3662643432617188, 2.297048568725586, 2.506385326385498, 2.353426218032837, 2.3597910404205322, 2.4648938179016113, 2.3311262130737305, 2.375722646713257, 2.3427460193634033, 2.324143171310425, 2.3271214962005615, 2.3692233562469482, 2.373757839202881, 2.3596432209014893, 2.297969102859497, 2.2833025455474854, 2.350717067718506, 2.2683329582214355, 2.2565488815307617, 2.4367775917053223, 2.2574572563171387, 2.219228982925415, 2.3385140895843506, 2.3040895462036133, 2.274172067642212, 2.400930643081665, 2.226639747619629, 2.2364203929901123, 2.3147635459899902, 2.30222749710083, 2.324911117553711, 2.2261903285980225, 2.4661316871643066, 2.231649160385132, 2.4301109313964844, 2.341630697250366, 2.4368844032287598, 2.3498141765594482, 2.206596612930298, 2.281449317932129, 2.3531763553619385, 2.3272602558135986, 2.354706287384033, 2.261824369430542, 2.2842235565185547, 2.320148468017578, 2.227081775665283, 2.349231004714966, 2.276895046234131, 2.3103830814361572, 2.2408828735351562, 2.2751452922821045, 2.335251808166504, 2.2263593673706055, 2.271270513534546, 2.330906629562378, 2.3598973751068115, 2.30477237701416, 2.3432137966156006, 2.331400156021118, 2.283778667449951, 2.206815004348755, 2.3736283779144287, 2.2964439392089844, 2.320728063583374, 2.206991672515869, 2.3073315620422363, 2.3216018676757812, 2.3083739280700684, 2.2372360229492188, 2.2386045455932617, 2.4098191261291504, 2.360062599182129, 2.374501943588257, 2.3773443698883057, 2.3069961071014404, 2.237386465072632, 2.2702207565307617, 2.321709394454956, 2.296825885772705, 2.363248348236084, 2.4052698612213135, 2.2268404960632324, 2.257337808609009, 2.2850522994995117, 2.212195634841919, 2.335501194000244, 2.2336156368255615, 2.320864677429199, 2.3309693336486816, 2.331333637237549, 2.3282008171081543, 2.2832601070404053, 2.3743457794189453, 2.463268995285034, 2.4448227882385254, 2.3454833030700684, 2.2900607585906982, 2.3306987285614014, 2.3100733757019043, 2.3713042736053467, 2.3474185466766357, 2.336432695388794, 2.363419532775879, 2.336710214614868, 2.3145923614501953, 2.345548629760742, 2.2926690578460693, 2.358732223510742, 2.278991460800171, 2.3871264457702637, 2.3308310508728027, 2.3187522888183594, 2.3391189575195312, 2.3818747997283936, 2.377645969390869, 2.314798593521118, 2.4368581771850586, 2.3275554180145264, 2.355869770050049, 2.3738114833831787, 2.3521268367767334, 2.2267367839813232, 2.361562728881836, 2.3562803268432617, 2.385164499282837, 2.3044967651367188, 2.3064370155334473, 2.3548343181610107, 2.2532076835632324, 2.341878652572632, 2.3978476524353027, 2.3498291969299316, 2.3537919521331787, 2.3448023796081543, 2.3792834281921387, 2.333690643310547, 2.4367752075195312, 2.226886034011841, 2.344968318939209, 2.285346508026123, 2.269416570663452, 2.254760503768921, 2.2063841819763184, 2.3725247383117676, 2.2872233390808105, 2.3600587844848633, 2.356905937194824, 2.3217990398406982, 2.3276565074920654, 2.29801607131958, 2.259243965148926, 2.2272684574127197, 2.2490391731262207, 2.268389940261841, 2.495492935180664, 2.2942214012145996, 2.3178553581237793, 2.3177406787872314, 2.436772108078003, 2.3010382652282715, 2.3092546463012695, 2.3519845008850098, 2.2422211170196533, 2.3389925956726074, 2.2265615463256836, 2.2836194038391113, 2.2360877990722656, 2.314122438430786, 2.303722381591797, 2.3256030082702637, 2.2488763332366943, 2.2428767681121826, 2.304943799972534, 2.310361623764038, 2.249807357788086, 2.318418502807617, 2.2066171169281006, 2.3334033489227295, 2.3657398223876953, 2.285552740097046, 2.3452253341674805, 2.3537747859954834, 2.3135602474212646, 2.322725296020508, 2.404853343963623, 2.3447303771972656, 2.3090660572052, 2.21732759475708, 2.2843172550201416, 2.28263521194458, 2.305793285369873, 2.3535406589508057, 2.3431241512298584, 2.305847644805908, 2.436401844024658, 2.2065625190734863, 2.3174095153808594, 2.2385616302490234, 2.2944862842559814, 2.3254776000976562, 2.3740451335906982, 2.2866320610046387, 2.2980339527130127, 2.2315456867218018, 2.2702908515930176, 2.3018240928649902, 2.2226243019104004, 2.2721235752105713, 2.299863576889038, 2.283287763595581, 2.2706573009490967, 2.3171896934509277, 2.2264113426208496, 2.466019868850708, 2.321739435195923, 2.305976152420044, 2.3623790740966797, 2.285715103149414, 2.2921218872070312, 2.450186252593994, 2.3060202598571777, 2.3940470218658447, 2.3230626583099365, 2.4081947803497314, 2.294151782989502, 2.3904037475585938, 2.4368720054626465, 2.3600826263427734, 2.2295594215393066, 2.3069069385528564, 2.3334906101226807, 2.306825637817383, 2.3882968425750732, 2.3816678524017334, 2.319875955581665, 2.3614344596862793, 2.3758275508880615, 2.2647457122802734, 2.2068145275115967, 2.353609323501587, 2.33939266204834, 2.246526002883911, 2.3822524547576904, 2.300558567047119, 2.2265310287475586, 2.2293665409088135, 2.335935354232788, 2.3028016090393066, 2.2596473693847656, 2.272810935974121, 2.2269105911254883]\n"
          ],
          "name": "stdout"
        },
        {
          "output_type": "display_data",
          "data": {
            "application/vnd.jupyter.widget-view+json": {
              "model_id": "5521e4ba59ed4f968315dab692367038",
              "version_minor": 0,
              "version_major": 2
            },
            "text/plain": [
              "HBox(children=(FloatProgress(value=0.0, max=246.0), HTML(value='')))"
            ]
          },
          "metadata": {
            "tags": []
          }
        },
        {
          "output_type": "stream",
          "text": [
            "\n",
            "[2.184598207473755, 2.2267394065856934, 2.2805213928222656, 2.3056819438934326, 2.4023592472076416, 2.1634998321533203, 2.340038299560547, 2.2778477668762207, 2.1842880249023438, 2.303373336791992, 2.164884328842163, 2.2559244632720947, 2.298598527908325, 2.264965772628784, 2.314847946166992, 2.3331472873687744, 2.339711904525757, 2.2309906482696533, 2.4197213649749756, 2.3234148025512695, 2.1843762397766113, 2.2773396968841553, 2.377060890197754, 2.313838243484497, 2.282660961151123, 2.165081262588501, 2.372145414352417, 2.3734564781188965, 2.3153319358825684, 2.314202308654785, 2.311220645904541, 2.1649422645568848, 2.237213134765625, 2.3157918453216553, 2.3486380577087402, 2.3423938751220703, 2.341062545776367, 2.348217725753784, 2.3828744888305664, 2.397433280944824, 2.1648876667022705, 2.262406826019287, 2.310413360595703, 2.3162615299224854, 2.3321077823638916, 2.3162057399749756, 2.3594555854797363, 2.3355231285095215, 2.2781033515930176, 2.195265054702759, 2.360701322555542, 2.3308801651000977, 2.3259406089782715, 2.3594319820404053, 2.349639892578125, 2.3075613975524902, 2.3884336948394775, 2.361173391342163, 2.35323429107666, 2.328383684158325, 2.32511305809021, 2.288133382797241, 2.3726325035095215, 2.302727699279785, 2.3467538356781006, 2.3000707626342773, 2.3423526287078857, 2.3685107231140137, 2.3381974697113037, 2.275111675262451, 2.486664056777954, 2.318377733230591, 2.382857084274292, 2.26642107963562, 2.281026840209961, 2.3717458248138428, 2.2957987785339355, 2.164628267288208, 2.3451647758483887, 2.371034622192383, 2.221740484237671, 2.327664852142334, 2.280602216720581, 2.3361966609954834, 2.2297523021698, 2.3023669719696045, 2.3106002807617188, 2.3438093662261963, 2.1645848751068115, 2.341815233230591, 2.355835437774658, 2.336704969406128, 2.314525842666626, 2.372164249420166, 2.338059902191162, 2.317410945892334, 2.2879927158355713, 2.2263355255126953, 2.285879611968994, 2.3300304412841797, 2.3036797046661377, 2.321911334991455, 2.3198680877685547, 2.2922582626342773, 2.3457343578338623, 2.34218168258667, 2.368687629699707, 2.4220290184020996, 2.3742876052856445, 2.324070453643799, 2.3275628089904785, 2.2630224227905273, 2.300930976867676, 2.301949977874756, 2.3619508743286133, 2.3344733715057373, 2.4113681316375732, 2.2686188220977783, 2.1933538913726807, 2.2946114540100098, 2.1997148990631104, 2.2643845081329346, 2.330092430114746, 2.3492088317871094, 2.327646255493164, 2.3023457527160645, 2.42244553565979, 2.314418315887451, 2.343881845474243, 2.2324929237365723, 2.3476130962371826, 2.3784632682800293, 2.274327278137207, 2.3457324504852295, 2.369652509689331, 2.328748941421509, 2.3074564933776855, 2.163393259048462, 2.163461685180664, 2.3491170406341553, 2.3724329471588135, 2.1646463871002197, 2.2819297313690186, 2.3411312103271484, 2.3210487365722656, 2.320277214050293, 2.3679614067077637, 2.2158777713775635, 2.316309690475464, 2.1422688961029053, 2.335561513900757, 2.325305223464966, 2.335124969482422, 2.3111510276794434, 2.309664249420166, 2.299151659011841, 2.345201253890991, 2.372457504272461, 2.346096992492676, 2.372615337371826, 2.164679765701294, 2.341191053390503, 2.3997325897216797, 2.3385939598083496, 2.245058059692383, 2.394300937652588, 2.3719258308410645, 2.3721601963043213, 2.352144718170166, 2.1639459133148193, 2.1645467281341553, 2.394697904586792, 2.35790753364563, 2.379709243774414, 2.347059965133667, 2.330355405807495, 2.2938437461853027, 2.259040355682373, 2.1642141342163086, 2.3191416263580322, 2.3556177616119385, 2.3255622386932373, 2.3462700843811035, 2.3410634994506836, 2.372103691101074, 2.3019344806671143, 2.3354973793029785, 2.3425498008728027, 2.3650333881378174, 2.353091239929199, 2.3447368144989014, 2.2225279808044434, 2.372398853302002, 2.327873468399048, 2.3120365142822266, 2.2213611602783203, 2.3752567768096924, 2.3478100299835205, 2.371736764907837, 2.1647768020629883, 2.3707315921783447, 2.1725289821624756, 2.3021626472473145, 2.3675196170806885, 2.331249475479126, 2.183462619781494, 2.362982988357544, 2.3211119174957275, 2.3620433807373047, 2.1920151710510254, 2.3157482147216797, 2.2324845790863037, 2.3478894233703613, 2.349109172821045, 2.3692028522491455, 2.374922752380371, 2.3720784187316895, 2.3459267616271973, 2.345968723297119, 2.3107059001922607, 2.164445638656616, 2.3182103633880615, 2.3222615718841553, 2.166152238845825, 2.24047589302063, 2.326937198638916, 2.3220551013946533, 2.3108766078948975, 2.31292986869812, 2.296661853790283, 2.307403087615967, 2.366515874862671, 2.338773488998413, 2.419869899749756, 2.3572304248809814, 2.3658227920532227, 2.332653760910034, 2.192491054534912, 2.3711154460906982, 2.1641011238098145, 2.3005590438842773, 2.3157966136932373, 2.418200731277466, 2.3218979835510254, 2.3429393768310547, 2.3320140838623047]\n",
            "[2.3581767082214355, 2.228057622909546, 2.3655214309692383, 2.213336229324341, 2.330875873565674, 2.3683393001556396, 2.304504632949829, 2.232766628265381, 2.304377555847168, 2.332465410232544, 2.3044605255126953, 2.332691192626953, 2.279305934906006, 2.3710005283355713, 2.3232429027557373, 2.302677631378174, 2.295400857925415, 2.3248674869537354, 2.3022501468658447, 2.2945542335510254, 2.31319260597229, 2.1768219470977783, 2.3089115619659424, 2.301406145095825, 2.35880184173584, 2.353963851928711, 2.3607332706451416, 2.302304983139038, 2.2836973667144775, 2.363966226577759, 2.3358185291290283, 2.3066294193267822, 2.278751850128174, 2.232119083404541, 2.274263858795166, 2.195617437362671, 2.218153238296509, 2.2873759269714355, 2.3020517826080322, 2.2631478309631348, 2.172837018966675, 2.3455381393432617, 2.3636362552642822, 2.2992074489593506, 2.1815457344055176, 2.310525417327881, 2.3497908115386963, 2.335078001022339, 2.16522479057312, 2.317741632461548, 2.365363359451294, 2.2427167892456055, 2.3645074367523193, 2.307525634765625, 2.2787065505981445, 2.372419834136963, 2.3750178813934326, 2.294102668762207, 2.3390865325927734, 2.3387506008148193, 2.1643168926239014, 2.342510461807251, 2.3138818740844727, 2.3904342651367188, 2.3540191650390625, 2.3066184520721436, 2.3319265842437744, 2.210329294204712, 2.2885959148406982, 2.3048150539398193, 2.3374414443969727, 2.314706802368164, 2.2236554622650146, 2.2863409519195557, 2.349583864212036, 2.377094030380249, 2.323753833770752, 2.3460195064544678, 2.317070245742798, 2.3254621028900146, 2.3722994327545166, 2.2327611446380615, 2.207638740539551, 2.3359854221343994, 2.340043306350708, 2.326930046081543, 2.379056692123413, 2.3638014793395996, 2.3560805320739746, 2.3558812141418457, 2.368406057357788, 2.332719087600708, 2.348292589187622, 2.3022055625915527, 2.302460193634033, 2.174800395965576, 2.332691192626953, 2.4733197689056396, 2.3315892219543457, 2.3722448348999023, 2.2658512592315674, 2.225966215133667, 2.3227624893188477, 2.359112024307251, 2.3487982749938965, 2.4870424270629883, 2.190272092819214, 2.27875018119812, 2.259028673171997, 2.2528228759765625, 2.3254709243774414, 2.2776310443878174, 2.242672920227051, 2.3417274951934814, 2.1691665649414062, 2.348119020462036, 2.1638195514678955, 2.3331799507141113, 2.3481264114379883, 2.33650541305542, 2.3566536903381348, 2.3303630352020264, 2.409735918045044, 2.228909492492676, 2.3140060901641846, 2.2329788208007812, 2.3482513427734375, 2.1896376609802246, 2.348299980163574, 2.3851866722106934, 2.31189227104187, 2.314749240875244, 2.19502329826355, 2.350735902786255, 2.296783685684204, 2.3319149017333984, 2.3275012969970703, 2.1706745624542236, 2.3021655082702637, 2.3662991523742676, 2.310983657836914, 2.3710618019104004, 2.2952866554260254, 2.305823802947998, 2.164736747741699, 2.3866019248962402, 2.3596224784851074, 2.3739125728607178, 2.3248486518859863, 2.1648237705230713, 2.171710968017578, 2.340247869491577, 2.3367598056793213, 2.3154497146606445, 2.3348677158355713, 2.2914016246795654, 2.161316394805908, 2.350337266921997, 2.3622264862060547, 2.3183794021606445, 2.3558239936828613, 2.232032299041748, 2.1641669273376465, 2.359388828277588, 2.3351776599884033, 2.312375545501709, 2.306126356124878, 2.251054048538208, 2.1645970344543457, 2.32417368888855, 2.2962982654571533, 2.2923569679260254, 2.192221164703369, 2.3251917362213135, 2.3091530799865723, 2.42246150970459, 2.322096347808838, 2.311577081680298, 2.348921537399292, 2.2901318073272705, 2.310706615447998, 2.3721606731414795, 2.3766915798187256, 2.4189398288726807, 2.346451759338379, 2.3317036628723145, 2.285825490951538, 2.205420970916748, 2.2426719665527344, 2.359309673309326, 2.348273277282715, 2.310462236404419, 2.429537296295166, 2.164897918701172, 2.2489089965820312, 2.429230213165283, 2.296832323074341, 2.1861720085144043, 2.3054049015045166, 2.3808858394622803, 2.393824577331543, 2.3920340538024902, 2.2327487468719482, 2.3542144298553467, 2.356039047241211, 2.2855334281921387, 2.3045053482055664, 2.3383562564849854, 2.2959554195404053, 2.3283936977386475, 2.261446237564087, 2.1648545265197754, 2.298185110092163, 2.361341953277588, 2.3413939476013184, 2.267723321914673, 2.3472325801849365, 2.364556312561035, 2.2083683013916016, 2.3421192169189453, 2.334833860397339, 2.3718414306640625, 2.292353630065918, 2.454986095428467, 2.328578472137451, 2.3497326374053955, 2.3719491958618164, 2.308472156524658, 2.1750924587249756, 2.1645219326019287, 2.188401460647583, 2.3444583415985107, 2.351426362991333, 2.3330323696136475, 2.422518253326416, 2.3269283771514893, 2.2797396183013916, 2.337291717529297, 2.2062807083129883, 2.3071367740631104, 2.2930235862731934, 2.3180124759674072, 2.3719019889831543, 2.292299747467041, 2.3254196643829346, 2.317711114883423, 2.3214168548583984, 2.3306381702423096, 2.3178939819335938, 2.3316965103149414, 2.251099109649658, 2.2885587215423584, 2.3097493648529053, 2.232264757156372, 2.3154296875]\n"
          ],
          "name": "stdout"
        },
        {
          "output_type": "display_data",
          "data": {
            "application/vnd.jupyter.widget-view+json": {
              "model_id": "99be924a3a4e4dc888dc17af906a709c",
              "version_minor": 0,
              "version_major": 2
            },
            "text/plain": [
              "HBox(children=(FloatProgress(value=0.0, max=246.0), HTML(value='')))"
            ]
          },
          "metadata": {
            "tags": []
          }
        },
        {
          "output_type": "stream",
          "text": [
            "\n",
            "[2.169797897338867, 2.3532376289367676, 2.3602287769317627, 2.2626333236694336, 2.1865217685699463, 2.379336357116699, 2.2895898818969727, 2.3267641067504883, 2.312469720840454, 2.340663433074951, 2.3438949584960938, 2.3646440505981445, 2.262911319732666, 2.361855983734131, 2.2943520545959473, 2.3322441577911377, 2.3365061283111572, 2.3403570652008057, 2.18717360496521, 2.1886167526245117, 2.323021411895752, 2.35252046585083, 2.1814956665039062, 2.2731618881225586, 2.05893611907959, 2.217535972595215, 2.329378604888916, 2.323678731918335, 2.1256372928619385, 2.3441975116729736, 2.323715925216675, 2.27079701423645, 2.3727428913116455, 2.300832748413086, 2.321593761444092, 2.2101199626922607, 2.3551180362701416, 2.3614022731781006, 2.0440192222595215, 2.37961483001709, 2.3510942459106445, 2.3325600624084473, 2.36582088470459, 2.368375301361084, 2.28420090675354, 2.3421688079833984, 2.1888551712036133, 2.3442606925964355, 2.133516311645508, 2.351090669631958, 2.334298610687256, 2.3853158950805664, 2.3517143726348877, 2.320359945297241, 2.251364231109619, 2.2600317001342773, 2.041727304458618, 2.3047142028808594, 2.3003480434417725, 2.0439095497131348, 2.1167452335357666, 2.3566219806671143, 2.32133150100708, 2.0471510887145996, 2.336359977722168, 2.3478376865386963, 2.2144992351531982, 2.1867856979370117, 2.3450071811676025, 2.3384201526641846, 2.258014678955078, 2.2956349849700928, 2.1858646869659424, 2.3865745067596436, 2.3749618530273438, 2.3455138206481934, 2.334937810897827, 2.044513463973999, 2.3418946266174316, 2.3019280433654785, 2.3448128700256348, 2.3202857971191406, 2.187828540802002, 2.1199612617492676, 2.246037721633911, 2.243966817855835, 2.0441060066223145, 2.333009958267212, 2.318122625350952, 2.2452445030212402, 2.043133497238159, 2.3297853469848633, 2.3148818016052246, 2.211996555328369, 2.390597105026245, 2.236447334289551, 2.3665223121643066, 2.2514915466308594, 2.353580951690674, 2.345057964324951, 2.2571327686309814, 2.2792978286743164, 2.3175179958343506, 2.3251030445098877, 2.2971880435943604, 2.044952392578125, 2.3482019901275635, 2.372199058532715, 2.320646286010742, 2.284345865249634, 2.394030809402466, 2.3239200115203857, 2.306643009185791, 2.216817855834961, 2.264949321746826, 2.3314857482910156, 2.308415651321411, 2.1873133182525635, 2.2144904136657715, 2.3459136486053467, 2.3844940662384033, 2.188615083694458, 2.3812367916107178, 2.370939254760742, 2.3475253582000732, 2.313185453414917, 2.3114466667175293, 2.2648167610168457, 2.2688403129577637, 2.0430355072021484, 2.3472647666931152, 2.2844367027282715, 2.341026782989502, 2.3541789054870605, 2.34734845161438, 2.3647923469543457, 2.3114402294158936, 2.320876359939575, 2.3573076725006104, 2.2603847980499268, 2.2866299152374268, 2.18906831741333, 2.3353726863861084, 2.336432695388794, 2.3081557750701904, 2.383340358734131, 2.1756300926208496, 2.3336122035980225, 2.0519652366638184, 2.3229408264160156, 2.0808746814727783, 2.2920122146606445, 2.2608389854431152, 2.0425162315368652, 2.32145619392395, 2.2982687950134277, 2.1877028942108154, 2.3276617527008057, 2.3513858318328857, 2.1887171268463135, 2.1808996200561523, 2.0438945293426514, 2.232333183288574, 2.0441157817840576, 2.32136869430542, 2.3714139461517334, 2.3343095779418945, 2.303680896759033, 2.3384273052215576, 2.1880085468292236, 2.3855674266815186, 2.156956672668457, 2.1454524993896484, 2.2363109588623047, 2.0925638675689697, 2.3402295112609863, 2.0527734756469727, 2.3523812294006348, 2.315176486968994, 2.335007905960083, 2.329467296600342, 2.3382105827331543, 2.3050615787506104, 2.2777035236358643, 2.214651346206665, 2.2712647914886475, 2.3236231803894043, 2.341001033782959, 2.0927133560180664, 2.305626153945923, 2.3351783752441406, 2.3380463123321533, 2.329508066177368, 2.1043975353240967, 2.3088126182556152, 2.321150302886963, 2.278716802597046, 2.3295462131500244, 2.359245538711548, 2.043544054031372, 2.3362555503845215, 2.367492437362671, 2.409078359603882, 2.338888168334961, 2.306136131286621, 2.1545815467834473, 2.3070662021636963, 2.3566665649414062, 2.2284352779388428, 2.358137369155884, 2.043802261352539, 2.365661144256592, 2.3510634899139404, 2.2640018463134766, 2.275621175765991, 2.341216564178467, 2.3108081817626953, 2.33978271484375, 2.3280892372131348, 2.3372178077697754, 2.3057971000671387, 2.361408233642578, 2.2730932235717773, 2.346707582473755, 2.267902135848999, 2.3473703861236572, 2.345001459121704, 2.3508241176605225, 2.065420627593994, 2.1875360012054443, 2.3451273441314697, 2.3117449283599854, 2.268162727355957, 2.3097944259643555, 2.2625343799591064, 2.1246204376220703, 2.320866346359253, 2.351167917251587, 2.2734756469726562, 2.342226982116699, 2.246298313140869, 2.348081350326538, 2.28471302986145, 2.3362224102020264, 2.0415701866149902, 2.3204712867736816]\n",
            "[2.3225979804992676, 2.3307535648345947, 2.318746566772461, 2.2947020530700684, 2.338667392730713, 2.2944400310516357, 2.2575926780700684, 2.3817245960235596, 2.3120696544647217, 2.316929340362549, 2.3171701431274414, 2.286430597305298, 2.2757489681243896, 2.320559024810791, 2.2769556045532227, 2.0606846809387207, 2.186619997024536, 2.346989631652832, 2.3058981895446777, 2.282572031021118, 2.3674352169036865, 2.3671441078186035, 2.331847906112671, 2.043164014816284, 2.160228967666626, 2.3415069580078125, 2.3289999961853027, 2.3239316940307617, 2.4099321365356445, 2.323768138885498, 2.355334758758545, 2.310084819793701, 2.3268187046051025, 2.305647850036621, 2.043285846710205, 2.335040807723999, 2.3280720710754395, 2.3407540321350098, 2.3323867321014404, 2.0951790809631348, 2.334414482116699, 2.334047317504883, 2.366652011871338, 2.3446545600891113, 2.3385226726531982, 2.1106343269348145, 2.3363425731658936, 2.2173049449920654, 2.275670051574707, 2.3630969524383545, 2.1954989433288574, 2.3361353874206543, 2.3326406478881836, 2.1871562004089355, 2.1464004516601562, 2.2993674278259277, 2.2322161197662354, 2.3505892753601074, 2.3254992961883545, 2.3247556686401367, 2.369349479675293, 2.382751941680908, 2.3286232948303223, 2.3279666900634766, 2.3668875694274902, 2.250375986099243, 2.265883684158325, 2.356156587600708, 2.236100912094116, 2.325561046600342, 2.204444169998169, 2.3088769912719727, 2.2693560123443604, 2.349384307861328, 2.333740234375, 2.3570570945739746, 2.3306121826171875, 2.2672548294067383, 2.283482789993286, 2.3050689697265625, 2.3328566551208496, 2.0724799633026123, 2.3460264205932617, 2.2655954360961914, 2.32792329788208, 2.3286542892456055, 2.322033166885376, 2.2839510440826416, 2.186959981918335, 2.358461856842041, 2.2845706939697266, 2.3187248706817627, 2.2602434158325195, 2.184798240661621, 2.3501532077789307, 2.0956010818481445, 2.3466174602508545, 2.2885255813598633, 2.3354036808013916, 2.0564424991607666, 2.1320390701293945, 2.0448503494262695, 2.3357152938842773, 2.304414987564087, 2.336085796356201, 2.370986223220825, 2.2607152462005615, 2.3037755489349365, 2.1882805824279785, 2.0563902854919434, 2.3292348384857178, 2.112379789352417, 2.144613027572632, 2.3409669399261475, 2.3397514820098877, 2.3612096309661865, 2.379080057144165, 2.320631265640259, 2.341214895248413, 2.276949882507324, 2.1459157466888428, 2.3193657398223877, 2.105405569076538, 2.2354581356048584, 2.346895933151245, 2.3326451778411865, 2.196255683898926, 2.368941068649292, 2.067988395690918, 2.2196967601776123, 2.3324062824249268, 2.332916736602783, 2.213239908218384, 2.277712821960449, 2.351019859313965, 2.1264212131500244, 2.3269360065460205, 2.3326616287231445, 2.0602619647979736, 2.260605812072754, 2.270792007446289, 2.2359256744384766, 2.2350430488586426, 2.2404403686523438, 2.234570264816284, 2.3375465869903564, 2.32529878616333, 2.3009374141693115, 2.3454411029815674, 2.3308756351470947, 2.33880352973938, 2.3717617988586426, 2.3339741230010986, 2.3202311992645264, 2.2607407569885254, 2.3063385486602783, 2.327345371246338, 2.3371331691741943, 2.088456630706787, 2.311067819595337, 2.357445478439331, 2.2080466747283936, 2.0440144538879395, 2.3490078449249268, 2.354363441467285, 2.1097049713134766, 2.319303035736084, 2.1878952980041504, 2.355901002883911, 2.044304132461548, 2.3580243587493896, 2.084076404571533, 2.3566150665283203, 2.260085344314575, 2.1340718269348145, 2.317979574203491, 2.315129041671753, 2.335008144378662, 2.3630456924438477, 2.3690202236175537, 2.044299840927124, 2.354163885116577, 2.3300869464874268, 2.3348755836486816, 2.279198408126831, 2.3138625621795654, 2.371243715286255, 2.3710129261016846, 2.284611463546753, 2.3223018646240234, 2.3100645542144775, 2.3341476917266846, 2.3181190490722656, 2.066598415374756, 2.2411701679229736, 2.367138624191284, 2.276132106781006, 2.323352813720703, 2.34247088432312, 2.1883440017700195, 2.3023898601531982, 2.34135103225708, 2.2425456047058105, 2.347785472869873, 2.2356815338134766, 2.3654439449310303, 2.3398427963256836, 2.3338098526000977, 2.1287457942962646, 2.3475518226623535, 2.3557302951812744, 2.311218023300171, 2.330254554748535, 2.4091267585754395, 2.314574956893921, 2.2313592433929443, 2.2870523929595947, 2.36696195602417, 2.3454253673553467, 2.323493719100952, 2.263498067855835, 2.3371922969818115, 2.3125364780426025, 2.3369829654693604, 2.3421733379364014, 2.3469138145446777, 2.3630199432373047, 2.3560214042663574, 2.3190786838531494, 2.3245577812194824, 2.3434293270111084, 2.278870105743408, 2.3604981899261475, 2.243291139602661, 2.089662790298462, 2.3439671993255615, 2.3489139080047607, 2.313304901123047, 2.3185951709747314, 2.0940122604370117, 2.073272466659546, 2.1809074878692627, 2.3142197132110596, 2.4050865173339844, 2.3447675704956055, 2.3201048374176025, 2.3574376106262207, 2.297703981399536, 2.0422966480255127, 2.334385633468628, 2.0442728996276855, 2.2921066284179688, 2.1589739322662354, 2.3431437015533447, 2.35261607170105]\n"
          ],
          "name": "stdout"
        },
        {
          "output_type": "display_data",
          "data": {
            "application/vnd.jupyter.widget-view+json": {
              "model_id": "d6abb343634c4e39adc776d073d36c34",
              "version_minor": 0,
              "version_major": 2
            },
            "text/plain": [
              "HBox(children=(FloatProgress(value=0.0, max=246.0), HTML(value='')))"
            ]
          },
          "metadata": {
            "tags": []
          }
        },
        {
          "output_type": "stream",
          "text": [
            "\n",
            "[2.3129961490631104, 2.397580862045288, 2.4266600608825684, 1.909409999847412, 2.177541494369507, 1.8595037460327148, 2.062110185623169, 2.2701165676116943, 2.434804677963257, 2.372563600540161, 2.251291513442993, 2.378451347351074, 2.340092182159424, 2.295325756072998, 1.9105234146118164, 2.2490954399108887, 2.1525495052337646, 2.0951144695281982, 2.341923713684082, 2.455876111984253, 2.383542537689209, 2.426280975341797, 2.308800220489502, 2.347022533416748, 2.1421139240264893, 1.862916350364685, 2.120774984359741, 2.3915653228759766, 2.059770107269287, 1.8632805347442627, 2.2218475341796875, 2.2987072467803955, 2.3593549728393555, 2.4180102348327637, 2.3632376194000244, 2.3867135047912598, 2.180372714996338, 1.9132291078567505, 2.2269582748413086, 1.9111086130142212, 2.345322608947754, 1.8634998798370361, 2.294591188430786, 1.9122796058654785, 2.3536794185638428, 2.2906434535980225, 2.2568840980529785, 2.255725145339966, 1.9105790853500366, 2.040580987930298, 2.3997318744659424, 2.098048210144043, 1.8636478185653687, 2.420686960220337, 2.2709672451019287, 2.2591068744659424, 1.9953689575195312, 2.2811734676361084, 2.0769665241241455, 1.9100486040115356, 2.368460178375244, 2.431908130645752, 2.4075372219085693, 2.3517377376556396, 2.2617201805114746, 2.388038396835327, 2.2243075370788574, 2.400817394256592, 2.3155007362365723, 2.1592252254486084, 2.377612590789795, 2.382704734802246, 2.3844261169433594, 2.423558235168457, 2.4082374572753906, 2.3861773014068604, 2.265153646469116, 2.381521701812744, 2.1977174282073975, 2.070624351501465, 2.2070910930633545, 2.3904991149902344, 2.401597499847412, 2.3920652866363525, 2.3638925552368164, 2.2649762630462646, 2.425630569458008, 2.3138511180877686, 2.3419265747070312, 1.9121370315551758, 2.097414970397949, 2.4705114364624023, 2.3332724571228027, 2.2374141216278076, 1.868947148323059, 2.4090445041656494, 2.395118474960327, 2.173490047454834, 2.222672462463379, 2.1278536319732666, 2.38828706741333, 2.4233977794647217, 2.3887650966644287, 2.281508684158325, 2.190950632095337, 2.4146454334259033, 2.3386383056640625, 1.8634414672851562, 2.3903772830963135, 2.3196070194244385, 2.1279430389404297, 1.908758282661438, 2.3468096256256104, 2.3616442680358887, 1.9061692953109741, 2.3469910621643066, 2.3083345890045166, 2.32564115524292, 2.4049386978149414, 2.227045774459839, 2.3570947647094727, 2.3552300930023193, 1.862390160560608, 1.8633860349655151, 2.311927080154419, 2.3906335830688477, 2.3641133308410645, 2.42417049407959, 2.1036229133605957, 1.8880707025527954, 2.21669864654541, 2.4722228050231934, 2.2679402828216553, 2.2082037925720215, 2.360586166381836, 2.3379924297332764, 1.8884154558181763, 2.3728713989257812, 2.1337459087371826, 2.015604019165039, 2.38965106010437, 2.3164219856262207, 2.3697705268859863, 2.3746776580810547, 2.368492841720581, 2.370346784591675, 2.169154167175293, 2.334364891052246, 2.1351139545440674, 2.395806074142456, 2.269590139389038, 1.9138798713684082, 2.422963857650757, 2.289504051208496, 2.3203537464141846, 2.2132909297943115, 2.3249478340148926, 2.4036920070648193, 2.3508756160736084, 2.3776087760925293, 2.4408841133117676, 2.327099561691284, 1.8649317026138306, 1.9840052127838135, 1.910332202911377, 2.414567708969116, 1.859303593635559, 1.8629366159439087, 2.1796185970306396, 2.3753421306610107, 2.3421924114227295, 2.289644479751587, 2.0677385330200195, 2.189990520477295, 1.908701777458191, 2.3568549156188965, 1.8618245124816895, 2.435072183609009, 2.228480339050293, 2.381655693054199, 2.4213500022888184, 2.1580846309661865, 2.388465642929077, 1.9919846057891846, 2.2252376079559326, 2.422518491744995, 2.267909049987793, 2.188734531402588, 2.0208849906921387, 1.9106361865997314, 2.357778787612915, 2.270171642303467, 1.9121873378753662, 2.1388261318206787, 2.414275646209717, 1.9634132385253906, 2.3314969539642334, 2.4201834201812744, 2.399439811706543, 2.027221441268921, 2.3876876831054688, 2.212433099746704, 2.4007394313812256, 2.23990535736084, 2.024442434310913, 2.3656742572784424, 2.3940439224243164, 2.3592586517333984, 1.9658650159835815, 2.463956117630005, 2.277866840362549, 1.8612236976623535, 2.1332578659057617, 2.254969596862793, 2.1520745754241943, 2.3990907669067383, 2.1800901889801025, 2.3813090324401855, 2.410708427429199, 2.0902938842773438, 2.2930502891540527, 2.325315237045288, 2.282396078109741, 2.2429542541503906, 2.430760145187378, 2.3122947216033936, 2.127441883087158, 2.324751138687134, 1.9134256839752197, 2.4145781993865967, 2.3371529579162598, 2.4370884895324707, 2.3870794773101807, 2.3432064056396484, 2.1896538734436035, 2.2888071537017822, 2.4067294597625732, 2.3818483352661133, 2.3292386531829834, 1.865706443786621, 2.4130454063415527, 2.420231342315674, 2.4092295169830322, 2.226879596710205, 2.240415573120117, 2.403505802154541]\n",
            "[1.956417202949524, 2.3896291255950928, 2.324845314025879, 2.3703505992889404, 2.3115341663360596, 1.9145526885986328, 2.1490509510040283, 2.413693428039551, 2.249397039413452, 2.3359477519989014, 2.3515307903289795, 2.1505415439605713, 2.3880388736724854, 2.3840129375457764, 2.3520591259002686, 1.8624356985092163, 2.408214569091797, 2.203040361404419, 2.288174867630005, 2.4208943843841553, 2.071096420288086, 1.8642833232879639, 2.3126184940338135, 1.865960717201233, 2.466587543487549, 2.3151118755340576, 2.3991506099700928, 2.004927635192871, 1.8636760711669922, 1.9125235080718994, 2.36798357963562, 2.2677767276763916, 2.434338092803955, 2.0599377155303955, 2.3440186977386475, 2.3855831623077393, 1.9597419500350952, 2.057082176208496, 2.374380350112915, 2.2769362926483154, 2.1166317462921143, 2.4011576175689697, 1.9792200326919556, 2.3658342361450195, 2.1188836097717285, 2.0968077182769775, 1.8882895708084106, 2.4016876220703125, 2.3421642780303955, 2.3714606761932373, 2.3321683406829834, 2.3882594108581543, 2.0020241737365723, 2.0568933486938477, 2.2193198204040527, 2.3516721725463867, 2.3831276893615723, 2.29374623298645, 1.9992743730545044, 2.3166208267211914, 2.3800973892211914, 2.427346706390381, 1.8967374563217163, 2.3309884071350098, 2.0963289737701416, 2.2355599403381348, 2.298910617828369, 2.396775484085083, 2.281196117401123, 2.4721548557281494, 2.352077007293701, 2.4298746585845947, 2.347120523452759, 2.397890090942383, 2.410160779953003, 2.097031354904175, 2.2509524822235107, 2.3744843006134033, 2.3137145042419434, 2.329472064971924, 2.2462079524993896, 1.957888126373291, 2.231156587600708, 2.34122371673584, 1.9900754690170288, 2.3534140586853027, 2.0540406703948975, 2.3673741817474365, 2.3999831676483154, 2.469398260116577, 2.415968894958496, 2.397214412689209, 2.404737710952759, 1.9084153175354004, 2.3711659908294678, 2.2889552116394043, 2.39471435546875, 2.3892710208892822, 2.1954619884490967, 2.356796979904175, 2.190157651901245, 2.413853406906128, 2.167123317718506, 2.4000961780548096, 2.471433162689209, 2.3505475521087646, 2.2746801376342773, 2.2821004390716553, 2.401679277420044, 2.403566360473633, 2.031538724899292, 2.3477096557617188, 2.377469301223755, 2.2297873497009277, 2.3368256092071533, 2.3843162059783936, 1.989037275314331, 2.330713987350464, 1.9099870920181274, 2.461407423019409, 2.3972978591918945, 2.1896700859069824, 2.327648401260376, 2.3090224266052246, 2.2044670581817627, 2.424118757247925, 2.348893404006958, 2.3469371795654297, 1.8621189594268799, 2.0962560176849365, 2.2902164459228516, 2.350165367126465, 2.3823835849761963, 2.4263203144073486, 2.3244361877441406, 2.283304452896118, 2.426358222961426, 1.9428926706314087, 2.263434886932373, 1.9122674465179443, 2.1911637783050537, 2.279662609100342, 1.909266710281372, 2.4124953746795654, 2.2983052730560303, 2.2811403274536133, 2.380098819732666, 2.38476824760437, 2.397935152053833, 2.375633716583252, 2.404764175415039, 2.387209892272949, 2.339144468307495, 2.4105937480926514, 2.3786497116088867, 2.218522071838379, 2.4035255908966064, 2.0965278148651123, 2.3537070751190186, 2.022934913635254, 2.3302359580993652, 2.2640388011932373, 2.4666430950164795, 2.205456018447876, 2.213331699371338, 1.8640555143356323, 2.4245684146881104, 2.4129936695098877, 2.3867077827453613, 2.092116355895996, 1.9053215980529785, 2.2637674808502197, 1.8641718626022339, 2.292814254760742, 2.3908588886260986, 2.3794209957122803, 2.409597873687744, 2.3542518615722656, 2.094087600708008, 2.299619436264038, 1.9312266111373901, 2.2087361812591553, 1.9109840393066406, 1.8775802850723267, 2.2978034019470215, 2.3757152557373047, 2.2667040824890137, 2.2205495834350586, 2.0713930130004883, 2.3791558742523193, 1.9277225732803345, 2.301192045211792, 2.3644964694976807, 2.3883416652679443, 2.3864223957061768, 2.355518102645874, 2.190903663635254, 1.908560037612915, 2.2669966220855713, 2.3415699005126953, 2.4682774543762207, 2.0920777320861816, 2.375221014022827, 2.3302550315856934, 2.199901580810547, 1.9328316450119019, 2.252706527709961, 2.3692798614501953, 2.177642822265625, 2.1993281841278076, 2.3192193508148193, 2.403531312942505, 1.920113444328308, 2.37033748626709, 2.3799240589141846, 2.07303786277771, 2.435360908508301, 1.9873708486557007, 2.436833381652832, 2.248169183731079, 2.2361667156219482, 2.4025022983551025, 2.474153995513916, 2.282043695449829, 2.221419095993042, 2.3655691146850586, 2.4104156494140625, 2.3410000801086426, 2.4017999172210693, 2.2854013442993164, 2.29740309715271, 2.427992582321167, 2.4714722633361816, 2.3131306171417236, 2.307344913482666, 2.3146486282348633, 2.221619129180908, 2.3968896865844727, 2.4478347301483154, 2.384803295135498, 2.096022844314575, 2.2843074798583984, 2.132516384124756, 2.189723491668701, 2.2267582416534424, 2.4166016578674316, 2.370197057723999, 2.3866209983825684, 2.2883174419403076, 2.2811219692230225, 2.061039447784424, 2.1894044876098633, 2.155700445175171, 2.4465298652648926, 1.8606091737747192]\n"
          ],
          "name": "stdout"
        },
        {
          "output_type": "display_data",
          "data": {
            "application/vnd.jupyter.widget-view+json": {
              "model_id": "37f71de95ca545aa82263d02906c4c0b",
              "version_minor": 0,
              "version_major": 2
            },
            "text/plain": [
              "HBox(children=(FloatProgress(value=0.0, max=246.0), HTML(value='')))"
            ]
          },
          "metadata": {
            "tags": []
          }
        },
        {
          "output_type": "stream",
          "text": [
            "\n",
            "[2.4157803058624268, 1.8639180660247803, 2.409003496170044, 2.3491406440734863, 1.740302324295044, 2.4676733016967773, 2.4332361221313477, 2.4995572566986084, 2.1549320220947266, 2.5426621437072754, 2.192863941192627, 2.150639057159424, 2.4172637462615967, 2.1417739391326904, 2.3878118991851807, 2.0271999835968018, 2.3859963417053223, 1.990830898284912, 2.129641532897949, 2.4285030364990234, 2.311972141265869, 2.3758065700531006, 2.218104124069214, 2.3196163177490234, 2.396165370941162, 2.266249656677246, 2.3101744651794434, 2.4152815341949463, 2.463726282119751, 2.2564573287963867, 2.4561612606048584, 2.3640270233154297, 2.21732234954834, 2.054250955581665, 1.7852914333343506, 2.459843873977661, 2.1992690563201904, 2.2917428016662598, 2.2677407264709473, 2.4831039905548096, 2.12908935546875, 2.2733066082000732, 2.2469704151153564, 2.4195172786712646, 2.2482690811157227, 2.193793535232544, 2.398744821548462, 1.7396386861801147, 2.439441442489624, 1.7915387153625488, 2.3234434127807617, 2.197917938232422, 1.7451385259628296, 2.4315860271453857, 2.3260109424591064, 2.435121536254883, 2.451700448989868, 2.1525559425354004, 1.8202059268951416, 2.132244348526001, 2.4809494018554688, 2.422545909881592, 2.131162405014038, 2.432089328765869, 2.393256187438965, 2.3645384311676025, 2.3558902740478516, 2.438847303390503, 2.4125144481658936, 2.3245716094970703, 2.0112252235412598, 2.2766623497009277, 2.1155388355255127, 2.249044179916382, 2.3651328086853027, 1.8430150747299194, 2.405008554458618, 2.494352102279663, 2.3068606853485107, 2.17625093460083, 2.275459051132202, 1.781160593032837, 1.9928265810012817, 2.425222158432007, 2.458150625228882, 1.7810611724853516, 2.444711208343506, 2.3061025142669678, 2.0855863094329834, 2.33048677444458, 2.3722751140594482, 2.4292824268341064, 2.5209872722625732, 1.7855287790298462, 2.3011059761047363, 2.442401647567749, 2.4520885944366455, 2.3575246334075928, 2.5136945247650146, 2.114593744277954, 2.2413012981414795, 2.391679525375366, 1.7836930751800537, 1.9148521423339844, 2.2620232105255127, 1.7397688627243042, 2.400829553604126, 2.2348899841308594, 2.225194215774536, 2.419654369354248, 2.2877280712127686, 2.105332851409912, 2.458726167678833, 2.3751907348632812, 1.9549391269683838, 2.1390280723571777, 1.9963500499725342, 1.8364956378936768, 2.3385589122772217, 2.0402297973632812, 2.4802494049072266, 2.402691602706909, 2.150925636291504, 2.1689791679382324, 2.040714740753174, 2.4206111431121826, 2.434695243835449, 2.1714975833892822, 2.3332571983337402, 1.8200492858886719, 1.7437119483947754, 2.3305580615997314, 1.7840980291366577, 2.368654251098633, 2.3752644062042236, 2.1007139682769775, 1.9989879131317139, 1.7851918935775757, 2.463625907897949, 2.212920904159546, 2.4617037773132324, 1.7451465129852295, 1.9856863021850586, 2.3236992359161377, 1.9826552867889404, 2.1046013832092285, 1.7416634559631348, 2.4063472747802734, 2.4469475746154785, 2.3528480529785156, 2.1990957260131836, 1.97212553024292, 2.2699408531188965, 2.367145299911499, 2.0548391342163086, 1.7413725852966309, 1.7847837209701538, 2.0019607543945312, 2.446561336517334, 1.9854767322540283, 2.3270983695983887, 2.2842202186584473, 2.3509433269500732, 2.22585129737854, 2.4187746047973633, 2.373382806777954, 2.384556531906128, 2.4146921634674072, 2.394960641860962, 2.4482343196868896, 1.9155491590499878, 2.1347999572753906, 2.3498756885528564, 1.785399079322815, 1.7465035915374756, 2.016557216644287, 2.4626684188842773, 2.337907552719116, 2.4014556407928467, 2.0403385162353516, 2.4243619441986084, 2.50136137008667, 2.070744752883911, 2.3885245323181152, 2.453667163848877, 2.4670774936676025, 2.2885193824768066, 1.743524193763733, 2.035064458847046, 1.7879390716552734, 2.426381826400757, 2.476799488067627, 2.2283122539520264, 1.7420084476470947, 2.2927041053771973, 2.4358034133911133, 2.4930107593536377, 1.7417763471603394, 2.3029494285583496, 2.249277353286743, 2.4709463119506836, 1.7440664768218994, 2.4293057918548584, 2.1978495121002197, 2.4225103855133057, 2.418221950531006, 2.4275660514831543, 1.7851687669754028, 2.460615634918213, 2.523232936859131, 2.411712169647217, 2.464446783065796, 2.4272384643554688, 2.3960394859313965, 2.4464547634124756, 2.4505672454833984, 2.054297685623169, 2.472541093826294, 2.365102767944336, 2.408808946609497, 1.7830374240875244, 2.1303093433380127, 2.514620304107666, 2.116830825805664, 2.183661937713623, 2.4415993690490723, 2.1381633281707764, 2.4907991886138916, 2.4359514713287354, 2.186741590499878, 1.8367379903793335, 1.8514423370361328, 2.1147682666778564, 2.3797876834869385, 2.463839530944824, 2.37561297416687, 2.2890818119049072, 2.440167188644409, 2.1743264198303223, 2.249375343322754, 1.785351276397705, 2.215252637863159, 1.7869006395339966, 2.272641181945801, 2.325697183609009, 2.276001453399658]\n",
            "[2.4029154777526855, 1.8253179788589478, 2.3385019302368164, 1.7440285682678223, 2.1342995166778564, 1.8591481447219849, 2.0001795291900635, 2.4664676189422607, 2.0937321186065674, 2.439060926437378, 2.477044105529785, 2.4638278484344482, 1.98362398147583, 2.257293462753296, 2.4134702682495117, 1.7861948013305664, 2.518860340118408, 2.464118242263794, 2.2901103496551514, 2.2470221519470215, 1.783694863319397, 2.2275664806365967, 2.02775502204895, 2.3119802474975586, 2.3746883869171143, 2.44398832321167, 2.1237952709198, 2.3462722301483154, 2.4378275871276855, 1.9857203960418701, 2.4510953426361084, 2.207406520843506, 1.962350606918335, 1.928606629371643, 2.354504108428955, 2.0391666889190674, 2.4409966468811035, 2.365474224090576, 2.2963056564331055, 2.372061252593994, 2.137681007385254, 1.7390711307525635, 2.1299586296081543, 1.7856403589248657, 1.880685806274414, 2.4339780807495117, 1.744333028793335, 2.3012855052948, 2.435108184814453, 2.379615545272827, 2.170927047729492, 2.295142650604248, 2.5336110591888428, 2.3394837379455566, 2.426527261734009, 2.341674327850342, 2.254458427429199, 2.1984307765960693, 1.7841272354125977, 2.3511462211608887, 2.0752954483032227, 2.3588669300079346, 2.4255847930908203, 2.3289825916290283, 2.4662322998046875, 1.7821351289749146, 2.3541107177734375, 2.446545362472534, 2.5193090438842773, 1.8753371238708496, 2.383871078491211, 2.254739999771118, 2.3128726482391357, 2.0483076572418213, 1.8577572107315063, 2.4736342430114746, 2.432096242904663, 2.4607560634613037, 2.4454257488250732, 2.4003372192382812, 2.095574378967285, 2.197603464126587, 2.1927237510681152, 2.457974910736084, 2.401015043258667, 2.3972465991973877, 2.3222286701202393, 2.1736812591552734, 2.3801004886627197, 2.2419872283935547, 2.2706358432769775, 1.8530837297439575, 2.244208574295044, 2.296574115753174, 2.1539840698242188, 2.0585944652557373, 2.3700108528137207, 2.450230360031128, 2.4178342819213867, 2.259732484817505, 2.455188512802124, 2.1549060344696045, 2.3773889541625977, 2.24491024017334, 1.735657811164856, 2.465773582458496, 2.3191416263580322, 2.445333480834961, 2.370155096054077, 2.182469367980957, 2.426427125930786, 2.3576979637145996, 2.2294676303863525, 2.260770082473755, 2.0050201416015625, 2.2903332710266113, 2.501530647277832, 2.2607803344726562, 2.2593231201171875, 2.46221923828125, 2.001203775405884, 2.3465967178344727, 2.441878318786621, 2.273268938064575, 2.4015748500823975, 2.3188846111297607, 2.14067006111145, 2.1736299991607666, 2.4163739681243896, 1.9542536735534668, 2.2263646125793457, 2.496469497680664, 2.460988759994507, 2.4716012477874756, 2.5124833583831787, 2.3654303550720215, 2.37540864944458, 2.4666643142700195, 1.9922674894332886, 2.448061943054199, 2.254338264465332, 2.3203303813934326, 2.035898208618164, 2.198678731918335, 1.9419355392456055, 2.357790231704712, 1.9855228662490845, 2.419478178024292, 2.203275203704834, 2.5147509574890137, 2.4523744583129883, 2.399815797805786, 2.001300811767578, 2.448498487472534, 1.7861648797988892, 2.3291804790496826, 2.351550579071045, 2.2959909439086914, 1.8842840194702148, 2.2670958042144775, 2.2145769596099854, 2.4555604457855225, 2.4113409519195557, 2.130495071411133, 2.4600472450256348, 2.289515972137451, 1.78634512424469, 2.4524476528167725, 2.4058549404144287, 2.308373212814331, 2.2171831130981445, 2.435515880584717, 2.136631965637207, 2.1468029022216797, 2.3557138442993164, 1.899770736694336, 2.41951322555542, 2.44531512260437, 2.4200313091278076, 2.522238254547119, 2.239969491958618, 1.940755009651184, 2.4565045833587646, 1.8022472858428955, 2.50128173828125, 2.3552160263061523, 2.334746837615967, 1.93307626247406, 2.18815016746521, 2.3563389778137207, 1.9805330038070679, 2.3947014808654785, 1.7423878908157349, 2.306612730026245, 2.331713914871216, 2.5221729278564453, 2.175232410430908, 2.4534618854522705, 2.5187625885009766, 2.4419052600860596, 2.5202834606170654, 2.3411126136779785, 2.267874002456665, 1.9338061809539795, 2.4718575477600098, 2.428577184677124, 2.0013792514801025, 2.42244291305542, 2.1981470584869385, 2.3201491832733154, 2.3852334022521973, 2.3964529037475586, 1.8392887115478516, 2.426077365875244, 2.3778507709503174, 2.032088041305542, 2.4576518535614014, 1.8152331113815308, 2.4715678691864014, 1.985673189163208, 2.395244598388672, 2.3657805919647217, 2.4173789024353027, 2.3996872901916504, 2.2814462184906006, 2.364706516265869, 1.788137674331665, 2.525531530380249, 2.396625280380249, 2.058941602706909, 2.389242649078369, 2.4431490898132324, 2.253105640411377, 2.179316997528076, 2.4235503673553467, 2.136155366897583, 1.9074760675430298, 2.391627550125122, 2.3967230319976807, 2.359858512878418, 2.523242235183716, 2.315155506134033, 2.1320314407348633, 2.3086471557617188, 2.177189350128174, 1.8970736265182495, 2.4927690029144287, 1.9979060888290405, 1.7402911186218262, 2.4022927284240723, 1.951573371887207, 1.7413394451141357, 2.414717197418213, 2.132240056991577, 2.4618942737579346]\n"
          ],
          "name": "stdout"
        },
        {
          "output_type": "display_data",
          "data": {
            "application/vnd.jupyter.widget-view+json": {
              "model_id": "a10530402a1b4c05a82141524291f9c6",
              "version_minor": 0,
              "version_major": 2
            },
            "text/plain": [
              "HBox(children=(FloatProgress(value=0.0, max=246.0), HTML(value='')))"
            ]
          },
          "metadata": {
            "tags": []
          }
        },
        {
          "output_type": "stream",
          "text": [
            "\n",
            "[2.408418655395508, 1.9432567358016968, 2.413816213607788, 2.4761383533477783, 2.094248056411743, 1.7638829946517944, 2.452928304672241, 1.662858247756958, 2.2104971408843994, 2.3900012969970703, 1.812561273574829, 2.0364389419555664, 2.2661964893341064, 2.391733407974243, 1.9940173625946045, 2.1843948364257812, 2.0979366302490234, 2.3631811141967773, 1.9621243476867676, 2.2584168910980225, 1.9478236436843872, 2.2096848487854004, 2.4148454666137695, 1.9810032844543457, 1.7575520277023315, 2.3724772930145264, 2.4568567276000977, 1.7554277181625366, 2.30469012260437, 2.410403251647949, 2.4754366874694824, 2.351850748062134, 2.2475485801696777, 1.6610723733901978, 1.974958062171936, 2.330213785171509, 2.4226303100585938, 2.4959685802459717, 2.3740344047546387, 2.4257147312164307, 2.206779718399048, 2.1440534591674805, 2.280393123626709, 2.494710683822632, 2.2719311714172363, 2.1672704219818115, 2.407703161239624, 2.454350709915161, 2.012117385864258, 2.1917812824249268, 2.4336674213409424, 2.462231159210205, 2.333101511001587, 2.1436870098114014, 2.370840311050415, 1.760255217552185, 2.4228761196136475, 1.6592291593551636, 2.5315661430358887, 2.017343759536743, 2.138676881790161, 1.6571063995361328, 2.470038414001465, 1.6612743139266968, 1.7575777769088745, 2.322702407836914, 1.7974759340286255, 1.9727402925491333, 2.056915760040283, 2.513070583343506, 2.4952197074890137, 2.4921796321868896, 2.3847482204437256, 2.3839147090911865, 2.4431679248809814, 2.4150197505950928, 2.2474265098571777, 2.4645979404449463, 2.4617183208465576, 2.294931173324585, 2.006748914718628, 2.2710654735565186, 1.758342981338501, 2.151510238647461, 2.279160261154175, 2.482253313064575, 2.5248076915740967, 2.4797892570495605, 2.1144919395446777, 2.3203210830688477, 2.4828505516052246, 2.5319466590881348, 2.4636664390563965, 2.3394358158111572, 2.430659770965576, 2.219872236251831, 2.4488515853881836, 2.011906623840332, 1.8328050374984741, 2.533938407897949, 2.3725173473358154, 1.9852869510650635, 2.325718402862549, 2.494521379470825, 2.42048716545105, 2.481890916824341, 2.4538991451263428, 1.9029359817504883, 2.2694287300109863, 2.335887908935547, 1.7560187578201294, 2.2990870475769043, 1.7578716278076172, 2.479865550994873, 2.425668478012085, 2.1242287158966064, 1.7536401748657227, 1.9728831052780151, 2.4692883491516113, 2.2409515380859375, 2.213728189468384, 2.077455759048462, 2.5269908905029297, 2.465167284011841, 1.657536506652832, 2.47334361076355, 1.6590076684951782, 2.320904016494751, 1.7570668458938599, 2.433075428009033, 2.5151805877685547, 2.2803804874420166, 2.3421261310577393, 1.956947684288025, 2.0850610733032227, 2.5026328563690186, 2.413545846939087, 1.662796139717102, 2.0616002082824707, 2.427814245223999, 2.4501142501831055, 2.2166337966918945, 1.7570399045944214, 2.32950496673584, 2.257564067840576, 2.4246490001678467, 2.542398452758789, 2.1393039226531982, 2.307981252670288, 1.6618562936782837, 2.42405366897583, 2.254990816116333, 2.3684654235839844, 2.001847982406616, 2.4764366149902344, 2.3134121894836426, 2.3834683895111084, 2.1128785610198975, 1.8980321884155273, 2.2526588439941406, 2.2936971187591553, 2.513159990310669, 2.4825801849365234, 1.9852170944213867, 1.7720555067062378, 2.1055502891540527, 2.0874133110046387, 2.476973295211792, 1.7590230703353882, 2.4356205463409424, 2.081547975540161, 1.6579077243804932, 2.230149507522583, 2.2549335956573486, 2.4076313972473145, 2.4707415103912354, 2.429680109024048, 2.1101412773132324, 2.1275391578674316, 2.325486183166504, 2.472144603729248, 2.1117587089538574, 2.174373149871826, 2.4749338626861572, 2.357438564300537, 2.39194655418396, 2.4679884910583496, 2.354522228240967, 1.9445205926895142, 2.4342901706695557, 2.522909641265869, 2.1427805423736572, 2.200882911682129, 2.22238826751709, 2.443613290786743, 2.3647208213806152, 1.753396987915039, 2.3886492252349854, 2.3792381286621094, 1.8112646341323853, 2.4687819480895996, 2.463994264602661, 2.081066131591797, 2.4673051834106445, 2.430769443511963, 2.1131696701049805, 2.1777312755584717, 2.49737548828125, 2.4481637477874756, 2.1045525074005127, 2.46171236038208, 2.0721826553344727, 1.659704566001892, 2.514468193054199, 1.796955943107605, 1.756221890449524, 1.9490814208984375, 1.7575037479400635, 2.2995052337646484, 1.8099167346954346, 2.4943227767944336, 2.4310202598571777, 2.374403476715088, 2.30094838142395, 2.4665331840515137, 2.5416605472564697, 2.3259267807006836, 2.492260694503784, 2.2339093685150146, 2.429157018661499, 2.213517904281616, 2.4486207962036133, 2.1961801052093506, 2.3907523155212402, 2.4108023643493652, 1.6648410558700562, 2.375375986099243, 2.2412655353546143, 2.4752700328826904, 2.0390148162841797, 2.1666178703308105, 2.2482082843780518, 2.106576919555664, 1.6589395999908447, 2.421975612640381, 2.4802308082580566]\n",
            "[2.4218337535858154, 2.448988437652588, 2.374173164367676, 2.3294129371643066, 2.448784351348877, 1.7542834281921387, 2.333451986312866, 2.0869197845458984, 2.381293535232544, 2.0173733234405518, 2.312431812286377, 2.295488119125366, 2.4663727283477783, 2.290877342224121, 2.5038821697235107, 2.0174663066864014, 2.4180142879486084, 2.403611898422241, 2.0846188068389893, 2.5145840644836426, 2.496929407119751, 2.2554352283477783, 2.510234832763672, 2.5154776573181152, 2.1477770805358887, 2.234257221221924, 2.18800950050354, 2.446722984313965, 2.327765941619873, 2.557117223739624, 2.460167407989502, 2.270820379257202, 1.6617506742477417, 1.9022369384765625, 1.9653761386871338, 2.2054946422576904, 2.3147571086883545, 1.7584505081176758, 2.4695706367492676, 1.9515172243118286, 2.0534756183624268, 2.0360538959503174, 2.412869453430176, 2.294891595840454, 2.4411020278930664, 2.512455940246582, 2.298675775527954, 2.3074727058410645, 2.296116590499878, 2.514418363571167, 2.1264822483062744, 2.1661219596862793, 2.5177321434020996, 1.756255865097046, 2.3924684524536133, 1.7602704763412476, 2.3394041061401367, 2.4835205078125, 2.1819756031036377, 2.231178045272827, 1.7578588724136353, 1.9236453771591187, 1.9848624467849731, 1.758630633354187, 2.4746484756469727, 2.5133132934570312, 2.340472459793091, 2.3584353923797607, 2.364445209503174, 2.4505395889282227, 2.1897897720336914, 2.400700330734253, 2.3850948810577393, 2.2718873023986816, 2.4405159950256348, 2.4619245529174805, 2.1438636779785156, 1.9442814588546753, 2.4621925354003906, 1.9425934553146362, 2.464574098587036, 2.044133186340332, 2.2139885425567627, 2.0894925594329834, 2.3907370567321777, 2.43975567817688, 1.8285636901855469, 2.4232444763183594, 2.514381170272827, 2.1908795833587646, 2.5118350982666016, 2.268953323364258, 2.377048969268799, 1.8892099857330322, 1.7890641689300537, 2.203113079071045, 2.085402488708496, 2.4239206314086914, 2.348644733428955, 2.4635415077209473, 2.367670774459839, 2.3258628845214844, 1.8944872617721558, 1.7772694826126099, 1.8785887956619263, 2.4883010387420654, 1.7996294498443604, 2.2477970123291016, 2.449319839477539, 2.233600616455078, 1.9395322799682617, 2.365502119064331, 2.5113797187805176, 2.226118803024292, 2.3799660205841064, 2.444913625717163, 2.382477283477783, 2.492122173309326, 1.9804484844207764, 2.5114336013793945, 2.3652355670928955, 2.501518487930298, 2.125267267227173, 2.3190135955810547, 2.3038687705993652, 2.359562635421753, 2.0443477630615234, 2.5197525024414062, 2.515511989593506, 2.4900922775268555, 2.143272876739502, 2.4963581562042236, 2.0731985569000244, 2.4687302112579346, 2.4336915016174316, 2.4079275131225586, 2.5488979816436768, 2.51312255859375, 2.269580364227295, 2.446594476699829, 2.5020620822906494, 2.4444451332092285, 2.429804563522339, 2.4211583137512207, 1.66197669506073, 2.3394558429718018, 2.126676082611084, 2.474726915359497, 2.228097677230835, 2.4725077152252197, 2.0749616622924805, 2.449307918548584, 2.42305326461792, 2.130908489227295, 1.657820701599121, 2.3676817417144775, 1.9094676971435547, 2.1742565631866455, 2.2266807556152344, 2.3789727687835693, 2.1904408931732178, 1.9632201194763184, 2.410027265548706, 2.1352055072784424, 2.007922649383545, 2.430974006652832, 2.4052734375, 2.168454885482788, 2.3685925006866455, 1.8559411764144897, 1.6561708450317383, 2.168306350708008, 2.4644057750701904, 2.509524345397949, 1.8671722412109375, 2.322335958480835, 1.8763312101364136, 2.1095550060272217, 2.4917261600494385, 2.2924516201019287, 1.9401978254318237, 2.4701170921325684, 1.920016884803772, 2.4165852069854736, 2.479719400405884, 2.366787910461426, 2.494114398956299, 2.4314258098602295, 2.3814051151275635, 1.6530596017837524, 2.2361865043640137, 2.391592025756836, 2.481367349624634, 2.1942849159240723, 2.4652061462402344, 2.4928276538848877, 2.3042619228363037, 2.411693811416626, 2.400472640991211, 2.092169761657715, 2.47599196434021, 2.366020917892456, 2.4367434978485107, 2.378291606903076, 2.408397674560547, 2.4894988536834717, 2.2466392517089844, 2.118502378463745, 2.4455173015594482, 2.351353168487549, 1.835930585861206, 2.293360471725464, 2.479104995727539, 2.2599847316741943, 2.3588225841522217, 2.4527475833892822, 1.8398964405059814, 1.9619231224060059, 2.259788990020752, 1.8142727613449097, 2.260369300842285, 1.660016417503357, 1.6589877605438232, 1.943632960319519, 1.9436227083206177, 2.484455108642578, 2.320953845977783, 2.257612943649292, 2.161572217941284, 1.8642094135284424, 2.2948596477508545, 2.4671223163604736, 2.336134672164917, 1.7557196617126465, 2.424557685852051, 2.240779399871826, 2.4070584774017334, 2.164297580718994, 2.255551815032959, 2.2010679244995117, 2.446145534515381, 1.7584805488586426, 2.4645254611968994, 2.4718401432037354, 2.41457462310791, 2.4366626739501953, 1.9266085624694824, 2.512582778930664, 1.9776649475097656, 1.9501842260360718, 2.02577805519104, 2.0869646072387695, 2.4395368099212646, 2.380967855453491, 2.283648729324341]\n"
          ],
          "name": "stdout"
        },
        {
          "output_type": "display_data",
          "data": {
            "application/vnd.jupyter.widget-view+json": {
              "model_id": "8f181af84afd4748b9575b85ac7fd08f",
              "version_minor": 0,
              "version_major": 2
            },
            "text/plain": [
              "HBox(children=(FloatProgress(value=0.0, max=246.0), HTML(value='')))"
            ]
          },
          "metadata": {
            "tags": []
          }
        },
        {
          "output_type": "stream",
          "text": [
            "\n",
            "[1.9706511497497559, 2.409813642501831, 2.0833098888397217, 1.7735612392425537, 2.435197353363037, 1.8245850801467896, 2.2910046577453613, 2.416102409362793, 2.4182918071746826, 2.285101890563965, 1.9919084310531616, 2.2851309776306152, 2.4701452255249023, 2.3880832195281982, 2.437652349472046, 2.1527698040008545, 2.4966344833374023, 2.192767381668091, 2.2452244758605957, 1.8238874673843384, 2.454195737838745, 1.9315297603607178, 1.7712719440460205, 1.773346185684204, 2.5462000370025635, 2.5012526512145996, 2.0597991943359375, 2.3347034454345703, 2.247953414916992, 1.6430485248565674, 2.363570213317871, 2.326927423477173, 1.7566484212875366, 2.201366662979126, 1.6505144834518433, 2.380136489868164, 2.396662473678589, 2.3286526203155518, 2.110501289367676, 2.3645336627960205, 2.049377679824829, 2.338306188583374, 2.512382745742798, 2.264707088470459, 1.911131739616394, 2.5054378509521484, 1.6479448080062866, 2.4211504459381104, 2.076105833053589, 2.4594509601593018, 2.187335729598999, 2.3167898654937744, 2.5516960620880127, 2.2156686782836914, 2.052175998687744, 1.8489960432052612, 2.214691162109375, 2.0274972915649414, 2.5175318717956543, 2.4326624870300293, 2.3589730262756348, 1.7695543766021729, 2.085214614868164, 1.9829280376434326, 2.3003549575805664, 1.6461732387542725, 2.007427453994751, 2.4032764434814453, 2.5073366165161133, 2.2850663661956787, 2.269822120666504, 2.4307665824890137, 2.257823944091797, 2.3161885738372803, 1.9587736129760742, 2.1055378913879395, 2.2361340522766113, 2.3808352947235107, 1.644278883934021, 2.4507033824920654, 1.9757083654403687, 2.3668172359466553, 2.1946539878845215, 2.1666996479034424, 1.771864414215088, 2.4455983638763428, 2.1031532287597656, 2.557283401489258, 2.473196506500244, 2.5187997817993164, 2.371469736099243, 2.413269519805908, 2.177548408508301, 2.313563823699951, 2.224623441696167, 2.1450273990631104, 2.205871343612671, 2.4543488025665283, 2.525777816772461, 2.440714120864868, 2.4564950466156006, 2.422215700149536, 1.642374038696289, 1.9563122987747192, 2.103447198867798, 2.3715691566467285, 1.6478079557418823, 2.498002767562866, 1.9202488660812378, 2.140909194946289, 2.4043080806732178, 2.129284620285034, 2.16693377494812, 2.3260724544525146, 2.2355685234069824, 2.090113878250122, 2.3331711292266846, 2.435858964920044, 2.379615545272827, 2.0788023471832275, 2.3981270790100098, 2.2928876876831055, 2.5168349742889404, 2.456245183944702, 2.282317638397217, 2.0559370517730713, 1.7745612859725952, 2.3754303455352783, 2.2435834407806396, 2.441816568374634, 2.4259440898895264, 2.4421615600585938, 2.4602766036987305, 2.479515790939331, 2.4651029109954834, 2.4852495193481445, 2.095254898071289, 1.6462581157684326, 2.238680839538574, 2.4330427646636963, 2.3458878993988037, 2.4411110877990723, 2.4113786220550537, 2.4601454734802246, 1.644996166229248, 2.469015121459961, 2.4918549060821533, 2.331962823867798, 2.4707090854644775, 2.4911959171295166, 2.000493288040161, 2.4713287353515625, 2.1531665325164795, 2.0596776008605957, 1.9955731630325317, 2.2014918327331543, 2.4824798107147217, 2.2313876152038574, 2.414038896560669, 2.285677433013916, 2.426555871963501, 2.5129497051239014, 2.510078191757202, 1.8134862184524536, 2.432739734649658, 2.058817148208618, 2.494717836380005, 2.4516515731811523, 1.7795883417129517, 2.321108102798462, 1.7727069854736328, 2.50131893157959, 2.349640130996704, 2.4627301692962646, 2.209613084793091, 2.462522268295288, 2.483267307281494, 1.8128738403320312, 2.491039752960205, 2.455366373062134, 1.9664413928985596, 1.6441459655761719, 2.4049136638641357, 1.985530972480774, 2.049635171890259, 2.4442567825317383, 2.346680164337158, 2.244276285171509, 2.4760184288024902, 1.6439385414123535, 2.484147071838379, 2.378462076187134, 1.7727596759796143, 1.772016167640686, 1.6470822095870972, 1.7749743461608887, 2.0585098266601562, 2.469700813293457, 2.5051350593566895, 2.386157989501953, 2.162907361984253, 2.410447597503662, 2.448261260986328, 2.3665428161621094, 2.228353977203369, 1.7733410596847534, 2.123439073562622, 1.7699397802352905, 2.422543525695801, 1.8094513416290283, 2.480924129486084, 2.487377643585205, 2.1215884685516357, 2.429739236831665, 1.9874053001403809, 1.9958446025848389, 2.313250780105591, 2.4368581771850586, 2.3068323135375977, 2.0960123538970947, 1.9802348613739014, 2.404282331466675, 2.43257737159729, 2.1290791034698486, 2.3987207412719727, 2.2343249320983887, 1.9181640148162842, 2.4311962127685547, 2.2425618171691895, 2.461890459060669, 1.64328134059906, 1.7738640308380127, 2.1529693603515625, 2.248927593231201, 2.2521770000457764, 2.356825113296509, 2.103616714477539, 2.4371495246887207, 1.9361234903335571, 1.7758482694625854, 2.454521417617798, 2.4641356468200684, 2.4715914726257324, 2.450713872909546, 2.2716150283813477, 2.2209577560424805]\n",
            "[2.455486297607422, 2.3822860717773438, 2.003891944885254, 2.374830722808838, 1.841048240661621, 2.322420358657837, 2.409637212753296, 2.4081358909606934, 2.1914474964141846, 2.416712522506714, 2.2535765171051025, 2.4123215675354004, 2.4801809787750244, 2.5318753719329834, 2.326021671295166, 2.069275140762329, 2.2734663486480713, 2.5020976066589355, 1.8776520490646362, 2.056492328643799, 2.5009071826934814, 2.4573118686676025, 2.395987033843994, 2.1416585445404053, 1.9205678701400757, 2.0015993118286133, 2.2875795364379883, 2.3771941661834717, 2.1898858547210693, 2.378368377685547, 1.7719711065292358, 2.1943366527557373, 2.5095200538635254, 2.3332743644714355, 2.4955954551696777, 2.436089277267456, 2.0209107398986816, 2.2943336963653564, 2.3279905319213867, 2.4317080974578857, 1.647024393081665, 2.356152296066284, 2.419557571411133, 2.459557294845581, 2.228329658508301, 2.334246873855591, 2.4082555770874023, 1.9192909002304077, 2.3315494060516357, 2.2235360145568848, 1.9508572816848755, 2.3730309009552, 2.478168487548828, 2.460258960723877, 2.2899210453033447, 2.314945697784424, 2.247304677963257, 1.7743488550186157, 2.3642008304595947, 2.2216358184814453, 2.521862506866455, 2.4687507152557373, 2.042191743850708, 2.521865129470825, 2.417693853378296, 2.2104015350341797, 1.8709518909454346, 2.5059969425201416, 2.2670257091522217, 2.4324676990509033, 2.297140121459961, 2.10933780670166, 2.2629809379577637, 2.38151478767395, 2.0579206943511963, 2.1665148735046387, 1.8698698282241821, 2.537313461303711, 2.4641568660736084, 2.3019590377807617, 2.3823888301849365, 2.3818421363830566, 2.2954330444335938, 2.112699270248413, 2.175318717956543, 1.9223558902740479, 1.6431000232696533, 2.37107515335083, 2.405806064605713, 2.4739341735839844, 1.890511155128479, 2.0470046997070312, 2.162229061126709, 1.9483531713485718, 2.5004091262817383, 2.4819767475128174, 2.391791343688965, 2.156139850616455, 2.490797758102417, 2.407653331756592, 1.6451895236968994, 1.9739165306091309, 2.4293549060821533, 1.9516490697860718, 2.2726619243621826, 2.3118791580200195, 2.4709627628326416, 2.191126823425293, 2.3544700145721436, 2.358952045440674, 2.449155569076538, 2.515048027038574, 1.9386143684387207, 2.153496742248535, 1.7714133262634277, 2.437312602996826, 2.4511823654174805, 1.9919512271881104, 2.025830030441284, 2.447277784347534, 2.489226818084717, 2.399780511856079, 2.4047603607177734, 2.4241979122161865, 2.222834587097168, 1.6410722732543945, 2.4616951942443848, 2.198556900024414, 1.8560177087783813, 1.8885871171951294, 2.52524995803833, 1.6384851932525635, 2.302234411239624, 1.964796781539917, 2.3967270851135254, 2.0554661750793457, 2.412020683288574, 2.3701424598693848, 2.4515380859375, 2.411548614501953, 2.4989538192749023, 1.813646912574768, 2.5483739376068115, 2.069542169570923, 1.991044282913208, 2.428711414337158, 2.4129247665405273, 2.402899980545044, 1.7937320470809937, 2.456068754196167, 2.4950315952301025, 2.4644253253936768, 2.5409815311431885, 2.3074166774749756, 2.4347708225250244, 1.9183282852172852, 2.2911746501922607, 2.458677053451538, 1.6443010568618774, 2.0870912075042725, 2.4719741344451904, 2.230433940887451, 2.3025894165039062, 2.3353676795959473, 2.4653871059417725, 2.493241548538208, 2.391585111618042, 2.421297073364258, 2.4606058597564697, 2.4709994792938232, 1.9325189590454102, 2.292285203933716, 2.1217732429504395, 2.2652692794799805, 2.519639253616333, 2.24960994720459, 1.6468896865844727, 2.121833086013794, 1.8035610914230347, 1.9717451333999634, 2.1930389404296875, 2.5073752403259277, 2.442953109741211, 2.362156391143799, 2.1586759090423584, 1.7742664813995361, 1.7736314535140991, 2.469447135925293, 2.0769574642181396, 2.18822979927063, 2.4213852882385254, 2.2684292793273926, 2.4060494899749756, 2.4734208583831787, 2.4825472831726074, 2.431363582611084, 2.424506902694702, 2.375412940979004, 2.3601338863372803, 2.1515824794769287, 2.4511637687683105, 2.288469076156616, 2.355574131011963, 2.4990336894989014, 2.1623587608337402, 2.097533702850342, 1.8838852643966675, 2.2608933448791504, 2.168515920639038, 1.9104596376419067, 2.292696714401245, 2.356947183609009, 2.2395339012145996, 2.26339054107666, 1.8276246786117554, 2.036818504333496, 2.4553608894348145, 2.5087478160858154, 2.4206624031066895, 1.9160093069076538, 2.4288454055786133, 2.1866681575775146, 2.3721542358398438, 2.5034215450286865, 2.0574700832366943, 2.520129919052124, 2.4803733825683594, 2.218505620956421, 2.2907543182373047, 1.7757070064544678, 2.4692232608795166, 1.9088609218597412, 2.0549371242523193, 2.418303966522217, 1.9191449880599976, 1.7742741107940674, 2.427445888519287, 2.4077162742614746, 2.5659825801849365, 2.1267266273498535, 1.7700676918029785, 2.4536216259002686, 2.135050058364868, 2.2145955562591553, 2.3344311714172363, 2.379028797149658, 2.126253128051758, 1.8499298095703125, 1.933825135231018, 2.427001953125, 2.035977602005005, 2.3125641345977783, 2.4272565841674805, 2.238532066345215, 2.464862108230591]\n"
          ],
          "name": "stdout"
        },
        {
          "output_type": "display_data",
          "data": {
            "application/vnd.jupyter.widget-view+json": {
              "model_id": "f25c558b9dcd4420b69bdaaf7fb40fd1",
              "version_minor": 0,
              "version_major": 2
            },
            "text/plain": [
              "HBox(children=(FloatProgress(value=0.0, max=246.0), HTML(value='')))"
            ]
          },
          "metadata": {
            "tags": []
          }
        },
        {
          "output_type": "stream",
          "text": [
            "\n",
            "[1.982981562614441, 2.1605677604675293, 2.0998239517211914, 2.211172342300415, 1.8223135471343994, 1.9162566661834717, 2.236300230026245, 2.461559772491455, 2.1612589359283447, 1.9986580610275269, 2.0578737258911133, 1.8006994724273682, 2.242300510406494, 2.120340347290039, 2.4802024364471436, 2.4831173419952393, 2.4734818935394287, 2.4453389644622803, 2.5208730697631836, 2.4058902263641357, 2.2302167415618896, 2.5015246868133545, 2.484938383102417, 2.4387717247009277, 2.4502289295196533, 2.362497091293335, 2.046130895614624, 2.476762294769287, 2.070939540863037, 2.486272096633911, 2.574467658996582, 2.0343356132507324, 1.7784924507141113, 2.5030181407928467, 1.6282281875610352, 2.3535261154174805, 2.389504909515381, 2.319145679473877, 2.173321485519409, 2.238344192504883, 1.780792474746704, 2.4740869998931885, 2.2133498191833496, 1.7842063903808594, 2.4034345149993896, 2.3959553241729736, 1.6291905641555786, 2.2748777866363525, 2.4844977855682373, 2.291407346725464, 2.0334668159484863, 2.4485065937042236, 2.260349988937378, 2.234196662902832, 2.3702232837677, 2.4747886657714844, 2.279595136642456, 2.4687306880950928, 2.349848985671997, 2.034543037414551, 2.4762825965881348, 2.2372381687164307, 2.445132255554199, 1.6268064975738525, 2.534447193145752, 2.4335920810699463, 1.7830535173416138, 1.9666497707366943, 1.8312815427780151, 2.439753532409668, 2.0555953979492188, 1.8224350214004517, 2.2335598468780518, 2.426980495452881, 2.435431718826294, 1.7813578844070435, 2.3117752075195312, 2.1812398433685303, 2.3394291400909424, 2.3470962047576904, 2.4752438068389893, 2.0675158500671387, 2.312507152557373, 1.7788065671920776, 1.6303424835205078, 2.3048670291900635, 2.4543986320495605, 2.0623369216918945, 2.065706729888916, 1.6255736351013184, 1.6292519569396973, 2.13360333442688, 1.7819818258285522, 2.4974942207336426, 2.423795461654663, 2.2186810970306396, 2.535207748413086, 2.284679889678955, 2.5204577445983887, 2.4818532466888428, 1.7804584503173828, 1.9698408842086792, 2.406472682952881, 2.4789369106292725, 2.2159552574157715, 1.7881889343261719, 2.3360586166381836, 2.403125524520874, 2.4956319332122803, 2.357278823852539, 2.507939100265503, 1.8319687843322754, 2.4561710357666016, 2.4015753269195557, 1.782650351524353, 2.4608685970306396, 2.467029333114624, 2.3167684078216553, 2.4531428813934326, 2.239439010620117, 1.6307907104492188, 2.435231924057007, 2.424799680709839, 2.466679811477661, 2.253170967102051, 1.6341934204101562, 2.332451820373535, 2.5369369983673096, 2.1079061031341553, 2.4340708255767822, 1.9469876289367676, 2.3847291469573975, 1.9724029302597046, 2.4044227600097656, 2.097015619277954, 2.375497579574585, 2.289875030517578, 2.387068748474121, 2.412776231765747, 2.237809419631958, 2.371751546859741, 2.163433790206909, 2.442863702774048, 2.445439100265503, 2.4863858222961426, 2.443800926208496, 2.3507120609283447, 2.5408742427825928, 1.6272387504577637, 2.5079336166381836, 1.626529574394226, 1.6263930797576904, 2.03726863861084, 1.7420270442962646, 2.324878454208374, 2.402923822402954, 1.9553251266479492, 2.377579927444458, 2.4633500576019287, 2.3434481620788574, 2.4905786514282227, 2.501652717590332, 1.8591527938842773, 2.483100175857544, 2.0617012977600098, 2.554041862487793, 2.4328863620758057, 2.389188051223755, 2.4677655696868896, 1.6272975206375122, 1.631097674369812, 2.2290384769439697, 1.7813374996185303, 1.989583134651184, 2.461883544921875, 2.3912353515625, 2.3667922019958496, 2.4314863681793213, 2.4026224613189697, 2.5294206142425537, 2.4251182079315186, 2.3773281574249268, 2.2994112968444824, 1.96458101272583, 2.129927635192871, 1.9845867156982422, 1.9918463230133057, 2.1012113094329834, 2.1978530883789062, 2.509644031524658, 2.0749704837799072, 2.3221027851104736, 2.0031535625457764, 2.200486421585083, 2.0805697441101074, 2.2900211811065674, 2.4149420261383057, 2.497135877609253, 2.426271915435791, 2.4536712169647217, 1.7798914909362793, 1.7820461988449097, 2.0023090839385986, 1.9004220962524414, 2.3089704513549805, 2.240158796310425, 2.1154110431671143, 2.241109609603882, 2.4212234020233154, 2.3929576873779297, 2.4707276821136475, 2.266460657119751, 1.9192160367965698, 2.4244937896728516, 2.4487104415893555, 2.239933729171753, 2.096385955810547, 2.1583807468414307, 2.382146120071411, 1.9900429248809814, 1.7824493646621704, 2.4539992809295654, 2.21697998046875, 2.2685978412628174, 2.502432107925415, 1.7843120098114014, 2.1937389373779297, 2.0843217372894287, 2.149653911590576, 2.4602267742156982, 2.1440377235412598, 2.4236650466918945, 2.3292901515960693, 1.927433967590332, 2.4300684928894043, 1.9237114191055298, 2.3941681385040283, 2.090102434158325, 2.4753663539886475, 2.1193549633026123, 2.194216728210449, 2.159398317337036, 2.418233633041382, 2.410865545272827, 2.2683448791503906, 2.182307720184326]\n",
            "[2.4350452423095703, 2.4860708713531494, 2.4967398643493652, 2.382908821105957, 2.4077820777893066, 2.4325335025787354, 2.401292324066162, 2.3375463485717773, 2.465954303741455, 2.317964553833008, 2.234365701675415, 2.3774635791778564, 2.1891543865203857, 2.0629336833953857, 1.8026875257492065, 2.470515727996826, 2.5002291202545166, 2.3770925998687744, 2.3945696353912354, 2.0884506702423096, 2.3794307708740234, 2.4824230670928955, 2.362920045852661, 1.6300785541534424, 2.539252996444702, 2.411652088165283, 2.1815292835235596, 2.476205348968506, 2.0440711975097656, 1.8953962326049805, 2.2697548866271973, 2.4625818729400635, 2.242711067199707, 1.783025860786438, 2.183391809463501, 2.3307535648345947, 2.455092668533325, 1.8662524223327637, 2.1402933597564697, 2.292668581008911, 2.3555757999420166, 1.972676157951355, 1.8857444524765015, 2.38923978805542, 2.5295355319976807, 2.4746551513671875, 2.216113567352295, 2.2329800128936768, 2.2114267349243164, 2.499530553817749, 2.268836736679077, 1.7828147411346436, 1.9398704767227173, 2.1142168045043945, 2.4246535301208496, 2.3681817054748535, 2.4524872303009033, 2.4298653602600098, 2.222191333770752, 2.1604864597320557, 2.114893674850464, 2.447849988937378, 1.878437876701355, 2.4966700077056885, 2.098879814147949, 2.2123825550079346, 2.3797714710235596, 2.2896676063537598, 2.4088118076324463, 1.9709830284118652, 2.3940837383270264, 2.430305004119873, 1.8962186574935913, 2.5483510494232178, 2.447829484939575, 2.4829399585723877, 2.271000385284424, 1.8214225769042969, 2.4841670989990234, 2.142167091369629, 2.2888078689575195, 2.000770330429077, 2.065546989440918, 2.1094138622283936, 2.0956552028656006, 1.7830710411071777, 2.1849887371063232, 2.158198356628418, 2.4437687397003174, 2.4460206031799316, 2.0425500869750977, 2.4181292057037354, 1.9731680154800415, 2.480945587158203, 2.4503936767578125, 2.366215944290161, 2.0145912170410156, 2.4514598846435547, 2.305006265640259, 2.511457920074463, 1.8350590467453003, 2.4780166149139404, 1.8596203327178955, 2.162226438522339, 2.300746440887451, 2.488288402557373, 2.4174013137817383, 2.449876070022583, 2.514822483062744, 1.8775396347045898, 2.384808301925659, 2.208021640777588, 2.1696345806121826, 2.171520709991455, 2.3602728843688965, 1.8574297428131104, 2.3316943645477295, 2.3786191940307617, 2.5035738945007324, 1.8994158506393433, 2.4179182052612305, 2.4360854625701904, 2.4972920417785645, 2.3470914363861084, 2.448852300643921, 2.353264808654785, 2.4166908264160156, 2.388836622238159, 1.780076503753662, 2.41170597076416, 2.166146993637085, 2.376410722732544, 2.4612131118774414, 2.278679609298706, 1.9976155757904053, 1.8935197591781616, 2.0985777378082275, 2.3758745193481445, 2.419666290283203, 2.2018396854400635, 2.443369150161743, 2.4796910285949707, 2.48846435546875, 2.243281602859497, 2.4509458541870117, 2.2766594886779785, 2.292701482772827, 2.027977466583252, 1.8984819650650024, 2.321836471557617, 1.9397107362747192, 2.0365662574768066, 2.5508511066436768, 2.048900604248047, 2.0339913368225098, 2.471170663833618, 2.1428849697113037, 2.3205533027648926, 1.6275479793548584, 2.2659900188446045, 1.9191877841949463, 2.3932127952575684, 2.295445442199707, 1.811566948890686, 2.5147624015808105, 1.630019187927246, 1.929184079170227, 2.321319580078125, 1.7805891036987305, 2.4998669624328613, 2.492310047149658, 2.0352227687835693, 2.2454562187194824, 2.0639824867248535, 1.7822504043579102, 2.1433184146881104, 1.8480464220046997, 2.3588764667510986, 2.28466796875, 2.587057590484619, 2.3784477710723877, 2.404353380203247, 2.294769763946533, 2.2505462169647217, 2.286517858505249, 2.36806058883667, 2.3866710662841797, 2.2986810207366943, 2.4266905784606934, 2.40010666847229, 2.4450836181640625, 1.9012365341186523, 2.432161808013916, 2.4082157611846924, 2.4989001750946045, 1.9430326223373413, 2.4974899291992188, 2.0316274166107178, 2.219935178756714, 2.329526662826538, 2.259434700012207, 2.287998914718628, 2.4450788497924805, 2.292552947998047, 2.483846426010132, 2.0209572315216064, 1.9458671808242798, 2.1702945232391357, 2.439624786376953, 1.784022331237793, 2.477734327316284, 1.9203202724456787, 2.485928535461426, 2.4205448627471924, 1.6282901763916016, 2.1255571842193604, 2.4528112411499023, 2.49772310256958, 1.6262993812561035, 2.424534320831299, 2.0358030796051025, 1.7787672281265259, 1.9406685829162598, 2.364180564880371, 2.455392599105835, 2.4850168228149414, 2.2567195892333984, 1.6217032670974731, 2.1568450927734375, 2.22780179977417, 2.4809603691101074, 2.430638551712036, 1.9582061767578125, 2.4077327251434326, 2.416182279586792, 2.5309717655181885, 2.481018543243408, 1.6239101886749268, 2.4337990283966064, 1.999135971069336, 2.2226178646087646, 2.3327207565307617, 2.4236512184143066, 2.327461004257202, 2.1962990760803223, 2.356804132461548, 2.2901647090911865, 2.459914207458496, 2.4831464290618896, 1.8991445302963257, 2.5234110355377197, 2.0546629428863525, 2.4280292987823486, 2.4962942600250244, 2.1466312408447266]\n"
          ],
          "name": "stdout"
        },
        {
          "output_type": "display_data",
          "data": {
            "application/vnd.jupyter.widget-view+json": {
              "model_id": "9a6e6f2fddb540bdbc934aea934a6a36",
              "version_minor": 0,
              "version_major": 2
            },
            "text/plain": [
              "HBox(children=(FloatProgress(value=0.0, max=246.0), HTML(value='')))"
            ]
          },
          "metadata": {
            "tags": []
          }
        },
        {
          "output_type": "stream",
          "text": [
            "\n",
            "[1.6222074031829834, 2.2367706298828125, 2.4554169178009033, 2.5080223083496094, 1.6266589164733887, 2.4733917713165283, 2.306668758392334, 2.3850393295288086, 2.056823253631592, 2.2178356647491455, 2.5268728733062744, 2.449082136154175, 2.3709354400634766, 1.9634215831756592, 2.240800142288208, 2.3189449310302734, 2.0224244594573975, 2.4774675369262695, 2.4895148277282715, 2.492697238922119, 2.493677854537964, 1.8272831439971924, 2.355988025665283, 2.379415988922119, 1.9696320295333862, 1.7821708917617798, 1.9902790784835815, 2.450813055038452, 1.9772876501083374, 1.6238552331924438, 2.072518825531006, 2.5384979248046875, 2.2897796630859375, 2.4511237144470215, 1.6248185634613037, 2.2371084690093994, 1.9170434474945068, 2.341616630554199, 2.3346285820007324, 2.525611400604248, 1.8576016426086426, 2.0581178665161133, 2.423851251602173, 2.4262783527374268, 2.4132111072540283, 2.3612396717071533, 2.419132709503174, 2.4178779125213623, 2.3775622844696045, 1.8199889659881592, 2.3044493198394775, 2.057342290878296, 2.129765748977661, 1.7780990600585938, 2.45329213142395, 2.2327842712402344, 1.985798716545105, 2.5542261600494385, 1.8286064863204956, 2.540426731109619, 2.4598429203033447, 2.5034019947052, 2.1604278087615967, 2.2562170028686523, 2.4426352977752686, 2.325078010559082, 2.2689900398254395, 2.436495542526245, 2.1545751094818115, 2.2347583770751953, 2.4269654750823975, 2.310319185256958, 1.6224148273468018, 2.2434542179107666, 2.2687366008758545, 2.415851593017578, 2.403176784515381, 2.4627065658569336, 2.4411704540252686, 2.113759756088257, 2.3998711109161377, 2.4982316493988037, 2.2382431030273438, 2.4634478092193604, 2.3464269638061523, 2.2766902446746826, 2.415465831756592, 2.4143152236938477, 1.911391258239746, 2.4640519618988037, 2.46350359916687, 2.506333589553833, 2.234560966491699, 2.4488377571105957, 1.7789021730422974, 1.942897081375122, 2.443331718444824, 2.2501161098480225, 2.3438754081726074, 2.436445474624634, 1.7852072715759277, 1.622937798500061, 2.0988106727600098, 2.21571683883667, 1.7778671979904175, 2.377535104751587, 2.4492640495300293, 2.385240077972412, 2.113286256790161, 2.2004001140594482, 1.9993876218795776, 2.235961437225342, 1.7768453359603882, 2.472532033920288, 2.4596097469329834, 2.4876413345336914, 2.463595151901245, 1.979630708694458, 2.3723411560058594, 2.199861526489258, 2.4085285663604736, 1.777665138244629, 2.0999579429626465, 1.6246747970581055, 2.4709784984588623, 2.2637360095977783, 1.6223903894424438, 1.990083932876587, 1.630204677581787, 2.477569580078125, 2.211994171142578, 2.4141809940338135, 2.4784059524536133, 2.4316751956939697, 2.0851945877075195, 2.1144213676452637, 2.514065980911255, 2.34299635887146, 2.1893422603607178, 2.2595744132995605, 2.4683339595794678, 2.438314437866211, 2.025202751159668, 2.28204083442688, 2.5942869186401367, 2.4677557945251465, 2.4544215202331543, 2.483466386795044, 2.4251813888549805, 2.3910934925079346, 1.9867416620254517, 2.4810822010040283, 1.7768210172653198, 2.087463140487671, 1.6227747201919556, 2.0772640705108643, 2.451232433319092, 2.452183723449707, 2.484497308731079, 2.335785150527954, 1.9273535013198853, 1.626266360282898, 1.7759524583816528, 2.1939754486083984, 2.4351444244384766, 2.040353536605835, 2.1301450729370117, 1.7787237167358398, 2.3144819736480713, 2.4677650928497314, 2.0620250701904297, 2.1726083755493164, 1.9620815515518188, 2.434706211090088, 2.387205123901367, 2.0712592601776123, 1.7795848846435547, 2.0317916870117188, 2.219104290008545, 2.2272863388061523, 1.9210954904556274, 2.1783411502838135, 2.4484338760375977, 2.456641435623169, 2.1382882595062256, 2.2924036979675293, 2.1921281814575195, 2.0869553089141846, 2.0582098960876465, 2.525912284851074, 2.390467643737793, 1.7796356678009033, 2.459324598312378, 2.424259662628174, 2.531787633895874, 2.0948705673217773, 2.0246074199676514, 2.1662955284118652, 2.334723711013794, 1.73674738407135, 1.6213178634643555, 2.0550594329833984, 2.4733142852783203, 2.4192991256713867, 2.3099796772003174, 2.4304749965667725, 2.1611104011535645, 2.4034664630889893, 2.3207435607910156, 2.447211503982544, 1.803478717803955, 2.4843595027923584, 1.8909095525741577, 2.4771769046783447, 2.2309532165527344, 2.4248595237731934, 2.511202335357666, 1.8202916383743286, 2.104832887649536, 2.409165620803833, 2.232390880584717, 2.4980967044830322, 1.625990390777588, 2.384486436843872, 1.7796614170074463, 2.433448314666748, 2.3564505577087402, 1.9978692531585693, 1.9448972940444946, 2.288294792175293, 2.5059010982513428, 2.352170705795288, 1.7811048030853271, 2.006983995437622, 2.3786988258361816, 2.294654130935669, 2.1733922958374023, 2.506955146789551, 2.4138195514678955, 2.370812177658081, 2.4377551078796387, 2.148597240447998, 2.159207344055176, 2.2337379455566406, 2.507091999053955, 1.7753331661224365]\n",
            "[2.336547374725342, 1.8444472551345825, 2.3389313220977783, 2.085333824157715, 2.414456367492676, 2.464381694793701, 2.472439765930176, 2.021740436553955, 2.0421462059020996, 2.3820910453796387, 2.2040157318115234, 2.044839859008789, 2.2001090049743652, 2.2295188903808594, 1.8762128353118896, 1.9266133308410645, 1.7751983404159546, 2.3652164936065674, 1.8006433248519897, 1.864515781402588, 1.7772060632705688, 2.3790950775146484, 2.5295143127441406, 2.425170660018921, 2.4966483116149902, 2.405994176864624, 2.2562859058380127, 2.435025930404663, 2.3823297023773193, 2.4933669567108154, 2.3531532287597656, 2.299020528793335, 2.288465976715088, 2.332207679748535, 2.015655994415283, 2.533632278442383, 2.502812623977661, 2.408766269683838, 2.2943544387817383, 2.2944347858428955, 2.0231757164001465, 2.4277231693267822, 2.036954402923584, 2.479891777038574, 1.8935468196868896, 1.938484787940979, 2.478817939758301, 1.779981017112732, 1.7797393798828125, 2.4177615642547607, 2.431135416030884, 2.3926620483398438, 2.3293302059173584, 2.2782373428344727, 2.4091899394989014, 2.4666030406951904, 2.1618781089782715, 1.619308352470398, 2.423912286758423, 2.4762074947357178, 2.524378538131714, 1.7804800271987915, 2.286968946456909, 2.497746229171753, 2.318558931350708, 2.3553154468536377, 2.227977991104126, 2.4090166091918945, 2.3802411556243896, 2.136812210083008, 1.6233240365982056, 2.4268245697021484, 1.623927354812622, 2.2897181510925293, 2.516660451889038, 2.375260591506958, 2.248793601989746, 2.3215057849884033, 2.451678514480591, 2.4658689498901367, 2.057105779647827, 2.4768760204315186, 1.6220872402191162, 2.3780627250671387, 2.4145348072052, 1.8181737661361694, 2.024364948272705, 2.4187490940093994, 2.020519256591797, 2.4864437580108643, 2.3651633262634277, 2.3877243995666504, 2.204268455505371, 1.9440734386444092, 1.8921281099319458, 2.14459228515625, 2.029512643814087, 2.4094276428222656, 2.4238200187683105, 1.9958674907684326, 2.489220380783081, 2.5191595554351807, 2.4864895343780518, 1.983015537261963, 2.1590397357940674, 2.4723925590515137, 2.273155927658081, 2.2835984230041504, 2.2865138053894043, 2.508990526199341, 2.0660669803619385, 2.2209489345550537, 2.4401352405548096, 2.1335747241973877, 2.155733346939087, 2.4388861656188965, 2.476626396179199, 2.1121585369110107, 1.6256365776062012, 2.491788864135742, 2.3237173557281494, 2.432544231414795, 2.3765759468078613, 1.8868287801742554, 2.4746079444885254, 2.487790107727051, 1.9715886116027832, 1.9229333400726318, 2.2912869453430176, 2.4271769523620605, 1.617557406425476, 2.04402232170105, 2.4212889671325684, 2.383026599884033, 2.427267074584961, 2.1823065280914307, 2.2075648307800293, 2.027202606201172, 2.2325026988983154, 2.2913424968719482, 2.4045674800872803, 2.4550857543945312, 2.342003107070923, 1.9367376565933228, 2.5073838233947754, 2.3301608562469482, 2.2158143520355225, 2.4751622676849365, 2.3751676082611084, 2.391737699508667, 2.4777185916900635, 2.425079345703125, 1.7796835899353027, 2.5465004444122314, 2.107882022857666, 2.341430187225342, 1.8753589391708374, 1.6255216598510742, 1.980857014656067, 1.8580788373947144, 2.096100330352783, 2.239959955215454, 2.5685946941375732, 2.4561798572540283, 1.9384102821350098, 2.321688175201416, 2.445657730102539, 2.1303374767303467, 2.156822681427002, 2.4890692234039307, 2.3598406314849854, 2.1286611557006836, 1.8897818326950073, 2.290065288543701, 2.4970743656158447, 1.9469432830810547, 2.160102128982544, 1.955940842628479, 2.5078306198120117, 2.3875420093536377, 1.892372727394104, 2.479123592376709, 2.2330002784729004, 2.4874722957611084, 2.426027774810791, 2.524585247039795, 2.4006519317626953, 2.5218513011932373, 2.2173538208007812, 2.2190871238708496, 2.141885280609131, 2.358980655670166, 2.173534631729126, 2.2857210636138916, 2.2681615352630615, 1.8547440767288208, 2.3312020301818848, 2.476506471633911, 2.089087963104248, 2.1577694416046143, 2.4365127086639404, 1.7762044668197632, 2.2663304805755615, 2.3532986640930176, 2.256547451019287, 2.424639940261841, 2.2887582778930664, 2.0993618965148926, 2.0008790493011475, 2.458030939102173, 2.406660795211792, 1.9205435514450073, 2.239654064178467, 2.2786448001861572, 2.5113704204559326, 2.490938663482666, 2.513654947280884, 2.1904056072235107, 1.8317736387252808, 2.0938022136688232, 2.419684886932373, 1.8830845355987549, 2.376915216445923, 2.4041666984558105, 2.1760668754577637, 2.3959498405456543, 1.8894277811050415, 2.4715418815612793, 2.159857749938965, 2.425062894821167, 2.441570997238159, 2.2485337257385254, 2.1961605548858643, 2.0004217624664307, 1.7789543867111206, 2.5187227725982666, 2.4198107719421387, 2.5199341773986816, 2.4736058712005615, 2.3959450721740723, 2.2932181358337402, 2.183425188064575, 2.3681983947753906, 2.460634708404541, 1.8084452152252197, 2.4040892124176025, 2.475872755050659, 1.8890126943588257, 2.402803897857666, 2.4797987937927246, 2.411410093307495, 2.0234017372131348, 2.507654905319214, 2.0624332427978516, 2.461153745651245]\n"
          ],
          "name": "stdout"
        },
        {
          "output_type": "display_data",
          "data": {
            "application/vnd.jupyter.widget-view+json": {
              "model_id": "77d349c0352d448dbab6aa7f0ff8d5d7",
              "version_minor": 0,
              "version_major": 2
            },
            "text/plain": [
              "HBox(children=(FloatProgress(value=0.0, max=246.0), HTML(value='')))"
            ]
          },
          "metadata": {
            "tags": []
          }
        },
        {
          "output_type": "stream",
          "text": [
            "\n",
            "[2.4090168476104736, 2.436816453933716, 1.9198640584945679, 2.45806622505188, 1.7837426662445068, 1.9360523223876953, 2.3694403171539307, 2.0653223991394043, 1.6226192712783813, 2.158677816390991, 2.3160793781280518, 2.501483678817749, 2.4783787727355957, 2.473010301589966, 2.01204514503479, 2.0339245796203613, 2.377122163772583, 1.8030366897583008, 2.3246686458587646, 2.0001964569091797, 2.2303695678710938, 2.167759418487549, 2.3959269523620605, 2.385359764099121, 2.3076064586639404, 2.377471685409546, 2.5114965438842773, 2.5327374935150146, 1.6185096502304077, 2.471066474914551, 2.5226340293884277, 2.450693368911743, 1.7792726755142212, 2.4977149963378906, 1.617945671081543, 2.3976664543151855, 2.423536777496338, 2.4550347328186035, 2.4519565105438232, 1.781408667564392, 1.619222640991211, 1.6195716857910156, 2.2493910789489746, 1.9917055368423462, 2.4061007499694824, 2.2613062858581543, 2.1909549236297607, 2.235581636428833, 2.3081798553466797, 2.491499662399292, 2.355275869369507, 2.3577630519866943, 2.392357587814331, 2.494049549102783, 2.4452807903289795, 1.6210541725158691, 2.0148658752441406, 2.189473867416382, 2.0814056396484375, 2.4505701065063477, 2.5057575702667236, 1.9577995538711548, 2.491182804107666, 2.3815853595733643, 2.100522041320801, 1.9662749767303467, 2.0661909580230713, 2.2298943996429443, 1.779494047164917, 2.233452081680298, 2.522939920425415, 2.532513380050659, 1.627091646194458, 1.9305930137634277, 2.4709904193878174, 1.982112169265747, 2.5149528980255127, 1.6191530227661133, 2.501624584197998, 2.334502935409546, 1.6225039958953857, 2.0076053142547607, 2.372400999069214, 2.3122031688690186, 1.781726598739624, 2.0489580631256104, 2.110248327255249, 2.4528026580810547, 2.2133591175079346, 1.9057996273040771, 2.446668863296509, 2.4884088039398193, 2.406503438949585, 1.7339197397232056, 2.135000705718994, 2.164048671722412, 2.1906726360321045, 2.189035415649414, 2.210472583770752, 1.916896939277649, 1.8293461799621582, 2.1714751720428467, 2.176088571548462, 2.340142250061035, 1.620373249053955, 1.9919722080230713, 2.358412742614746, 1.8232862949371338, 2.1282546520233154, 2.3449180126190186, 1.7804391384124756, 2.4102070331573486, 2.4995343685150146, 2.2945828437805176, 2.4539530277252197, 2.4589173793792725, 2.434844732284546, 2.467395782470703, 2.035715341567993, 2.4543206691741943, 2.018893241882324, 2.220832109451294, 2.4467406272888184, 2.4562106132507324, 2.407191276550293, 2.231238842010498, 2.4274470806121826, 2.22453236579895, 2.484473466873169, 2.4126534461975098, 1.7808200120925903, 2.2361373901367188, 2.3455522060394287, 2.517632484436035, 2.3399953842163086, 2.475364923477173, 1.9831551313400269, 2.404489040374756, 2.151296854019165, 1.7880232334136963, 2.4397058486938477, 2.44112491607666, 2.274317979812622, 2.242424249649048, 2.4347026348114014, 2.248387575149536, 1.9717931747436523, 2.0973987579345703, 2.1700732707977295, 2.0840935707092285, 1.7820711135864258, 2.4421603679656982, 2.2913315296173096, 1.9392039775848389, 2.1321139335632324, 2.110546350479126, 2.5361056327819824, 2.375535726547241, 1.8310697078704834, 2.157792091369629, 2.2392590045928955, 2.304445266723633, 2.546644926071167, 2.4534342288970947, 2.4942843914031982, 2.419843912124634, 1.7825171947479248, 2.453425884246826, 2.35882568359375, 2.4221184253692627, 2.478510618209839, 2.4177069664001465, 2.5023386478424072, 2.598491907119751, 2.334261178970337, 2.5072176456451416, 2.4224133491516113, 2.263237953186035, 2.4557204246520996, 1.7781422138214111, 2.3344385623931885, 2.220229148864746, 2.0764541625976562, 1.823053002357483, 2.0472381114959717, 2.4212863445281982, 2.4056456089019775, 2.2370524406433105, 2.2576346397399902, 2.0704421997070312, 2.4293434619903564, 2.1503453254699707, 1.7829350233078003, 2.5099844932556152, 2.106307029724121, 1.9885302782058716, 2.4906773567199707, 2.2321977615356445, 2.438037633895874, 2.365495443344116, 2.4096362590789795, 2.463205575942993, 2.3051629066467285, 2.421462059020996, 2.411503791809082, 2.391507148742676, 1.8610397577285767, 2.112135410308838, 2.376244068145752, 2.5245327949523926, 2.059077262878418, 2.287548780441284, 2.4656689167022705, 1.6231037378311157, 1.7858831882476807, 2.322578191757202, 2.3843507766723633, 2.2292375564575195, 2.443054676055908, 2.058398962020874, 2.0937247276306152, 1.6192699670791626, 1.882843017578125, 2.5007543563842773, 1.9732692241668701, 2.449052333831787, 2.0016191005706787, 2.4315237998962402, 2.4588801860809326, 1.778806447982788, 2.0857489109039307, 2.061333417892456, 1.780586838722229, 2.4733715057373047, 2.414196729660034, 1.6212999820709229, 2.2903506755828857, 2.201411724090576, 2.2374267578125, 2.465114116668701, 2.488435983657837, 2.439389944076538, 2.268796682357788, 2.402306079864502, 2.462139129638672, 2.2790842056274414]\n",
            "[1.6204743385314941, 1.7776516675949097, 2.508028507232666, 1.8857653141021729, 2.394803762435913, 2.3505678176879883, 2.4662222862243652, 1.938468337059021, 2.3798766136169434, 2.373760461807251, 2.423383951187134, 2.0653398036956787, 2.4782323837280273, 2.377779245376587, 2.130737781524658, 2.4164035320281982, 2.083489418029785, 2.4468352794647217, 2.1825897693634033, 2.1441452503204346, 2.031705617904663, 2.2017085552215576, 2.443521022796631, 2.3830010890960693, 2.4416239261627197, 2.0127344131469727, 2.520878791809082, 2.428288698196411, 2.275691270828247, 2.420337677001953, 2.448751211166382, 2.479410171508789, 2.1205639839172363, 2.458472967147827, 2.351837158203125, 2.103240489959717, 1.8207511901855469, 2.50224232673645, 2.2951343059539795, 2.28010892868042, 1.6187764406204224, 2.2549986839294434, 2.2186882495880127, 1.87891685962677, 2.157970666885376, 1.7798442840576172, 2.0197558403015137, 2.5456326007843018, 2.395904064178467, 2.1748523712158203, 1.946242332458496, 2.487384557723999, 2.426173210144043, 2.245339870452881, 2.4627370834350586, 1.8467451333999634, 1.6221293210983276, 2.2823684215545654, 2.379051685333252, 2.4773521423339844, 2.0898149013519287, 2.0444726943969727, 1.9273393154144287, 1.9833643436431885, 2.467761993408203, 2.0362236499786377, 1.6199829578399658, 2.387803554534912, 2.4394192695617676, 2.473637342453003, 2.294114351272583, 2.532562017440796, 2.3665895462036133, 1.8716026544570923, 2.1291732788085938, 2.0441412925720215, 2.266371488571167, 2.396749496459961, 2.192260980606079, 2.15608286857605, 2.457536220550537, 2.325716495513916, 2.2006747722625732, 1.867712378501892, 1.6156005859375, 2.3848671913146973, 1.8111608028411865, 2.4936060905456543, 2.32824969291687, 2.2299890518188477, 2.247999668121338, 2.013923168182373, 2.408189058303833, 2.4333910942077637, 1.855915904045105, 2.4807214736938477, 2.269386053085327, 2.2847723960876465, 2.4876749515533447, 1.880997657775879, 2.2251803874969482, 2.365516185760498, 2.428880453109741, 2.4078638553619385, 2.287899971008301, 2.2917706966400146, 2.2861697673797607, 1.7830641269683838, 2.287010669708252, 2.408653736114502, 2.357957124710083, 2.547621726989746, 2.284620523452759, 2.401862144470215, 2.3807103633880615, 1.8811746835708618, 2.3283181190490723, 2.2378666400909424, 2.3672492504119873, 2.064971446990967, 2.3523459434509277, 1.9981274604797363, 2.4555299282073975, 2.4747514724731445, 2.5077602863311768, 2.2179393768310547, 1.6142913103103638, 2.01285982131958, 2.4438114166259766, 2.4084312915802, 1.7784558534622192, 2.3764069080352783, 2.0011701583862305, 1.7823505401611328, 1.9583297967910767, 2.4382193088531494, 2.3168137073516846, 1.7814908027648926, 2.394117832183838, 2.439502716064453, 2.3989057540893555, 2.512871503829956, 2.17984676361084, 2.0291249752044678, 2.4388134479522705, 2.4723238945007324, 2.4887259006500244, 1.8844561576843262, 2.4068708419799805, 2.446388006210327, 2.489081621170044, 2.3144664764404297, 2.5662167072296143, 2.490694761276245, 2.484886884689331, 2.2814784049987793, 1.9467679262161255, 2.330364942550659, 2.4499664306640625, 2.333988666534424, 2.198456287384033, 2.421290636062622, 2.2020349502563477, 2.237441062927246, 2.4671037197113037, 2.465195417404175, 2.490290403366089, 2.503349781036377, 2.402648687362671, 2.391044855117798, 1.9740430116653442, 2.3404526710510254, 1.8944464921951294, 2.1567752361297607, 2.288213014602661, 2.423194646835327, 2.01932692527771, 2.0112366676330566, 2.5171871185302734, 1.7826894521713257, 2.2306606769561768, 2.2014517784118652, 2.5133790969848633, 1.9407209157943726, 2.238971471786499, 2.4704198837280273, 1.8037443161010742, 2.283511161804199, 2.227269172668457, 2.1432104110717773, 1.857223629951477, 2.476731300354004, 2.2169055938720703, 2.4076905250549316, 1.9855895042419434, 2.1333327293395996, 2.465318441390991, 2.215290069580078, 2.490469217300415, 2.4148478507995605, 1.8963512182235718, 2.284046173095703, 2.2878057956695557, 2.039010524749756, 1.9242552518844604, 2.082345962524414, 2.4227001667022705, 2.172264575958252, 2.426532030105591, 1.7825828790664673, 2.452603340148926, 2.523188352584839, 2.442328929901123, 2.1443419456481934, 2.4169325828552246, 2.094820499420166, 2.410215377807617, 2.3584375381469727, 1.935150384902954, 2.408320665359497, 2.4039487838745117, 2.5225141048431396, 1.8815841674804688, 2.1460273265838623, 2.4001693725585938, 2.4285383224487305, 2.053769111633301, 2.2930986881256104, 2.527414083480835, 2.5022358894348145, 2.0991430282592773, 2.422868013381958, 2.383885383605957, 2.159114122390747, 1.8343071937561035, 2.4211244583129883, 2.163902521133423, 1.6218379735946655, 2.4079387187957764, 2.1093533039093018, 2.355001449584961, 2.4977986812591553, 2.0041697025299072, 2.3373799324035645, 2.535600423812866, 2.5457167625427246, 2.320513963699341, 1.8791427612304688, 2.40663480758667, 2.3846068382263184, 2.407600164413452, 2.533247470855713, 2.471189260482788, 1.9288055896759033, 2.388012409210205]\n",
            "\n"
          ],
          "name": "stdout"
        }
      ]
    },
    {
      "cell_type": "code",
      "metadata": {
        "id": "997Ig-qy1Ycv",
        "colab_type": "code",
        "colab": {
          "base_uri": "https://localhost:8080/",
          "height": 514
        },
        "outputId": "c42f2ae5-0427-4593-c74d-658809dd206c"
      },
      "source": [
        "plt.figure()\n",
        "plt.plot(train_losses,label='training loss')\n",
        "plt.plot(val_losses,label='validation loss')\n",
        "plt.legend()\n",
        "plt.savefig('loss.png')\n",
        "plt.figure()\n",
        "plt.plot(train_accs,label='training accuracy')\n",
        "plt.plot(val_accs,label='validation accuracy')\n",
        "plt.legend()\n",
        "plt.savefig('accuracy.png')"
      ],
      "execution_count": 32,
      "outputs": [
        {
          "output_type": "display_data",
          "data": {
            "image/png": "[encoded data removed]",
            "text/plain": [
              "<Figure size 432x288 with 1 Axes>"
            ]
          },
          "metadata": {
            "tags": [],
            "needs_background": "light"
          }
        },
        {
          "output_type": "display_data",
          "data": {
            "image/png": "[encoded data removed]",
            "text/plain": [
              "<Figure size 432x288 with 1 Axes>"
            ]
          },
          "metadata": {
            "tags": [],
            "needs_background": "light"
          }
        }
      ]
    },
    {
      "cell_type": "code",
      "metadata": {
        "id": "kJS7PAICeSXP",
        "colab_type": "code",
        "colab": {
          "base_uri": "https://localhost:8080/",
          "height": 34
        },
        "outputId": "054f1773-830a-4469-b3c9-f4800e616ee7"
      },
      "source": [
        "from google.colab import drive\n",
        "drive.mount('/content/drive')"
      ],
      "execution_count": 33,
      "outputs": [
        {
          "output_type": "stream",
          "text": [
            "Drive already mounted at /content/drive; to attempt to forcibly remount, call drive.mount(\"/content/drive\", force_remount=True).\n"
          ],
          "name": "stdout"
        }
      ]
    },
    {
      "cell_type": "code",
      "metadata": {
        "id": "pcNywTsmIGVx",
        "colab_type": "code",
        "colab": {}
      },
      "source": [
        ""
      ],
      "execution_count": null,
      "outputs": []
    },
    {
      "cell_type": "code",
      "metadata": {
        "id": "vGXcZ-0a1Yc7",
        "colab_type": "code",
        "colab": {}
      },
      "source": [
        ""
      ],
      "execution_count": null,
      "outputs": []
    },
    {
      "cell_type": "code",
      "metadata": {
        "id": "TX37BqSO1YdB",
        "colab_type": "code",
        "colab": {}
      },
      "source": [
        ""
      ],
      "execution_count": null,
      "outputs": []
    },
    {
      "cell_type": "code",
      "metadata": {
        "id": "hW9HeoAN1YdE",
        "colab_type": "code",
        "colab": {}
      },
      "source": [
        "\n"
      ],
      "execution_count": null,
      "outputs": []
    }
  ]
}